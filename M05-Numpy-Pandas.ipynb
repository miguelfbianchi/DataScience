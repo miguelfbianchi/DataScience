{
 "cells": [
  {
   "cell_type": "code",
   "execution_count": 1,
   "id": "1474edbb",
   "metadata": {},
   "outputs": [],
   "source": [
    "import numpy as np\n",
    "import pandas as pd"
   ]
  },
  {
   "cell_type": "code",
   "execution_count": 2,
   "id": "070b266a",
   "metadata": {},
   "outputs": [],
   "source": [
    "from sklearn.datasets import load_iris"
   ]
  },
  {
   "cell_type": "code",
   "execution_count": 3,
   "id": "046352b6",
   "metadata": {},
   "outputs": [],
   "source": [
    "X=load_iris().data\n",
    "y=load_iris().target"
   ]
  },
  {
   "cell_type": "markdown",
   "id": "eb945bc6",
   "metadata": {},
   "source": [
    "Exercício 1"
   ]
  },
  {
   "cell_type": "code",
   "execution_count": 4,
   "id": "ee33a33d",
   "metadata": {},
   "outputs": [
    {
     "data": {
      "text/plain": [
       "array([[5.1, 3.5, 1.4, 0.2, 0. ],\n",
       "       [4.9, 3. , 1.4, 0.2, 0. ],\n",
       "       [4.7, 3.2, 1.3, 0.2, 0. ],\n",
       "       [4.6, 3.1, 1.5, 0.2, 0. ],\n",
       "       [5. , 3.6, 1.4, 0.2, 0. ],\n",
       "       [5.4, 3.9, 1.7, 0.4, 0. ],\n",
       "       [4.6, 3.4, 1.4, 0.3, 0. ],\n",
       "       [5. , 3.4, 1.5, 0.2, 0. ],\n",
       "       [4.4, 2.9, 1.4, 0.2, 0. ],\n",
       "       [4.9, 3.1, 1.5, 0.1, 0. ]])"
      ]
     },
     "execution_count": 4,
     "metadata": {},
     "output_type": "execute_result"
    }
   ],
   "source": [
    "# compatibilização das dimensões das duas arrays para permitir a concatenação\n",
    "y_bid = y.reshape (-1,1)\n",
    "\n",
    "# concatenação na horizontal entre as arrays\n",
    "arr_concat = np.hstack ((X,y_bid))\n",
    "\n",
    "arr_concat[:10]"
   ]
  },
  {
   "cell_type": "code",
   "execution_count": 5,
   "id": "07960fe9",
   "metadata": {},
   "outputs": [
    {
     "data": {
      "text/html": [
       "<div>\n",
       "<style scoped>\n",
       "    .dataframe tbody tr th:only-of-type {\n",
       "        vertical-align: middle;\n",
       "    }\n",
       "\n",
       "    .dataframe tbody tr th {\n",
       "        vertical-align: top;\n",
       "    }\n",
       "\n",
       "    .dataframe thead th {\n",
       "        text-align: right;\n",
       "    }\n",
       "</style>\n",
       "<table border=\"1\" class=\"dataframe\">\n",
       "  <thead>\n",
       "    <tr style=\"text-align: right;\">\n",
       "      <th></th>\n",
       "      <th>X1</th>\n",
       "      <th>X2</th>\n",
       "      <th>X3</th>\n",
       "      <th>X4</th>\n",
       "      <th>target</th>\n",
       "    </tr>\n",
       "  </thead>\n",
       "  <tbody>\n",
       "    <tr>\n",
       "      <th>0</th>\n",
       "      <td>5.1</td>\n",
       "      <td>3.5</td>\n",
       "      <td>1.4</td>\n",
       "      <td>0.2</td>\n",
       "      <td>0.0</td>\n",
       "    </tr>\n",
       "    <tr>\n",
       "      <th>1</th>\n",
       "      <td>4.9</td>\n",
       "      <td>3.0</td>\n",
       "      <td>1.4</td>\n",
       "      <td>0.2</td>\n",
       "      <td>0.0</td>\n",
       "    </tr>\n",
       "    <tr>\n",
       "      <th>2</th>\n",
       "      <td>4.7</td>\n",
       "      <td>3.2</td>\n",
       "      <td>1.3</td>\n",
       "      <td>0.2</td>\n",
       "      <td>0.0</td>\n",
       "    </tr>\n",
       "    <tr>\n",
       "      <th>3</th>\n",
       "      <td>4.6</td>\n",
       "      <td>3.1</td>\n",
       "      <td>1.5</td>\n",
       "      <td>0.2</td>\n",
       "      <td>0.0</td>\n",
       "    </tr>\n",
       "    <tr>\n",
       "      <th>4</th>\n",
       "      <td>5.0</td>\n",
       "      <td>3.6</td>\n",
       "      <td>1.4</td>\n",
       "      <td>0.2</td>\n",
       "      <td>0.0</td>\n",
       "    </tr>\n",
       "  </tbody>\n",
       "</table>\n",
       "</div>"
      ],
      "text/plain": [
       "    X1   X2   X3   X4  target\n",
       "0  5.1  3.5  1.4  0.2     0.0\n",
       "1  4.9  3.0  1.4  0.2     0.0\n",
       "2  4.7  3.2  1.3  0.2     0.0\n",
       "3  4.6  3.1  1.5  0.2     0.0\n",
       "4  5.0  3.6  1.4  0.2     0.0"
      ]
     },
     "execution_count": 5,
     "metadata": {},
     "output_type": "execute_result"
    }
   ],
   "source": [
    "# criação do Data Frame a partir da array concatenada\n",
    "\n",
    "df = pd.DataFrame (arr_concat, columns = [\"X1\",\"X2\",\"X3\",\"X4\",\"target\"])\n",
    "\n",
    "df.head()"
   ]
  },
  {
   "cell_type": "markdown",
   "id": "d45087ce",
   "metadata": {},
   "source": [
    "Exercício 2"
   ]
  },
  {
   "cell_type": "code",
   "execution_count": 6,
   "id": "25a2c8f7",
   "metadata": {},
   "outputs": [
    {
     "data": {
      "text/plain": [
       "target\n",
       "0.0    3.428\n",
       "1.0    2.770\n",
       "2.0    2.974\n",
       "dtype: float64"
      ]
     },
     "execution_count": 6,
     "metadata": {},
     "output_type": "execute_result"
    }
   ],
   "source": [
    "# cálculo da média de valores da coluna X2 aplicada em cada subgrupo do DataFrame, definidos pelos valores de \"target\" \n",
    "\n",
    "df.groupby (by=\"target\") . apply (lambda a: a.X2.mean())"
   ]
  },
  {
   "cell_type": "markdown",
   "id": "42f74839",
   "metadata": {},
   "source": [
    "Exercício 3"
   ]
  },
  {
   "cell_type": "code",
   "execution_count": 7,
   "id": "89c4836b",
   "metadata": {},
   "outputs": [
    {
     "data": {
      "text/html": [
       "<div>\n",
       "<style scoped>\n",
       "    .dataframe tbody tr th:only-of-type {\n",
       "        vertical-align: middle;\n",
       "    }\n",
       "\n",
       "    .dataframe tbody tr th {\n",
       "        vertical-align: top;\n",
       "    }\n",
       "\n",
       "    .dataframe thead th {\n",
       "        text-align: right;\n",
       "    }\n",
       "</style>\n",
       "<table border=\"1\" class=\"dataframe\">\n",
       "  <thead>\n",
       "    <tr style=\"text-align: right;\">\n",
       "      <th></th>\n",
       "      <th>X1</th>\n",
       "      <th>X2</th>\n",
       "      <th>X3</th>\n",
       "      <th>X4</th>\n",
       "      <th>target</th>\n",
       "      <th>target_2</th>\n",
       "    </tr>\n",
       "  </thead>\n",
       "  <tbody>\n",
       "    <tr>\n",
       "      <th>0</th>\n",
       "      <td>5.1</td>\n",
       "      <td>3.5</td>\n",
       "      <td>1.4</td>\n",
       "      <td>0.2</td>\n",
       "      <td>0.0</td>\n",
       "      <td>A</td>\n",
       "    </tr>\n",
       "    <tr>\n",
       "      <th>1</th>\n",
       "      <td>4.9</td>\n",
       "      <td>3.0</td>\n",
       "      <td>1.4</td>\n",
       "      <td>0.2</td>\n",
       "      <td>0.0</td>\n",
       "      <td>A</td>\n",
       "    </tr>\n",
       "    <tr>\n",
       "      <th>2</th>\n",
       "      <td>4.7</td>\n",
       "      <td>3.2</td>\n",
       "      <td>1.3</td>\n",
       "      <td>0.2</td>\n",
       "      <td>0.0</td>\n",
       "      <td>A</td>\n",
       "    </tr>\n",
       "    <tr>\n",
       "      <th>3</th>\n",
       "      <td>4.6</td>\n",
       "      <td>3.1</td>\n",
       "      <td>1.5</td>\n",
       "      <td>0.2</td>\n",
       "      <td>0.0</td>\n",
       "      <td>A</td>\n",
       "    </tr>\n",
       "    <tr>\n",
       "      <th>4</th>\n",
       "      <td>5.0</td>\n",
       "      <td>3.6</td>\n",
       "      <td>1.4</td>\n",
       "      <td>0.2</td>\n",
       "      <td>0.0</td>\n",
       "      <td>A</td>\n",
       "    </tr>\n",
       "  </tbody>\n",
       "</table>\n",
       "</div>"
      ],
      "text/plain": [
       "    X1   X2   X3   X4  target target_2\n",
       "0  5.1  3.5  1.4  0.2     0.0        A\n",
       "1  4.9  3.0  1.4  0.2     0.0        A\n",
       "2  4.7  3.2  1.3  0.2     0.0        A\n",
       "3  4.6  3.1  1.5  0.2     0.0        A\n",
       "4  5.0  3.6  1.4  0.2     0.0        A"
      ]
     },
     "execution_count": 7,
     "metadata": {},
     "output_type": "execute_result"
    }
   ],
   "source": [
    "# criação de uma nova coluna \"target_2\" com mapeamento de valores correspondentes aos da coluna \"target\"\n",
    "# informados através do dicionário\n",
    "\n",
    "df[\"target_2\"] = df.target.map ({0:\"A\", 1:\"B\" ,2:\"C\"})\n",
    "\n",
    "df.head()"
   ]
  },
  {
   "cell_type": "markdown",
   "id": "20fa2200",
   "metadata": {},
   "source": [
    "Exercício 4"
   ]
  },
  {
   "cell_type": "code",
   "execution_count": 8,
   "id": "911623ad",
   "metadata": {},
   "outputs": [],
   "source": [
    "# criação de novo dataframe filtrando o dataframe original. Condição: X1 maior que 6 ou target diferente de 2.\n",
    "# OBS: ao utilizar o operador \"or\", retornava erro. Pesquisei a respeito e encontrei referência ao operador \"|\"\n",
    "# espero que esteja correto :)\n",
    "\n",
    "df1 = df[(df.X1 > 6) | (df.target!=2)]"
   ]
  },
  {
   "cell_type": "code",
   "execution_count": 9,
   "id": "84bcf14d",
   "metadata": {},
   "outputs": [],
   "source": [
    "# criação de novo dataframe filtrando os primeiros 15 índices do dataframe original\n",
    "\n",
    "df2=df[:15]"
   ]
  },
  {
   "cell_type": "code",
   "execution_count": 10,
   "id": "e72cd5fb",
   "metadata": {},
   "outputs": [],
   "source": [
    "# transformação dos dataframes em arrays, após remover a coluna target_2 em formato string\n",
    "\n",
    "arr_df1=df1.drop(\"target_2\",axis=1).values\n",
    "arr_df2=df2.drop(\"target_2\",axis=1).values"
   ]
  },
  {
   "cell_type": "code",
   "execution_count": 11,
   "id": "a13b3beb",
   "metadata": {},
   "outputs": [],
   "source": [
    "# multiplicação de arrays df1 pela transposta de df2 através da função dot\n",
    "\n",
    "arrays_multiplicadas=np.dot(arr_df1,arr_df2.T)"
   ]
  },
  {
   "cell_type": "code",
   "execution_count": 12,
   "id": "759dd908",
   "metadata": {},
   "outputs": [
    {
     "name": "stdout",
     "output_type": "stream",
     "text": [
      "[[40.26 37.49 37.03 ... 36.96 33.99 45.3 ]\n",
      " [37.49 35.01 34.49 ... 34.5  31.63 42.14]\n",
      " [37.03 34.49 34.06 ... 34.   31.26 41.66]\n",
      " ...\n",
      " [48.26 45.75 44.49 ... 44.93 40.28 52.92]\n",
      " [51.33 48.53 47.31 ... 47.68 42.87 56.34]\n",
      " [51.54 48.6  47.5  ... 47.75 43.03 56.5 ]]\n"
     ]
    }
   ],
   "source": [
    "print (arrays_multiplicadas)"
   ]
  },
  {
   "cell_type": "markdown",
   "id": "1a51a598",
   "metadata": {},
   "source": [
    "\n",
    "Exercício 5:\n"
   ]
  },
  {
   "cell_type": "code",
   "execution_count": 13,
   "id": "077c3c50",
   "metadata": {},
   "outputs": [],
   "source": [
    "def GerarArray (N):   \n",
    "    return np.arange(0,N+1,1)\n",
    "   \n",
    "def Embaralhar (array):\n",
    "    return np.random.choice(array,size=len(array),replace=False)\n",
    "\n",
    "def GerarArrayRand (N):\n",
    "    return np.random.randint(0,N,N)\n"
   ]
  },
  {
   "cell_type": "code",
   "execution_count": 14,
   "id": "4cec6adb",
   "metadata": {},
   "outputs": [
    {
     "name": "stdout",
     "output_type": "stream",
     "text": [
      "A matriz de  11  números é:  [ 0  1  2  3  4  5  6  7  8  9 10]\n",
      "A matriz embaralhada é:  [ 9  5  7  4 10  0  6  2  3  1  8]\n",
      "Uma nova matriz embaralhada de  10  números foi criada:  [7 9 1 5 8 0 6 7 6 0]\n"
     ]
    }
   ],
   "source": [
    "arr_nova=GerarArray (10)\n",
    "print (\"A matriz de \",len(arr_nova), \" números é: \",arr_nova)\n",
    "\n",
    "arr_embaralhada=Embaralhar(arr_nova)\n",
    "print (\"A matriz embaralhada é: \",arr_embaralhada)\n",
    "\n",
    "arr_rand=GerarArrayRand(10)\n",
    "print (\"Uma nova matriz embaralhada de \",len(arr_rand),\" números foi criada: \",arr_rand)"
   ]
  },
  {
   "cell_type": "markdown",
   "id": "667c1e68",
   "metadata": {},
   "source": [
    "\n",
    "Exercício 6:\n",
    "\n"
   ]
  },
  {
   "cell_type": "code",
   "execution_count": 15,
   "id": "68cd7e6c",
   "metadata": {},
   "outputs": [],
   "source": [
    "def DivideDados(X,p):\n",
    "    linha_div=int(np.round(X.shape[0]*p))\n",
    "    X1=X[:linha_div]\n",
    "    X2=X[linha_div:]\n",
    "    return X1,X2"
   ]
  },
  {
   "cell_type": "code",
   "execution_count": 16,
   "id": "13d5e6d4",
   "metadata": {},
   "outputs": [
    {
     "name": "stdout",
     "output_type": "stream",
     "text": [
      "A matriz a ser dividida é: \n",
      " [[23 33 13 42]\n",
      " [17 48 14 32]\n",
      " [48 49 34  0]\n",
      " [16 41 41 30]\n",
      " [ 8 26 23 39]\n",
      " [41 37 38 24]\n",
      " [ 1  7  6  3]\n",
      " [14 44 12 28]\n",
      " [16 45 16 18]\n",
      " [ 5 27 39 38]\n",
      " [10 24  4 17]\n",
      " [10 20 23  8]] \n",
      " usando o índice  0.7548231904534848\n"
     ]
    }
   ],
   "source": [
    "arr_dividir = np.random.randint(0,50,(12,4))\n",
    "percentual=np.random.random()\n",
    "print (\"A matriz a ser dividida é: \\n\",arr_dividir, \"\\n usando o índice \",percentual)"
   ]
  },
  {
   "cell_type": "code",
   "execution_count": 17,
   "id": "72d633d2",
   "metadata": {},
   "outputs": [
    {
     "name": "stdout",
     "output_type": "stream",
     "text": [
      "Matriz X1: \n",
      " [[23 33 13 42]\n",
      " [17 48 14 32]\n",
      " [48 49 34  0]\n",
      " [16 41 41 30]\n",
      " [ 8 26 23 39]\n",
      " [41 37 38 24]\n",
      " [ 1  7  6  3]\n",
      " [14 44 12 28]\n",
      " [16 45 16 18]]\n",
      "Matriz_X2: \n",
      " [[ 5 27 39 38]\n",
      " [10 24  4 17]\n",
      " [10 20 23  8]]\n"
     ]
    }
   ],
   "source": [
    "print (\"Matriz X1: \\n\",DivideDados(arr_dividir,percentual)[0])\n",
    "print (\"Matriz_X2: \\n\",DivideDados(arr_dividir,percentual)[1])"
   ]
  },
  {
   "cell_type": "code",
   "execution_count": null,
   "id": "0c7a1d8a",
   "metadata": {},
   "outputs": [],
   "source": []
  }
 ],
 "metadata": {
  "kernelspec": {
   "display_name": "Python 3",
   "language": "python",
   "name": "python3"
  },
  "language_info": {
   "codemirror_mode": {
    "name": "ipython",
    "version": 3
   },
   "file_extension": ".py",
   "mimetype": "text/x-python",
   "name": "python",
   "nbconvert_exporter": "python",
   "pygments_lexer": "ipython3",
   "version": "3.8.8"
  }
 },
 "nbformat": 4,
 "nbformat_minor": 5
}
