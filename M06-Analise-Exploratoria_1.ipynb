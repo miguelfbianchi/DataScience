{
 "cells": [
  {
   "cell_type": "markdown",
   "id": "14f58cdf",
   "metadata": {},
   "source": [
    "# Exercícios 1 e 3 (tarefa para retorno 1)"
   ]
  },
  {
   "cell_type": "markdown",
   "id": "307d4984",
   "metadata": {},
   "source": [
    "### Ex. 1: Analise e quantifique a relação da variável survived com a variável sex usando o conjunto de dados do titanic. Faça seus gráficos e calcule o chi-quadrado para quantificar a relação.\n",
    "\n",
    "\n",
    "**Explicação:** aqui iremos verificar se a sobrevivência tem relação direta com o sexo do passageiro, ou seja, a taxa de mulheres sobreviventes foi maior do que a de homens? \n",
    "\n",
    "É importante ter sempre em mente a hipótese que queremos testar, nesse caso pode ser por exemplo: \n",
    "\n",
    "    - h0 = a taxa de sobrevivência tem relação direta com o sexo do passageiro. (Hipótese nula)\n",
    "    - h1 = a taxa de sobrevivência não tem relação direta com o sexo do passageiro. (Hipótese alternativa)\n",
    "\n",
    "Aqui estamos estudando duas variáveis categóricas: survived = 0 ou 1 e sex = male ou female, por isso podemos usar o chi-quadrado.\n",
    "\n",
    "O chi-quadrado tem como princípio básico comparar proporções, ou seja, possíveis divergências entre as frequências observadas e esperadas para um certo evento.\n",
    "\n",
    "\n",
    "**Etapas básicas:**\n",
    "\n",
    "- Carregar os dados titanic.csv;\n",
    "- Analisar a tabela;\n",
    "- Estudar a relação entre as variáveis survived e sex;\n",
    "    - Criar diferentes gráficos\n",
    "    - Calcular chi-quadrado\n",
    "    \n",
    "\n",
    "Obs.: Todos os códigos são correspondentes aos códigos vistos em aula!"
   ]
  },
  {
   "cell_type": "code",
   "execution_count": 1,
   "id": "2a27c323",
   "metadata": {},
   "outputs": [],
   "source": [
    "import pandas as pd\n",
    "import numpy as np\n",
    "import matplotlib.pyplot as plt"
   ]
  },
  {
   "cell_type": "code",
   "execution_count": 2,
   "id": "24720a45",
   "metadata": {},
   "outputs": [
    {
     "data": {
      "text/html": [
       "<div>\n",
       "<style scoped>\n",
       "    .dataframe tbody tr th:only-of-type {\n",
       "        vertical-align: middle;\n",
       "    }\n",
       "\n",
       "    .dataframe tbody tr th {\n",
       "        vertical-align: top;\n",
       "    }\n",
       "\n",
       "    .dataframe thead th {\n",
       "        text-align: right;\n",
       "    }\n",
       "</style>\n",
       "<table border=\"1\" class=\"dataframe\">\n",
       "  <thead>\n",
       "    <tr style=\"text-align: right;\">\n",
       "      <th></th>\n",
       "      <th>PassengerId</th>\n",
       "      <th>Survived</th>\n",
       "      <th>Pclass</th>\n",
       "      <th>Name</th>\n",
       "      <th>Sex</th>\n",
       "      <th>Age</th>\n",
       "      <th>SibSp</th>\n",
       "      <th>Parch</th>\n",
       "      <th>Ticket</th>\n",
       "      <th>Fare</th>\n",
       "      <th>Cabin</th>\n",
       "      <th>Embarked</th>\n",
       "    </tr>\n",
       "  </thead>\n",
       "  <tbody>\n",
       "    <tr>\n",
       "      <th>0</th>\n",
       "      <td>1</td>\n",
       "      <td>0</td>\n",
       "      <td>3</td>\n",
       "      <td>Braund, Mr. Owen Harris</td>\n",
       "      <td>male</td>\n",
       "      <td>22.0</td>\n",
       "      <td>1</td>\n",
       "      <td>0</td>\n",
       "      <td>A/5 21171</td>\n",
       "      <td>7.2500</td>\n",
       "      <td>NaN</td>\n",
       "      <td>S</td>\n",
       "    </tr>\n",
       "    <tr>\n",
       "      <th>1</th>\n",
       "      <td>2</td>\n",
       "      <td>1</td>\n",
       "      <td>1</td>\n",
       "      <td>Cumings, Mrs. John Bradley (Florence Briggs Th...</td>\n",
       "      <td>female</td>\n",
       "      <td>38.0</td>\n",
       "      <td>1</td>\n",
       "      <td>0</td>\n",
       "      <td>PC 17599</td>\n",
       "      <td>71.2833</td>\n",
       "      <td>C85</td>\n",
       "      <td>C</td>\n",
       "    </tr>\n",
       "    <tr>\n",
       "      <th>2</th>\n",
       "      <td>3</td>\n",
       "      <td>1</td>\n",
       "      <td>3</td>\n",
       "      <td>Heikkinen, Miss. Laina</td>\n",
       "      <td>female</td>\n",
       "      <td>26.0</td>\n",
       "      <td>0</td>\n",
       "      <td>0</td>\n",
       "      <td>STON/O2. 3101282</td>\n",
       "      <td>7.9250</td>\n",
       "      <td>NaN</td>\n",
       "      <td>S</td>\n",
       "    </tr>\n",
       "    <tr>\n",
       "      <th>3</th>\n",
       "      <td>4</td>\n",
       "      <td>1</td>\n",
       "      <td>1</td>\n",
       "      <td>Futrelle, Mrs. Jacques Heath (Lily May Peel)</td>\n",
       "      <td>female</td>\n",
       "      <td>35.0</td>\n",
       "      <td>1</td>\n",
       "      <td>0</td>\n",
       "      <td>113803</td>\n",
       "      <td>53.1000</td>\n",
       "      <td>C123</td>\n",
       "      <td>S</td>\n",
       "    </tr>\n",
       "    <tr>\n",
       "      <th>4</th>\n",
       "      <td>5</td>\n",
       "      <td>0</td>\n",
       "      <td>3</td>\n",
       "      <td>Allen, Mr. William Henry</td>\n",
       "      <td>male</td>\n",
       "      <td>35.0</td>\n",
       "      <td>0</td>\n",
       "      <td>0</td>\n",
       "      <td>373450</td>\n",
       "      <td>8.0500</td>\n",
       "      <td>NaN</td>\n",
       "      <td>S</td>\n",
       "    </tr>\n",
       "  </tbody>\n",
       "</table>\n",
       "</div>"
      ],
      "text/plain": [
       "   PassengerId  Survived  Pclass  \\\n",
       "0            1         0       3   \n",
       "1            2         1       1   \n",
       "2            3         1       3   \n",
       "3            4         1       1   \n",
       "4            5         0       3   \n",
       "\n",
       "                                                Name     Sex   Age  SibSp  \\\n",
       "0                            Braund, Mr. Owen Harris    male  22.0      1   \n",
       "1  Cumings, Mrs. John Bradley (Florence Briggs Th...  female  38.0      1   \n",
       "2                             Heikkinen, Miss. Laina  female  26.0      0   \n",
       "3       Futrelle, Mrs. Jacques Heath (Lily May Peel)  female  35.0      1   \n",
       "4                           Allen, Mr. William Henry    male  35.0      0   \n",
       "\n",
       "   Parch            Ticket     Fare Cabin Embarked  \n",
       "0      0         A/5 21171   7.2500   NaN        S  \n",
       "1      0          PC 17599  71.2833   C85        C  \n",
       "2      0  STON/O2. 3101282   7.9250   NaN        S  \n",
       "3      0            113803  53.1000  C123        S  \n",
       "4      0            373450   8.0500   NaN        S  "
      ]
     },
     "execution_count": 2,
     "metadata": {},
     "output_type": "execute_result"
    }
   ],
   "source": [
    "df = pd.read_csv('titanic.csv')\n",
    "\n",
    "df.head()"
   ]
  },
  {
   "cell_type": "code",
   "execution_count": 3,
   "id": "66893a5e",
   "metadata": {},
   "outputs": [
    {
     "name": "stdout",
     "output_type": "stream",
     "text": [
      "A probabilidade de sobreviver da população geral é:  38.38 %\n",
      "A probabilidade de sobreviver sendo mulher é:  74.2 %\n",
      "A probabilidade de sobreviver sendo homem é:  18.89 %\n"
     ]
    }
   ],
   "source": [
    "prob_sobrev_geral = (df[df.Survived==1].shape[0]) / df.Survived.shape[0]\n",
    "prob_sobrev_mulher = df[(df.Survived==1) & (df.Sex=='female')].shape[0] / df[(df.Sex=='female')].shape[0]\n",
    "prob_sobrev_homem = df[(df.Survived==1) & (df.Sex=='male')].shape[0] / df[(df.Sex=='male')].shape[0]\n",
    "\n",
    "print ('A probabilidade de sobreviver da população geral é: ', round(prob_sobrev_geral*100,2),'%')\n",
    "print ('A probabilidade de sobreviver sendo mulher é: ', round(prob_sobrev_mulher*100,2),'%')\n",
    "print ('A probabilidade de sobreviver sendo homem é: ', round(prob_sobrev_homem*100,2),'%')"
   ]
  },
  {
   "cell_type": "markdown",
   "id": "453ba28d",
   "metadata": {},
   "source": [
    "### Como as probabilidades de sobrevivência por sexo diferem da probabilidade geral, vamos investigar a relação entre as duas variáveis qualitativas."
   ]
  },
  {
   "cell_type": "code",
   "execution_count": 4,
   "id": "ec8f1080",
   "metadata": {},
   "outputs": [
    {
     "data": {
      "text/html": [
       "<div>\n",
       "<style scoped>\n",
       "    .dataframe tbody tr th:only-of-type {\n",
       "        vertical-align: middle;\n",
       "    }\n",
       "\n",
       "    .dataframe tbody tr th {\n",
       "        vertical-align: top;\n",
       "    }\n",
       "\n",
       "    .dataframe thead th {\n",
       "        text-align: right;\n",
       "    }\n",
       "</style>\n",
       "<table border=\"1\" class=\"dataframe\">\n",
       "  <thead>\n",
       "    <tr style=\"text-align: right;\">\n",
       "      <th></th>\n",
       "      <th>0</th>\n",
       "      <th>1</th>\n",
       "    </tr>\n",
       "    <tr>\n",
       "      <th>Sex</th>\n",
       "      <th></th>\n",
       "      <th></th>\n",
       "    </tr>\n",
       "  </thead>\n",
       "  <tbody>\n",
       "    <tr>\n",
       "      <th>female</th>\n",
       "      <td>81</td>\n",
       "      <td>233</td>\n",
       "    </tr>\n",
       "    <tr>\n",
       "      <th>male</th>\n",
       "      <td>468</td>\n",
       "      <td>109</td>\n",
       "    </tr>\n",
       "  </tbody>\n",
       "</table>\n",
       "</div>"
      ],
      "text/plain": [
       "          0    1\n",
       "Sex             \n",
       "female   81  233\n",
       "male    468  109"
      ]
     },
     "execution_count": 4,
     "metadata": {},
     "output_type": "execute_result"
    }
   ],
   "source": [
    "# criação de tabela derivada da original, com as frequências absolutas da variável survived agrupada por sex\n",
    "\n",
    "df_sex=df.groupby(by='Sex').apply(lambda x: x.Survived.value_counts()).unstack()\n",
    "df_sex"
   ]
  },
  {
   "cell_type": "code",
   "execution_count": 5,
   "id": "6bf7c10a",
   "metadata": {},
   "outputs": [
    {
     "data": {
      "text/html": [
       "<div>\n",
       "<style scoped>\n",
       "    .dataframe tbody tr th:only-of-type {\n",
       "        vertical-align: middle;\n",
       "    }\n",
       "\n",
       "    .dataframe tbody tr th {\n",
       "        vertical-align: top;\n",
       "    }\n",
       "\n",
       "    .dataframe thead th {\n",
       "        text-align: right;\n",
       "    }\n",
       "</style>\n",
       "<table border=\"1\" class=\"dataframe\">\n",
       "  <thead>\n",
       "    <tr style=\"text-align: right;\">\n",
       "      <th></th>\n",
       "      <th>0</th>\n",
       "      <th>1</th>\n",
       "    </tr>\n",
       "    <tr>\n",
       "      <th>Sex</th>\n",
       "      <th></th>\n",
       "      <th></th>\n",
       "    </tr>\n",
       "  </thead>\n",
       "  <tbody>\n",
       "    <tr>\n",
       "      <th>female</th>\n",
       "      <td>0.257962</td>\n",
       "      <td>0.742038</td>\n",
       "    </tr>\n",
       "    <tr>\n",
       "      <th>male</th>\n",
       "      <td>0.811092</td>\n",
       "      <td>0.188908</td>\n",
       "    </tr>\n",
       "  </tbody>\n",
       "</table>\n",
       "</div>"
      ],
      "text/plain": [
       "               0         1\n",
       "Sex                       \n",
       "female  0.257962  0.742038\n",
       "male    0.811092  0.188908"
      ]
     },
     "execution_count": 5,
     "metadata": {},
     "output_type": "execute_result"
    }
   ],
   "source": [
    "# criação de tabela de frequência relativa (proporcional) de sobreviventes por sexo\n",
    "\n",
    "df_sex_pct=df.groupby(by='Sex').apply(lambda x: x.Survived.value_counts() / x.shape[0]).unstack()\n",
    "df_sex_pct"
   ]
  },
  {
   "cell_type": "code",
   "execution_count": 6,
   "id": "ccdf1579",
   "metadata": {},
   "outputs": [],
   "source": [
    "pct_morreram = df_sex.iloc[:,0].sum() / df_sex.sum().sum()\n",
    "pct_sobreviveram = df_sex.iloc[:,1].sum() / df_sex.sum().sum()"
   ]
  },
  {
   "cell_type": "code",
   "execution_count": 7,
   "id": "55db5886",
   "metadata": {},
   "outputs": [
    {
     "data": {
      "text/html": [
       "<div>\n",
       "<style scoped>\n",
       "    .dataframe tbody tr th:only-of-type {\n",
       "        vertical-align: middle;\n",
       "    }\n",
       "\n",
       "    .dataframe tbody tr th {\n",
       "        vertical-align: top;\n",
       "    }\n",
       "\n",
       "    .dataframe thead th {\n",
       "        text-align: right;\n",
       "    }\n",
       "</style>\n",
       "<table border=\"1\" class=\"dataframe\">\n",
       "  <thead>\n",
       "    <tr style=\"text-align: right;\">\n",
       "      <th></th>\n",
       "      <th>0</th>\n",
       "      <th>1</th>\n",
       "    </tr>\n",
       "    <tr>\n",
       "      <th>Sex</th>\n",
       "      <th></th>\n",
       "      <th></th>\n",
       "    </tr>\n",
       "  </thead>\n",
       "  <tbody>\n",
       "    <tr>\n",
       "      <th>female</th>\n",
       "      <td>0.257962</td>\n",
       "      <td>0.742038</td>\n",
       "    </tr>\n",
       "    <tr>\n",
       "      <th>male</th>\n",
       "      <td>0.811092</td>\n",
       "      <td>0.188908</td>\n",
       "    </tr>\n",
       "    <tr>\n",
       "      <th>geral</th>\n",
       "      <td>0.616162</td>\n",
       "      <td>0.383838</td>\n",
       "    </tr>\n",
       "  </tbody>\n",
       "</table>\n",
       "</div>"
      ],
      "text/plain": [
       "               0         1\n",
       "Sex                       \n",
       "female  0.257962  0.742038\n",
       "male    0.811092  0.188908\n",
       "geral   0.616162  0.383838"
      ]
     },
     "execution_count": 7,
     "metadata": {},
     "output_type": "execute_result"
    }
   ],
   "source": [
    "# adicionar à tabela de frequência relativa a informação da taxa de sobrevivência geral por sexo para incluir no gráfico\n",
    "\n",
    "df_sex_pct.loc['geral']=[pct_morreram,pct_sobreviveram]\n",
    "df_sex_pct"
   ]
  },
  {
   "cell_type": "code",
   "execution_count": 8,
   "id": "a92498af",
   "metadata": {},
   "outputs": [],
   "source": [
    "labels = list(df_sex_pct.index)\n",
    "x = np.arange(len(labels))\n",
    "\n",
    "labels1 = list(df_sex.index)\n",
    "x1 = np.arange(len(labels1))\n",
    "\n",
    "width = 0.35\n"
   ]
  },
  {
   "cell_type": "code",
   "execution_count": 9,
   "id": "7a86ce97",
   "metadata": {},
   "outputs": [
    {
     "data": {
      "image/png": "[encoded data removed]",
      "text/plain": [
       "<Figure size 432x288 with 1 Axes>"
      ]
     },
     "metadata": {
      "needs_background": "light"
     },
     "output_type": "display_data"
    },
    {
     "data": {
      "image/png": "[encoded data removed]",
      "text/plain": [
       "<Figure size 432x288 with 1 Axes>"
      ]
     },
     "metadata": {
      "needs_background": "light"
     },
     "output_type": "display_data"
    }
   ],
   "source": [
    "# construção de dois gráficos para auxiliar na visualização dos dados: frequências relativas por sexo e geral /\n",
    "# frequência absoluta por sexo\n",
    "\n",
    "fig,ax = plt.subplots()\n",
    "rects1 = ax.bar(x-width/2,df_sex_pct[0],width,label='Morreram')\n",
    "rect1 = ax.bar(x+width/2,df_sex_pct[1],width,label='Sobreviveram')\n",
    "ax.set_ylabel('%')\n",
    "ax.set_title('Distribuição da Survived por Sexo')\n",
    "ax.set_xticks(x)\n",
    "ax.set_xticklabels(labels)\n",
    "ax.legend()\n",
    "\n",
    "plt.show()\n",
    "\n",
    "fig,ax1 = plt.subplots()\n",
    "rects2 = ax1.bar(x1,df_sex[0],width,label='Morreram')\n",
    "rects3 = ax1.bar(x1,df_sex[1],width,bottom=df_sex[0],label='Sobreviveram')\n",
    "\n",
    "ax1.set_ylabel('Frequência')\n",
    "ax1.set_title('Distribuição e frequência da Survived por Sexo')\n",
    "ax1.set_xticks(x1)\n",
    "ax1.set_xticklabels(labels1)\n",
    "ax1.legend()\n",
    "\n",
    "plt.show()"
   ]
  },
  {
   "cell_type": "markdown",
   "id": "bfc9e964",
   "metadata": {},
   "source": [
    "#### Os gráficos evidenciam a divergência entre as taxas de sobrevivência esperadas, dada a observação do grupo / população total.\n",
    "#### Ou seja, o sexo do passageiro tem relação com a probabilidade de sobreviver. Vamos medir essa divervência calculando o chi-quadrado"
   ]
  },
  {
   "cell_type": "code",
   "execution_count": 10,
   "id": "f93d2b69",
   "metadata": {},
   "outputs": [
    {
     "data": {
      "text/html": [
       "<div>\n",
       "<style scoped>\n",
       "    .dataframe tbody tr th:only-of-type {\n",
       "        vertical-align: middle;\n",
       "    }\n",
       "\n",
       "    .dataframe tbody tr th {\n",
       "        vertical-align: top;\n",
       "    }\n",
       "\n",
       "    .dataframe thead th {\n",
       "        text-align: right;\n",
       "    }\n",
       "</style>\n",
       "<table border=\"1\" class=\"dataframe\">\n",
       "  <thead>\n",
       "    <tr style=\"text-align: right;\">\n",
       "      <th></th>\n",
       "      <th>0</th>\n",
       "      <th>1</th>\n",
       "      <th>total</th>\n",
       "    </tr>\n",
       "    <tr>\n",
       "      <th>Sex</th>\n",
       "      <th></th>\n",
       "      <th></th>\n",
       "      <th></th>\n",
       "    </tr>\n",
       "  </thead>\n",
       "  <tbody>\n",
       "    <tr>\n",
       "      <th>female</th>\n",
       "      <td>81</td>\n",
       "      <td>233</td>\n",
       "      <td>314</td>\n",
       "    </tr>\n",
       "    <tr>\n",
       "      <th>male</th>\n",
       "      <td>468</td>\n",
       "      <td>109</td>\n",
       "      <td>577</td>\n",
       "    </tr>\n",
       "  </tbody>\n",
       "</table>\n",
       "</div>"
      ],
      "text/plain": [
       "          0    1  total\n",
       "Sex                    \n",
       "female   81  233    314\n",
       "male    468  109    577"
      ]
     },
     "execution_count": 10,
     "metadata": {},
     "output_type": "execute_result"
    }
   ],
   "source": [
    "# acresentamos a coluna com os totais por sexo para poder calcular as frequências esperadas a partir da taxa de\n",
    "# sobrevivência global\n",
    "\n",
    "df_sex['total']=df_sex[[0]].values + df_sex[[1]].values\n",
    "df_sex"
   ]
  },
  {
   "cell_type": "code",
   "execution_count": 11,
   "id": "dd62e4e5",
   "metadata": {},
   "outputs": [
    {
     "data": {
      "text/html": [
       "<div>\n",
       "<style scoped>\n",
       "    .dataframe tbody tr th:only-of-type {\n",
       "        vertical-align: middle;\n",
       "    }\n",
       "\n",
       "    .dataframe tbody tr th {\n",
       "        vertical-align: top;\n",
       "    }\n",
       "\n",
       "    .dataframe thead th {\n",
       "        text-align: right;\n",
       "    }\n",
       "</style>\n",
       "<table border=\"1\" class=\"dataframe\">\n",
       "  <thead>\n",
       "    <tr style=\"text-align: right;\">\n",
       "      <th></th>\n",
       "      <th>0</th>\n",
       "      <th>1</th>\n",
       "    </tr>\n",
       "  </thead>\n",
       "  <tbody>\n",
       "    <tr>\n",
       "      <th>0</th>\n",
       "      <td>193.474747</td>\n",
       "      <td>120.525253</td>\n",
       "    </tr>\n",
       "    <tr>\n",
       "      <th>1</th>\n",
       "      <td>355.525253</td>\n",
       "      <td>221.474747</td>\n",
       "    </tr>\n",
       "  </tbody>\n",
       "</table>\n",
       "</div>"
      ],
      "text/plain": [
       "            0           1\n",
       "0  193.474747  120.525253\n",
       "1  355.525253  221.474747"
      ]
     },
     "execution_count": 11,
     "metadata": {},
     "output_type": "execute_result"
    }
   ],
   "source": [
    "# cálculo das frequências esperadas de mortes e sobreviventes\n",
    "\n",
    "esp_0 = df_sex.total * pct_morreram\n",
    "esp_1 = df_sex.total * pct_sobreviveram\n",
    "df_sex_esp = pd.DataFrame(np.c_[esp_0,esp_1])\n",
    "df_sex_esp"
   ]
  },
  {
   "cell_type": "code",
   "execution_count": 12,
   "id": "d4288021",
   "metadata": {},
   "outputs": [
    {
     "data": {
      "text/plain": [
       "array([[12650.56881951, 12650.56881951],\n",
       "       [12650.56881951, 12650.56881951]])"
      ]
     },
     "execution_count": 12,
     "metadata": {},
     "output_type": "execute_result"
    }
   ],
   "source": [
    "# cálculo dos desvios de cada evento em relação ao esperado\n",
    "\n",
    "desvios_ao_quad = (df_sex.iloc[:,:2].values - df_sex_esp.iloc[:,:2].values)**2\n",
    "desvios_ao_quad"
   ]
  },
  {
   "cell_type": "code",
   "execution_count": 13,
   "id": "664fed9b",
   "metadata": {},
   "outputs": [
    {
     "name": "stdout",
     "output_type": "stream",
     "text": [
      "O chi-quadrado é:  263.05\n"
     ]
    }
   ],
   "source": [
    "#cálculo do chi-quadrado\n",
    "\n",
    "chi_quad = sum(sum(desvios_ao_quad / df_sex_esp.values))\n",
    "print ('O chi-quadrado é: ', round(chi_quad,2))"
   ]
  },
  {
   "cell_type": "markdown",
   "id": "8f885c69",
   "metadata": {},
   "source": [
    "O valor do chi-quadrado calculado é de 263.05. Sendo diferente de 0, indica a divergência entre o observado e o esperado. Ou seja, a probabilidade de sobreviver tem grandes chances de ser diferente o esperado da pop. geral, conforme o sexo do passageiro.\n",
    "\n",
    "OBS: diferente do r2 e da correlação linear, não saberia ainda interpretar quantitativamente o valor do chi-quadrado. Preciso aprofundar os conhecimentos em estatística."
   ]
  },
  {
   "cell_type": "markdown",
   "id": "0da21e5d",
   "metadata": {},
   "source": [
    "### Ex3: Use o dataframe df, carregado abaixo, onde cada observação corresponde a uma reclamação feita pelo consumidor, para responder as perguntas abaixo:\n",
    "\n",
    "\n",
    "1 - Qual o número de reclamações por Estado?\n",
    "\n",
    "    - Calcular a quantidade de reclamações de acordo com os estados.\n",
    "\n",
    "2 - Qual a quantidade de reclamações por sexo?\n",
    "\n",
    "    - Calcular a quantidade de reclamações de acordo com o sexo do consumidor.\n",
    "\n",
    "3 - O tempo de resposta tem alguma correlação com a nota do consumidor?\n",
    "\n",
    "    - Verificar a correlação entre o tempo de resposta e a nota atribuída pelo consumidor.\n",
    "    - Importante verificar qual o tipo das duas variáveis para determinar o método estatístico.\n",
    "    - Lembre-se que aqui você estará testando a seguinte hipótese: \n",
    "    \n",
    "        - h0 = o tempo de resposta tem relação direta com a nota do consumidor. (Hipótese nula)\n",
    "        - h1 = o tempo de resposta não tem relação direta com a nota do consumidor. (Hipótese alternativa)\n",
    "\n",
    "4 - Proporção de reclamações registradas e não respondidas.\n",
    "\n",
    "    - Calcular a proporção (porcentagem) do total de reclamações registradas que não foram respondidas.\n",
    "\n",
    "5 - Imagine que você é alguém responsável por monitorar a satisfação dos consumidores. Que outros tipos de pergunta e análises você entende que poderiam ser feitas? Acrescente mais duas perguntas feitas por você, bem como suas análises para responde-las. \n",
    "\n",
    "    - Proponha outras hipóteses e verifique-as (no mínimo duas).\n",
    "\n",
    "\n",
    "**Importante**: É interessante que as análises contenham gráficos! No dia-a-dia de um cientista, grande parte do  trabalho é analisar dados e gerar visualizações para apresentá-las.\n",
    "\n",
    "\n",
    "_fonte_ : https://dados.gov.br/dataset/reclamacoes-do-consumidor-gov-br1 (Nesse link estão os dicionário de dados, caso possua dúvidas sobre base)."
   ]
  },
  {
   "cell_type": "code",
   "execution_count": 14,
   "id": "cbc16510",
   "metadata": {},
   "outputs": [
    {
     "data": {
      "text/html": [
       "<div>\n",
       "<style scoped>\n",
       "    .dataframe tbody tr th:only-of-type {\n",
       "        vertical-align: middle;\n",
       "    }\n",
       "\n",
       "    .dataframe tbody tr th {\n",
       "        vertical-align: top;\n",
       "    }\n",
       "\n",
       "    .dataframe thead th {\n",
       "        text-align: right;\n",
       "    }\n",
       "</style>\n",
       "<table border=\"1\" class=\"dataframe\">\n",
       "  <thead>\n",
       "    <tr style=\"text-align: right;\">\n",
       "      <th></th>\n",
       "      <th>Gestor</th>\n",
       "      <th>Canal de Origem</th>\n",
       "      <th>Região</th>\n",
       "      <th>UF</th>\n",
       "      <th>Cidade</th>\n",
       "      <th>Sexo</th>\n",
       "      <th>Faixa Etária</th>\n",
       "      <th>Ano Abertura</th>\n",
       "      <th>Mês Abertura</th>\n",
       "      <th>Data Abertura</th>\n",
       "      <th>...</th>\n",
       "      <th>Como Comprou Contratou</th>\n",
       "      <th>Procurou Empresa</th>\n",
       "      <th>Respondida</th>\n",
       "      <th>Situação</th>\n",
       "      <th>Avaliação Reclamação</th>\n",
       "      <th>Nota do Consumidor</th>\n",
       "      <th>Análise da Recusa</th>\n",
       "      <th>Edição de Conteúdo</th>\n",
       "      <th>Interação do Gestor</th>\n",
       "      <th>Total</th>\n",
       "    </tr>\n",
       "  </thead>\n",
       "  <tbody>\n",
       "    <tr>\n",
       "      <th>0</th>\n",
       "      <td>Secretaria Nacional do Consumidor</td>\n",
       "      <td>Não identificado</td>\n",
       "      <td>SE</td>\n",
       "      <td>RJ</td>\n",
       "      <td>Itaboraí</td>\n",
       "      <td>M</td>\n",
       "      <td>entre 31 a 40 anos</td>\n",
       "      <td>2014</td>\n",
       "      <td>6</td>\n",
       "      <td>27/06/2014</td>\n",
       "      <td>...</td>\n",
       "      <td>Não comprei / contratei</td>\n",
       "      <td>S</td>\n",
       "      <td>S</td>\n",
       "      <td>Finalizada não avaliada</td>\n",
       "      <td>Não Avaliada</td>\n",
       "      <td>NaN</td>\n",
       "      <td>NaN</td>\n",
       "      <td>N</td>\n",
       "      <td>N</td>\n",
       "      <td>1</td>\n",
       "    </tr>\n",
       "    <tr>\n",
       "      <th>1</th>\n",
       "      <td>Instituto Estadual de Proteção e Defesa do Con...</td>\n",
       "      <td>Não identificado</td>\n",
       "      <td>SE</td>\n",
       "      <td>ES</td>\n",
       "      <td>Serra</td>\n",
       "      <td>F</td>\n",
       "      <td>entre 31 a 40 anos</td>\n",
       "      <td>2014</td>\n",
       "      <td>6</td>\n",
       "      <td>11/06/2014</td>\n",
       "      <td>...</td>\n",
       "      <td>Internet</td>\n",
       "      <td>S</td>\n",
       "      <td>S</td>\n",
       "      <td>Finalizada avaliada</td>\n",
       "      <td>Não Resolvida</td>\n",
       "      <td>1.0</td>\n",
       "      <td>NaN</td>\n",
       "      <td>N</td>\n",
       "      <td>N</td>\n",
       "      <td>1</td>\n",
       "    </tr>\n",
       "    <tr>\n",
       "      <th>2</th>\n",
       "      <td>Secretaria Nacional do Consumidor</td>\n",
       "      <td>Não identificado</td>\n",
       "      <td>SE</td>\n",
       "      <td>RJ</td>\n",
       "      <td>Volta Redonda</td>\n",
       "      <td>M</td>\n",
       "      <td>entre 31 a 40 anos</td>\n",
       "      <td>2014</td>\n",
       "      <td>6</td>\n",
       "      <td>27/06/2014</td>\n",
       "      <td>...</td>\n",
       "      <td>Internet</td>\n",
       "      <td>S</td>\n",
       "      <td>S</td>\n",
       "      <td>Finalizada avaliada</td>\n",
       "      <td>Resolvida</td>\n",
       "      <td>5.0</td>\n",
       "      <td>NaN</td>\n",
       "      <td>N</td>\n",
       "      <td>N</td>\n",
       "      <td>1</td>\n",
       "    </tr>\n",
       "    <tr>\n",
       "      <th>3</th>\n",
       "      <td>Instituto de Promoção e Defesa do Cidadão e Co...</td>\n",
       "      <td>Não identificado</td>\n",
       "      <td>NE</td>\n",
       "      <td>MA</td>\n",
       "      <td>São Luís</td>\n",
       "      <td>F</td>\n",
       "      <td>entre 31 a 40 anos</td>\n",
       "      <td>2014</td>\n",
       "      <td>5</td>\n",
       "      <td>29/05/2014</td>\n",
       "      <td>...</td>\n",
       "      <td>Não comprei / contratei</td>\n",
       "      <td>S</td>\n",
       "      <td>S</td>\n",
       "      <td>Finalizada avaliada</td>\n",
       "      <td>Resolvida</td>\n",
       "      <td>5.0</td>\n",
       "      <td>NaN</td>\n",
       "      <td>N</td>\n",
       "      <td>N</td>\n",
       "      <td>1</td>\n",
       "    </tr>\n",
       "    <tr>\n",
       "      <th>4</th>\n",
       "      <td>Secretaria de Desenvolvimento Social e Direito...</td>\n",
       "      <td>Não identificado</td>\n",
       "      <td>NE</td>\n",
       "      <td>PE</td>\n",
       "      <td>Recife</td>\n",
       "      <td>M</td>\n",
       "      <td>entre 21 a 30 anos</td>\n",
       "      <td>2014</td>\n",
       "      <td>6</td>\n",
       "      <td>30/06/2014</td>\n",
       "      <td>...</td>\n",
       "      <td>Internet</td>\n",
       "      <td>S</td>\n",
       "      <td>S</td>\n",
       "      <td>Finalizada não avaliada</td>\n",
       "      <td>Não Avaliada</td>\n",
       "      <td>NaN</td>\n",
       "      <td>NaN</td>\n",
       "      <td>N</td>\n",
       "      <td>N</td>\n",
       "      <td>1</td>\n",
       "    </tr>\n",
       "  </tbody>\n",
       "</table>\n",
       "<p>5 rows × 38 columns</p>\n",
       "</div>"
      ],
      "text/plain": [
       "                                              Gestor   Canal de Origem Região  \\\n",
       "0                  Secretaria Nacional do Consumidor  Não identificado     SE   \n",
       "1  Instituto Estadual de Proteção e Defesa do Con...  Não identificado     SE   \n",
       "2                  Secretaria Nacional do Consumidor  Não identificado     SE   \n",
       "3  Instituto de Promoção e Defesa do Cidadão e Co...  Não identificado     NE   \n",
       "4  Secretaria de Desenvolvimento Social e Direito...  Não identificado     NE   \n",
       "\n",
       "   UF         Cidade Sexo        Faixa Etária  Ano Abertura  Mês Abertura  \\\n",
       "0  RJ       Itaboraí    M  entre 31 a 40 anos          2014             6   \n",
       "1  ES          Serra    F  entre 31 a 40 anos          2014             6   \n",
       "2  RJ  Volta Redonda    M  entre 31 a 40 anos          2014             6   \n",
       "3  MA       São Luís    F  entre 31 a 40 anos          2014             5   \n",
       "4  PE         Recife    M  entre 21 a 30 anos          2014             6   \n",
       "\n",
       "  Data Abertura  ...   Como Comprou Contratou Procurou Empresa Respondida  \\\n",
       "0    27/06/2014  ...  Não comprei / contratei                S          S   \n",
       "1    11/06/2014  ...                 Internet                S          S   \n",
       "2    27/06/2014  ...                 Internet                S          S   \n",
       "3    29/05/2014  ...  Não comprei / contratei                S          S   \n",
       "4    30/06/2014  ...                 Internet                S          S   \n",
       "\n",
       "                  Situação Avaliação Reclamação Nota do Consumidor  \\\n",
       "0  Finalizada não avaliada         Não Avaliada                NaN   \n",
       "1      Finalizada avaliada        Não Resolvida                1.0   \n",
       "2      Finalizada avaliada            Resolvida                5.0   \n",
       "3      Finalizada avaliada            Resolvida                5.0   \n",
       "4  Finalizada não avaliada         Não Avaliada                NaN   \n",
       "\n",
       "  Análise da Recusa Edição de Conteúdo Interação do Gestor Total  \n",
       "0               NaN                  N                   N     1  \n",
       "1               NaN                  N                   N     1  \n",
       "2               NaN                  N                   N     1  \n",
       "3               NaN                  N                   N     1  \n",
       "4               NaN                  N                   N     1  \n",
       "\n",
       "[5 rows x 38 columns]"
      ]
     },
     "execution_count": 14,
     "metadata": {},
     "output_type": "execute_result"
    }
   ],
   "source": [
    "df1 = pd.read_csv(\"dadosgovbr---2014.csv\",sep = ';', encoding=\"latin-1\")\n",
    "\n",
    "df1.head()"
   ]
  },
  {
   "cell_type": "code",
   "execution_count": 15,
   "id": "f73bc328",
   "metadata": {},
   "outputs": [
    {
     "data": {
      "text/plain": [
       "(43987, 38)"
      ]
     },
     "execution_count": 15,
     "metadata": {},
     "output_type": "execute_result"
    }
   ],
   "source": [
    "df1.shape"
   ]
  },
  {
   "cell_type": "code",
   "execution_count": 16,
   "id": "84b343de",
   "metadata": {},
   "outputs": [
    {
     "data": {
      "text/plain": [
       "Gestor                     object\n",
       "Canal de Origem            object\n",
       "Região                     object\n",
       "UF                         object\n",
       "Cidade                     object\n",
       "Sexo                       object\n",
       "Faixa Etária               object\n",
       "Ano Abertura                int64\n",
       "Mês Abertura                int64\n",
       "Data Abertura              object\n",
       "Hora Abertura              object\n",
       "Data Resposta              object\n",
       "Hora Resposta              object\n",
       "Data Análise               object\n",
       "Hora Análise               object\n",
       "Data Recusa                object\n",
       "Hora Recusa                object\n",
       "Data Finalização           object\n",
       "Hora Finalização           object\n",
       "Prazo Resposta             object\n",
       "Prazo Analise Gestor      float64\n",
       "Tempo Resposta            float64\n",
       "Nome Fantasia              object\n",
       "Segmento de Mercado        object\n",
       "Área                       object\n",
       "Assunto                    object\n",
       "Grupo Problema             object\n",
       "Problema                   object\n",
       "Como Comprou Contratou     object\n",
       "Procurou Empresa           object\n",
       "Respondida                 object\n",
       "Situação                   object\n",
       "Avaliação Reclamação       object\n",
       "Nota do Consumidor        float64\n",
       "Análise da Recusa          object\n",
       "Edição de Conteúdo         object\n",
       "Interação do Gestor        object\n",
       "Total                       int64\n",
       "dtype: object"
      ]
     },
     "execution_count": 16,
     "metadata": {},
     "output_type": "execute_result"
    }
   ],
   "source": [
    "df1.dtypes"
   ]
  },
  {
   "cell_type": "code",
   "execution_count": 17,
   "id": "ec03cfb8",
   "metadata": {},
   "outputs": [
    {
     "data": {
      "text/plain": [
       "SP    11882\n",
       "PR     6140\n",
       "RJ     4907\n",
       "MG     4186\n",
       "BA     2443\n",
       "RS     1941\n",
       "DF     1805\n",
       "PE     1626\n",
       "SC     1458\n",
       "MA     1082\n",
       "ES     1081\n",
       "CE     1068\n",
       "MT     1012\n",
       "GO      886\n",
       "MS      531\n",
       "AC      449\n",
       "PB      343\n",
       "AM      291\n",
       "PA      211\n",
       "RN      160\n",
       "RO      119\n",
       "AL      104\n",
       "SE       97\n",
       "PI       77\n",
       "TO       46\n",
       "RR       24\n",
       "AP       18\n",
       "Name: UF, dtype: int64"
      ]
     },
     "execution_count": 17,
     "metadata": {},
     "output_type": "execute_result"
    }
   ],
   "source": [
    "# cálculo da quantidade de reclamações por estados:\n",
    "\n",
    "recl_estados=df1.UF.value_counts()\n",
    "recl_estados"
   ]
  },
  {
   "cell_type": "code",
   "execution_count": 18,
   "id": "ea25a9fe",
   "metadata": {},
   "outputs": [
    {
     "data": {
      "image/png": "[encoded data removed]",
      "text/plain": [
       "<Figure size 432x288 with 1 Axes>"
      ]
     },
     "metadata": {},
     "output_type": "display_data"
    }
   ],
   "source": [
    "plt.pie(recl_estados,radius=2,labels=recl_estados.index)\n",
    "plt.show()"
   ]
  },
  {
   "cell_type": "code",
   "execution_count": 19,
   "id": "62b3c6ef",
   "metadata": {},
   "outputs": [
    {
     "data": {
      "text/plain": [
       "M    27895\n",
       "F    16092\n",
       "Name: Sexo, dtype: int64"
      ]
     },
     "execution_count": 19,
     "metadata": {},
     "output_type": "execute_result"
    }
   ],
   "source": [
    "# cálculo da quantidade de reclamações por sexo\n",
    "\n",
    "recl_sexo=df1.Sexo.value_counts()\n",
    "recl_sexo"
   ]
  },
  {
   "cell_type": "code",
   "execution_count": 20,
   "id": "06352d7c",
   "metadata": {},
   "outputs": [
    {
     "data": {
      "image/png": "[encoded data removed]",
      "text/plain": [
       "<Figure size 432x288 with 1 Axes>"
      ]
     },
     "metadata": {
      "needs_background": "light"
     },
     "output_type": "display_data"
    }
   ],
   "source": [
    "plt.bar(recl_sexo.index, recl_sexo)\n",
    "plt.suptitle('Frequência de reclamações por Sexo')\n",
    "plt.show()"
   ]
  },
  {
   "cell_type": "code",
   "execution_count": 21,
   "id": "95251306",
   "metadata": {},
   "outputs": [],
   "source": [
    "# renomear as colunas da fonte original eliminando espaços em branco\n",
    "\n",
    "df1.rename(columns={'Tempo Resposta':'tempo_resposta','Nota do Consumidor':'nota_consumidor'},inplace=True)"
   ]
  },
  {
   "cell_type": "code",
   "execution_count": 22,
   "id": "44940b0e",
   "metadata": {},
   "outputs": [
    {
     "data": {
      "image/png": "[encoded data removed]",
      "text/plain": [
       "<Figure size 1080x360 with 2 Axes>"
      ]
     },
     "metadata": {
      "needs_background": "light"
     },
     "output_type": "display_data"
    }
   ],
   "source": [
    "fig = plt.figure (figsize=[15,5])\n",
    "\n",
    "plt.subplot(1,2,1)\n",
    "plt.bar(df1.nota_consumidor.value_counts().index,df1.nota_consumidor.value_counts())\n",
    "plt.xlabel('Nota Consumidor')\n",
    "\n",
    "plt.subplot(1,2,2)\n",
    "plt.bar(df1.tempo_resposta.value_counts().index,df1.tempo_resposta.value_counts())\n",
    "plt.xlabel('Tempo de Resposta (dias)')\n",
    "\n",
    "plt.show()"
   ]
  },
  {
   "cell_type": "code",
   "execution_count": 23,
   "id": "b24a5c4f",
   "metadata": {},
   "outputs": [
    {
     "data": {
      "text/html": [
       "<div>\n",
       "<style scoped>\n",
       "    .dataframe tbody tr th:only-of-type {\n",
       "        vertical-align: middle;\n",
       "    }\n",
       "\n",
       "    .dataframe tbody tr th {\n",
       "        vertical-align: top;\n",
       "    }\n",
       "\n",
       "    .dataframe thead th {\n",
       "        text-align: right;\n",
       "    }\n",
       "</style>\n",
       "<table border=\"1\" class=\"dataframe\">\n",
       "  <thead>\n",
       "    <tr style=\"text-align: right;\">\n",
       "      <th></th>\n",
       "      <th>nota_consumidor</th>\n",
       "    </tr>\n",
       "  </thead>\n",
       "  <tbody>\n",
       "    <tr>\n",
       "      <th>Ano Abertura</th>\n",
       "      <td>NaN</td>\n",
       "    </tr>\n",
       "    <tr>\n",
       "      <th>Mês Abertura</th>\n",
       "      <td>0.073964</td>\n",
       "    </tr>\n",
       "    <tr>\n",
       "      <th>Prazo Analise Gestor</th>\n",
       "      <td>-0.068360</td>\n",
       "    </tr>\n",
       "    <tr>\n",
       "      <th>tempo_resposta</th>\n",
       "      <td>-0.187150</td>\n",
       "    </tr>\n",
       "    <tr>\n",
       "      <th>nota_consumidor</th>\n",
       "      <td>1.000000</td>\n",
       "    </tr>\n",
       "    <tr>\n",
       "      <th>Total</th>\n",
       "      <td>NaN</td>\n",
       "    </tr>\n",
       "  </tbody>\n",
       "</table>\n",
       "</div>"
      ],
      "text/plain": [
       "                      nota_consumidor\n",
       "Ano Abertura                      NaN\n",
       "Mês Abertura                 0.073964\n",
       "Prazo Analise Gestor        -0.068360\n",
       "tempo_resposta              -0.187150\n",
       "nota_consumidor              1.000000\n",
       "Total                             NaN"
      ]
     },
     "execution_count": 23,
     "metadata": {},
     "output_type": "execute_result"
    }
   ],
   "source": [
    "# Tempo de resposta e Nota do Consumidor são variáveis quantitativas. Usaremos correlação linear para verificar\n",
    "# as relação entre elas\n",
    "\n",
    "df1.corr()[['nota_consumidor']]"
   ]
  },
  {
   "cell_type": "markdown",
   "id": "87df73da",
   "metadata": {},
   "source": [
    "#### Tempo de Resposta e Nota do Consumidor tem correlação negativa de aprox. 0,18. Indica na medida em que uma aumenta, a outra diminui, ou seja, quanto menor o tempo de resposta, maior a nota atribuída ao consumidor. No entanto, a variação do tempo de resposta explica somente 18% da variação da nota."
   ]
  },
  {
   "cell_type": "code",
   "execution_count": 24,
   "id": "f509becc",
   "metadata": {},
   "outputs": [
    {
     "name": "stdout",
     "output_type": "stream",
     "text": [
      "As reclamações registradas e não respondidas são  4.61 % do total\n"
     ]
    }
   ],
   "source": [
    "nao_respondidas = round((df1[df1.Respondida=='N'].shape[0] / df1.shape[0])*100,2)\n",
    "print (\"As reclamações registradas e não respondidas são \",nao_respondidas,\"% do total\")"
   ]
  },
  {
   "cell_type": "code",
   "execution_count": 25,
   "id": "9e0fb578",
   "metadata": {},
   "outputs": [
    {
     "name": "stdout",
     "output_type": "stream",
     "text": [
      "Atendimentos sem avaliação:  15360\n",
      "Percentual de atendimentos sem avaliação:  34.92 %\n"
     ]
    }
   ],
   "source": [
    "sem_nota=df1.nota_consumidor.isnull().sum()\n",
    "sem_nota_pct=df1.nota_consumidor.isnull().sum() / df1.shape[0]\n",
    "\n",
    "print (\"Atendimentos sem avaliação: \", sem_nota)\n",
    "print (\"Percentual de atendimentos sem avaliação: \", round(sem_nota_pct*100,2),\"%\")"
   ]
  },
  {
   "cell_type": "markdown",
   "id": "9148802a",
   "metadata": {},
   "source": [
    "#### Percentual significativo de atendimentos sem avaliação"
   ]
  },
  {
   "cell_type": "code",
   "execution_count": 26,
   "id": "fba5b26c",
   "metadata": {},
   "outputs": [
    {
     "data": {
      "text/plain": [
       "Finalizada não avaliada    13526\n",
       "Cancelada                   1742\n",
       "Encerrada                     92\n",
       "Name: Situação, dtype: int64"
      ]
     },
     "execution_count": 26,
     "metadata": {},
     "output_type": "execute_result"
    }
   ],
   "source": [
    "df1[df1.nota_consumidor.isnull()]['Situação'].value_counts()"
   ]
  },
  {
   "cell_type": "markdown",
   "id": "166d03a4",
   "metadata": {},
   "source": [
    "##### valores nulos são originados do próprio fluxo do atendimento, não por falhas da base de dados. Ok\n",
    "##### Vamos analisar com mais detalhe a predominância da nota 1 nas avaliações"
   ]
  },
  {
   "cell_type": "code",
   "execution_count": 27,
   "id": "2e78a0c3",
   "metadata": {},
   "outputs": [
    {
     "data": {
      "text/plain": [
       "Não Resolvida    0.865408\n",
       "Resolvida        0.134592\n",
       "Name: Avaliação Reclamação, dtype: float64"
      ]
     },
     "execution_count": 27,
     "metadata": {},
     "output_type": "execute_result"
    }
   ],
   "source": [
    "df1[df1.nota_consumidor==1]['Avaliação Reclamação'].value_counts() / df1[df1.nota_consumidor==1].shape[0]"
   ]
  },
  {
   "cell_type": "markdown",
   "id": "fa291868",
   "metadata": {},
   "source": [
    "##### Cerca de 86% das notas 1 são relacionadas a casos não resolvidos. Vamos analisar a relação entre as Notas dos Consumidores e o Tempo de Atendimento considerando somente os casos resolvidos"
   ]
  },
  {
   "cell_type": "code",
   "execution_count": 28,
   "id": "48c45e3b",
   "metadata": {},
   "outputs": [],
   "source": [
    "df_resolvidos=df1[df1['Avaliação Reclamação']=='Resolvida']"
   ]
  },
  {
   "cell_type": "code",
   "execution_count": 29,
   "id": "141e7917",
   "metadata": {},
   "outputs": [
    {
     "data": {
      "image/png": "[encoded data removed]",
      "text/plain": [
       "<Figure size 1080x360 with 2 Axes>"
      ]
     },
     "metadata": {
      "needs_background": "light"
     },
     "output_type": "display_data"
    }
   ],
   "source": [
    "fig = plt.figure (figsize=[15,5])\n",
    "\n",
    "plt.subplot(1,2,1)\n",
    "plt.bar(df_resolvidos.nota_consumidor.value_counts().index,df_resolvidos.nota_consumidor.value_counts())\n",
    "plt.xlabel('Nota Consumidor')\n",
    "\n",
    "plt.subplot(1,2,2)\n",
    "plt.bar(df_resolvidos.tempo_resposta.value_counts().index,df_resolvidos.tempo_resposta.value_counts())\n",
    "plt.xlabel('Tempo de Resposta (dias)')\n",
    "\n",
    "plt.show()"
   ]
  },
  {
   "cell_type": "code",
   "execution_count": 30,
   "id": "cf251fd8",
   "metadata": {},
   "outputs": [
    {
     "data": {
      "text/html": [
       "<div>\n",
       "<style scoped>\n",
       "    .dataframe tbody tr th:only-of-type {\n",
       "        vertical-align: middle;\n",
       "    }\n",
       "\n",
       "    .dataframe tbody tr th {\n",
       "        vertical-align: top;\n",
       "    }\n",
       "\n",
       "    .dataframe thead th {\n",
       "        text-align: right;\n",
       "    }\n",
       "</style>\n",
       "<table border=\"1\" class=\"dataframe\">\n",
       "  <thead>\n",
       "    <tr style=\"text-align: right;\">\n",
       "      <th></th>\n",
       "      <th>nota_consumidor</th>\n",
       "    </tr>\n",
       "  </thead>\n",
       "  <tbody>\n",
       "    <tr>\n",
       "      <th>Ano Abertura</th>\n",
       "      <td>NaN</td>\n",
       "    </tr>\n",
       "    <tr>\n",
       "      <th>Mês Abertura</th>\n",
       "      <td>0.048857</td>\n",
       "    </tr>\n",
       "    <tr>\n",
       "      <th>Prazo Analise Gestor</th>\n",
       "      <td>-0.047879</td>\n",
       "    </tr>\n",
       "    <tr>\n",
       "      <th>tempo_resposta</th>\n",
       "      <td>-0.117957</td>\n",
       "    </tr>\n",
       "    <tr>\n",
       "      <th>nota_consumidor</th>\n",
       "      <td>1.000000</td>\n",
       "    </tr>\n",
       "    <tr>\n",
       "      <th>Total</th>\n",
       "      <td>NaN</td>\n",
       "    </tr>\n",
       "  </tbody>\n",
       "</table>\n",
       "</div>"
      ],
      "text/plain": [
       "                      nota_consumidor\n",
       "Ano Abertura                      NaN\n",
       "Mês Abertura                 0.048857\n",
       "Prazo Analise Gestor        -0.047879\n",
       "tempo_resposta              -0.117957\n",
       "nota_consumidor              1.000000\n",
       "Total                             NaN"
      ]
     },
     "execution_count": 30,
     "metadata": {},
     "output_type": "execute_result"
    }
   ],
   "source": [
    "df_resolvidos.corr()[['nota_consumidor']]"
   ]
  },
  {
   "cell_type": "code",
   "execution_count": 31,
   "id": "7049faa2",
   "metadata": {},
   "outputs": [
    {
     "data": {
      "image/png": "[encoded data removed]",
      "text/plain": [
       "<Figure size 216x216 with 1 Axes>"
      ]
     },
     "metadata": {
      "needs_background": "light"
     },
     "output_type": "display_data"
    }
   ],
   "source": [
    "fig=plt.figure(figsize=[3,3])\n",
    "plt.scatter(df_resolvidos.nota_consumidor,df_resolvidos.tempo_resposta)\n",
    "plt.show()"
   ]
  },
  {
   "cell_type": "markdown",
   "id": "e7bf0df1",
   "metadata": {},
   "source": [
    "##### A distribuição das frequência das notas notas é mais linear. Porém, a correlação com o tempo de resposta é ainda mais fraca. Antes 18% agora 11% (negativa). Este não parece ser uma variável que explique bem a nota atribuída ao atendimento."
   ]
  },
  {
   "cell_type": "markdown",
   "id": "a8f16615",
   "metadata": {},
   "source": [
    "#### Vamos explorar outras variáveis que possam ter alguma relação com a Nota do Consumidor"
   ]
  },
  {
   "cell_type": "code",
   "execution_count": 32,
   "id": "f006d802",
   "metadata": {},
   "outputs": [
    {
     "data": {
      "text/plain": [
       "<AxesSubplot:title={'center':'nota_consumidor'}, xlabel='Área'>"
      ]
     },
     "execution_count": 32,
     "metadata": {},
     "output_type": "execute_result"
    },
    {
     "data": {
      "image/png": "[encoded data removed]",
      "text/plain": [
       "<Figure size 1080x360 with 1 Axes>"
      ]
     },
     "metadata": {
      "needs_background": "light"
     },
     "output_type": "display_data"
    }
   ],
   "source": [
    "# Área à qual pertence o assunto objeto da reclamação:\n",
    "\n",
    "df_resolvidos.boxplot(column='nota_consumidor',by='Área',rot=90,figsize=(15,5))"
   ]
  },
  {
   "cell_type": "code",
   "execution_count": 33,
   "id": "cafb22a3",
   "metadata": {},
   "outputs": [
    {
     "data": {
      "text/html": [
       "<div>\n",
       "<style scoped>\n",
       "    .dataframe tbody tr th:only-of-type {\n",
       "        vertical-align: middle;\n",
       "    }\n",
       "\n",
       "    .dataframe tbody tr th {\n",
       "        vertical-align: top;\n",
       "    }\n",
       "\n",
       "    .dataframe thead th {\n",
       "        text-align: right;\n",
       "    }\n",
       "</style>\n",
       "<table border=\"1\" class=\"dataframe\">\n",
       "  <thead>\n",
       "    <tr style=\"text-align: right;\">\n",
       "      <th>nota_consumidor</th>\n",
       "      <th>count</th>\n",
       "      <th>mean</th>\n",
       "      <th>std</th>\n",
       "      <th>min</th>\n",
       "      <th>25%</th>\n",
       "      <th>50%</th>\n",
       "      <th>75%</th>\n",
       "      <th>max</th>\n",
       "    </tr>\n",
       "    <tr>\n",
       "      <th>Área</th>\n",
       "      <th></th>\n",
       "      <th></th>\n",
       "      <th></th>\n",
       "      <th></th>\n",
       "      <th></th>\n",
       "      <th></th>\n",
       "      <th></th>\n",
       "      <th></th>\n",
       "    </tr>\n",
       "  </thead>\n",
       "  <tbody>\n",
       "    <tr>\n",
       "      <th>Alimentos</th>\n",
       "      <td>38.0</td>\n",
       "      <td>3.894737</td>\n",
       "      <td>1.351465</td>\n",
       "      <td>1.0</td>\n",
       "      <td>3.00</td>\n",
       "      <td>4.0</td>\n",
       "      <td>5.0</td>\n",
       "      <td>5.0</td>\n",
       "    </tr>\n",
       "    <tr>\n",
       "      <th>Demais Produtos</th>\n",
       "      <td>779.0</td>\n",
       "      <td>3.880616</td>\n",
       "      <td>1.325980</td>\n",
       "      <td>1.0</td>\n",
       "      <td>3.00</td>\n",
       "      <td>4.0</td>\n",
       "      <td>5.0</td>\n",
       "      <td>5.0</td>\n",
       "    </tr>\n",
       "    <tr>\n",
       "      <th>Demais Serviços</th>\n",
       "      <td>159.0</td>\n",
       "      <td>4.150943</td>\n",
       "      <td>1.114852</td>\n",
       "      <td>1.0</td>\n",
       "      <td>4.00</td>\n",
       "      <td>5.0</td>\n",
       "      <td>5.0</td>\n",
       "      <td>5.0</td>\n",
       "    </tr>\n",
       "    <tr>\n",
       "      <th>Habitação</th>\n",
       "      <td>31.0</td>\n",
       "      <td>4.064516</td>\n",
       "      <td>1.209283</td>\n",
       "      <td>1.0</td>\n",
       "      <td>3.00</td>\n",
       "      <td>5.0</td>\n",
       "      <td>5.0</td>\n",
       "      <td>5.0</td>\n",
       "    </tr>\n",
       "    <tr>\n",
       "      <th>Produtos Eletrodomésticos e Eletrônicos</th>\n",
       "      <td>1259.0</td>\n",
       "      <td>3.988086</td>\n",
       "      <td>1.271187</td>\n",
       "      <td>1.0</td>\n",
       "      <td>3.00</td>\n",
       "      <td>4.0</td>\n",
       "      <td>5.0</td>\n",
       "      <td>5.0</td>\n",
       "    </tr>\n",
       "    <tr>\n",
       "      <th>Produtos de Telefonia e Informática</th>\n",
       "      <td>2960.0</td>\n",
       "      <td>4.048986</td>\n",
       "      <td>1.202101</td>\n",
       "      <td>1.0</td>\n",
       "      <td>3.00</td>\n",
       "      <td>5.0</td>\n",
       "      <td>5.0</td>\n",
       "      <td>5.0</td>\n",
       "    </tr>\n",
       "    <tr>\n",
       "      <th>Saúde</th>\n",
       "      <td>56.0</td>\n",
       "      <td>3.464286</td>\n",
       "      <td>1.488920</td>\n",
       "      <td>1.0</td>\n",
       "      <td>2.75</td>\n",
       "      <td>4.0</td>\n",
       "      <td>5.0</td>\n",
       "      <td>5.0</td>\n",
       "    </tr>\n",
       "    <tr>\n",
       "      <th>Serviços Financeiros</th>\n",
       "      <td>3019.0</td>\n",
       "      <td>4.051010</td>\n",
       "      <td>1.225981</td>\n",
       "      <td>1.0</td>\n",
       "      <td>3.00</td>\n",
       "      <td>5.0</td>\n",
       "      <td>5.0</td>\n",
       "      <td>5.0</td>\n",
       "    </tr>\n",
       "    <tr>\n",
       "      <th>Telecomunicações</th>\n",
       "      <td>8877.0</td>\n",
       "      <td>3.951448</td>\n",
       "      <td>1.242557</td>\n",
       "      <td>1.0</td>\n",
       "      <td>3.00</td>\n",
       "      <td>4.0</td>\n",
       "      <td>5.0</td>\n",
       "      <td>5.0</td>\n",
       "    </tr>\n",
       "    <tr>\n",
       "      <th>Transportes</th>\n",
       "      <td>158.0</td>\n",
       "      <td>4.031646</td>\n",
       "      <td>1.223032</td>\n",
       "      <td>1.0</td>\n",
       "      <td>3.00</td>\n",
       "      <td>4.0</td>\n",
       "      <td>5.0</td>\n",
       "      <td>5.0</td>\n",
       "    </tr>\n",
       "    <tr>\n",
       "      <th>Turismo/Viagens</th>\n",
       "      <td>82.0</td>\n",
       "      <td>3.731707</td>\n",
       "      <td>1.388211</td>\n",
       "      <td>1.0</td>\n",
       "      <td>3.00</td>\n",
       "      <td>4.0</td>\n",
       "      <td>5.0</td>\n",
       "      <td>5.0</td>\n",
       "    </tr>\n",
       "    <tr>\n",
       "      <th>Água, Energia, Gás</th>\n",
       "      <td>9.0</td>\n",
       "      <td>3.111111</td>\n",
       "      <td>1.763834</td>\n",
       "      <td>1.0</td>\n",
       "      <td>1.00</td>\n",
       "      <td>3.0</td>\n",
       "      <td>5.0</td>\n",
       "      <td>5.0</td>\n",
       "    </tr>\n",
       "  </tbody>\n",
       "</table>\n",
       "</div>"
      ],
      "text/plain": [
       "nota_consumidor                           count      mean       std  min  \\\n",
       "Área                                                                       \n",
       "Alimentos                                  38.0  3.894737  1.351465  1.0   \n",
       "Demais Produtos                           779.0  3.880616  1.325980  1.0   \n",
       "Demais Serviços                           159.0  4.150943  1.114852  1.0   \n",
       "Habitação                                  31.0  4.064516  1.209283  1.0   \n",
       "Produtos Eletrodomésticos e Eletrônicos  1259.0  3.988086  1.271187  1.0   \n",
       "Produtos de Telefonia e Informática      2960.0  4.048986  1.202101  1.0   \n",
       "Saúde                                      56.0  3.464286  1.488920  1.0   \n",
       "Serviços Financeiros                     3019.0  4.051010  1.225981  1.0   \n",
       "Telecomunicações                         8877.0  3.951448  1.242557  1.0   \n",
       "Transportes                               158.0  4.031646  1.223032  1.0   \n",
       "Turismo/Viagens                            82.0  3.731707  1.388211  1.0   \n",
       "Água, Energia, Gás                          9.0  3.111111  1.763834  1.0   \n",
       "\n",
       "nota_consumidor                           25%  50%  75%  max  \n",
       "Área                                                          \n",
       "Alimentos                                3.00  4.0  5.0  5.0  \n",
       "Demais Produtos                          3.00  4.0  5.0  5.0  \n",
       "Demais Serviços                          4.00  5.0  5.0  5.0  \n",
       "Habitação                                3.00  5.0  5.0  5.0  \n",
       "Produtos Eletrodomésticos e Eletrônicos  3.00  4.0  5.0  5.0  \n",
       "Produtos de Telefonia e Informática      3.00  5.0  5.0  5.0  \n",
       "Saúde                                    2.75  4.0  5.0  5.0  \n",
       "Serviços Financeiros                     3.00  5.0  5.0  5.0  \n",
       "Telecomunicações                         3.00  4.0  5.0  5.0  \n",
       "Transportes                              3.00  4.0  5.0  5.0  \n",
       "Turismo/Viagens                          3.00  4.0  5.0  5.0  \n",
       "Água, Energia, Gás                       1.00  3.0  5.0  5.0  "
      ]
     },
     "execution_count": 33,
     "metadata": {},
     "output_type": "execute_result"
    }
   ],
   "source": [
    "df_resolvidos.groupby(by='Área').apply(lambda x: x.nota_consumidor.describe())"
   ]
  },
  {
   "cell_type": "code",
   "execution_count": 34,
   "id": "a6caa88f",
   "metadata": {},
   "outputs": [
    {
     "name": "stdout",
     "output_type": "stream",
     "text": [
      "O r-quadrado para Área e Nota do Consumidor é: 0.28\n"
     ]
    }
   ],
   "source": [
    "# Trata-se de relacionamento entre variável categórica e quantitativa. Calcularemos o R2\n",
    "\n",
    "var_global = np.var(df_resolvidos.nota_consumidor)\n",
    "var_categ = df_resolvidos.groupby(by='Área').apply(lambda x: np.var(x.nota_consumidor))\n",
    "total_categ = df_resolvidos['Área'].value_counts()\n",
    "\n",
    "var_ = ((var_categ * total_categ).sum()) / total_categ.sum()\n",
    "\n",
    "r_quad = (var_global - var_)/ var_global ; \n",
    "\n",
    "print(\"O r-quadrado para Área e Nota do Consumidor é:\", round(r_quad*100,2))"
   ]
  },
  {
   "cell_type": "markdown",
   "id": "647e6059",
   "metadata": {},
   "source": [
    "Área não é uma boa preditora para nota"
   ]
  },
  {
   "cell_type": "code",
   "execution_count": 35,
   "id": "744e60f9",
   "metadata": {},
   "outputs": [
    {
     "data": {
      "text/plain": [
       "<AxesSubplot:title={'center':'nota_consumidor'}, xlabel='Faixa Etária'>"
      ]
     },
     "execution_count": 35,
     "metadata": {},
     "output_type": "execute_result"
    },
    {
     "data": {
      "image/png": "[encoded data removed]",
      "text/plain": [
       "<Figure size 1080x360 with 1 Axes>"
      ]
     },
     "metadata": {
      "needs_background": "light"
     },
     "output_type": "display_data"
    }
   ],
   "source": [
    "# Faixa etária\n",
    "\n",
    "df_resolvidos.boxplot(column='nota_consumidor',by='Faixa Etária',rot=90,figsize=(15,5))"
   ]
  },
  {
   "cell_type": "code",
   "execution_count": 36,
   "id": "ccc0b86a",
   "metadata": {},
   "outputs": [
    {
     "data": {
      "text/plain": [
       "<AxesSubplot:title={'center':'nota_consumidor'}, xlabel='Sexo'>"
      ]
     },
     "execution_count": 36,
     "metadata": {},
     "output_type": "execute_result"
    },
    {
     "data": {
      "image/png": "[encoded data removed]",
      "text/plain": [
       "<Figure size 1080x360 with 1 Axes>"
      ]
     },
     "metadata": {
      "needs_background": "light"
     },
     "output_type": "display_data"
    }
   ],
   "source": [
    "# Sexo\n",
    "\n",
    "df_resolvidos.boxplot(column='nota_consumidor',by='Sexo',rot=90,figsize=(15,5))"
   ]
  },
  {
   "cell_type": "code",
   "execution_count": 37,
   "id": "e9dee63e",
   "metadata": {},
   "outputs": [
    {
     "data": {
      "text/html": [
       "<div>\n",
       "<style scoped>\n",
       "    .dataframe tbody tr th:only-of-type {\n",
       "        vertical-align: middle;\n",
       "    }\n",
       "\n",
       "    .dataframe tbody tr th {\n",
       "        vertical-align: top;\n",
       "    }\n",
       "\n",
       "    .dataframe thead th {\n",
       "        text-align: right;\n",
       "    }\n",
       "</style>\n",
       "<table border=\"1\" class=\"dataframe\">\n",
       "  <thead>\n",
       "    <tr style=\"text-align: right;\">\n",
       "      <th>nota_consumidor</th>\n",
       "      <th>count</th>\n",
       "      <th>mean</th>\n",
       "      <th>std</th>\n",
       "      <th>min</th>\n",
       "      <th>25%</th>\n",
       "      <th>50%</th>\n",
       "      <th>75%</th>\n",
       "      <th>max</th>\n",
       "    </tr>\n",
       "    <tr>\n",
       "      <th>Sexo</th>\n",
       "      <th></th>\n",
       "      <th></th>\n",
       "      <th></th>\n",
       "      <th></th>\n",
       "      <th></th>\n",
       "      <th></th>\n",
       "      <th></th>\n",
       "      <th></th>\n",
       "    </tr>\n",
       "  </thead>\n",
       "  <tbody>\n",
       "    <tr>\n",
       "      <th>F</th>\n",
       "      <td>6069.0</td>\n",
       "      <td>4.002142</td>\n",
       "      <td>1.196496</td>\n",
       "      <td>1.0</td>\n",
       "      <td>3.0</td>\n",
       "      <td>4.0</td>\n",
       "      <td>5.0</td>\n",
       "      <td>5.0</td>\n",
       "    </tr>\n",
       "    <tr>\n",
       "      <th>M</th>\n",
       "      <td>11358.0</td>\n",
       "      <td>3.974820</td>\n",
       "      <td>1.264131</td>\n",
       "      <td>1.0</td>\n",
       "      <td>3.0</td>\n",
       "      <td>4.0</td>\n",
       "      <td>5.0</td>\n",
       "      <td>5.0</td>\n",
       "    </tr>\n",
       "  </tbody>\n",
       "</table>\n",
       "</div>"
      ],
      "text/plain": [
       "nota_consumidor    count      mean       std  min  25%  50%  75%  max\n",
       "Sexo                                                                 \n",
       "F                 6069.0  4.002142  1.196496  1.0  3.0  4.0  5.0  5.0\n",
       "M                11358.0  3.974820  1.264131  1.0  3.0  4.0  5.0  5.0"
      ]
     },
     "execution_count": 37,
     "metadata": {},
     "output_type": "execute_result"
    }
   ],
   "source": [
    "df_resolvidos.groupby(by='Sexo').apply(lambda x: x['nota_consumidor'].describe())"
   ]
  },
  {
   "cell_type": "code",
   "execution_count": null,
   "id": "c55cff89",
   "metadata": {},
   "outputs": [],
   "source": []
  },
  {
   "cell_type": "code",
   "execution_count": null,
   "id": "bd696c15",
   "metadata": {},
   "outputs": [],
   "source": []
  },
  {
   "cell_type": "markdown",
   "id": "c85d840a",
   "metadata": {},
   "source": [
    "Vamos verificar se a variável Grupo Problema tem relação com Nota do Consumidor"
   ]
  },
  {
   "cell_type": "code",
   "execution_count": 38,
   "id": "ce27f22a",
   "metadata": {},
   "outputs": [
    {
     "data": {
      "text/plain": [
       "<AxesSubplot:title={'center':'nota_consumidor'}, xlabel='Grupo Problema'>"
      ]
     },
     "execution_count": 38,
     "metadata": {},
     "output_type": "execute_result"
    },
    {
     "data": {
      "image/png": "[encoded data removed]",
      "text/plain": [
       "<Figure size 1080x360 with 1 Axes>"
      ]
     },
     "metadata": {
      "needs_background": "light"
     },
     "output_type": "display_data"
    }
   ],
   "source": [
    "df1.boxplot(column='nota_consumidor',by='Grupo Problema',rot=90,figsize=(15,5))"
   ]
  },
  {
   "cell_type": "code",
   "execution_count": 39,
   "id": "46401053",
   "metadata": {},
   "outputs": [
    {
     "data": {
      "text/html": [
       "<div>\n",
       "<style scoped>\n",
       "    .dataframe tbody tr th:only-of-type {\n",
       "        vertical-align: middle;\n",
       "    }\n",
       "\n",
       "    .dataframe tbody tr th {\n",
       "        vertical-align: top;\n",
       "    }\n",
       "\n",
       "    .dataframe thead th {\n",
       "        text-align: right;\n",
       "    }\n",
       "</style>\n",
       "<table border=\"1\" class=\"dataframe\">\n",
       "  <thead>\n",
       "    <tr style=\"text-align: right;\">\n",
       "      <th>nota_consumidor</th>\n",
       "      <th>count</th>\n",
       "      <th>mean</th>\n",
       "      <th>std</th>\n",
       "      <th>min</th>\n",
       "      <th>25%</th>\n",
       "      <th>50%</th>\n",
       "      <th>75%</th>\n",
       "      <th>max</th>\n",
       "    </tr>\n",
       "    <tr>\n",
       "      <th>Grupo Problema</th>\n",
       "      <th></th>\n",
       "      <th></th>\n",
       "      <th></th>\n",
       "      <th></th>\n",
       "      <th></th>\n",
       "      <th></th>\n",
       "      <th></th>\n",
       "      <th></th>\n",
       "    </tr>\n",
       "  </thead>\n",
       "  <tbody>\n",
       "    <tr>\n",
       "      <th>Atendimento / SAC</th>\n",
       "      <td>4836.0</td>\n",
       "      <td>2.876964</td>\n",
       "      <td>1.677011</td>\n",
       "      <td>1.0</td>\n",
       "      <td>1.0</td>\n",
       "      <td>3.0</td>\n",
       "      <td>5.0</td>\n",
       "      <td>5.0</td>\n",
       "    </tr>\n",
       "    <tr>\n",
       "      <th>Cobrança / Contestação</th>\n",
       "      <td>9428.0</td>\n",
       "      <td>3.265592</td>\n",
       "      <td>1.638191</td>\n",
       "      <td>1.0</td>\n",
       "      <td>1.0</td>\n",
       "      <td>4.0</td>\n",
       "      <td>5.0</td>\n",
       "      <td>5.0</td>\n",
       "    </tr>\n",
       "    <tr>\n",
       "      <th>Contrato / Oferta</th>\n",
       "      <td>7292.0</td>\n",
       "      <td>2.863686</td>\n",
       "      <td>1.730764</td>\n",
       "      <td>1.0</td>\n",
       "      <td>1.0</td>\n",
       "      <td>3.0</td>\n",
       "      <td>5.0</td>\n",
       "      <td>5.0</td>\n",
       "    </tr>\n",
       "    <tr>\n",
       "      <th>Entrega do Produto</th>\n",
       "      <td>1276.0</td>\n",
       "      <td>2.657524</td>\n",
       "      <td>1.598857</td>\n",
       "      <td>1.0</td>\n",
       "      <td>1.0</td>\n",
       "      <td>3.0</td>\n",
       "      <td>4.0</td>\n",
       "      <td>5.0</td>\n",
       "    </tr>\n",
       "    <tr>\n",
       "      <th>Informação</th>\n",
       "      <td>392.0</td>\n",
       "      <td>2.859694</td>\n",
       "      <td>1.708474</td>\n",
       "      <td>1.0</td>\n",
       "      <td>1.0</td>\n",
       "      <td>3.0</td>\n",
       "      <td>5.0</td>\n",
       "      <td>5.0</td>\n",
       "    </tr>\n",
       "    <tr>\n",
       "      <th>Saúde e Segurança</th>\n",
       "      <td>140.0</td>\n",
       "      <td>2.757143</td>\n",
       "      <td>1.626540</td>\n",
       "      <td>1.0</td>\n",
       "      <td>1.0</td>\n",
       "      <td>3.0</td>\n",
       "      <td>4.0</td>\n",
       "      <td>5.0</td>\n",
       "    </tr>\n",
       "    <tr>\n",
       "      <th>Vício de Qualidade</th>\n",
       "      <td>5263.0</td>\n",
       "      <td>2.964279</td>\n",
       "      <td>1.654686</td>\n",
       "      <td>1.0</td>\n",
       "      <td>1.0</td>\n",
       "      <td>3.0</td>\n",
       "      <td>5.0</td>\n",
       "      <td>5.0</td>\n",
       "    </tr>\n",
       "  </tbody>\n",
       "</table>\n",
       "</div>"
      ],
      "text/plain": [
       "nota_consumidor          count      mean       std  min  25%  50%  75%  max\n",
       "Grupo Problema                                                             \n",
       "Atendimento / SAC       4836.0  2.876964  1.677011  1.0  1.0  3.0  5.0  5.0\n",
       "Cobrança / Contestação  9428.0  3.265592  1.638191  1.0  1.0  4.0  5.0  5.0\n",
       "Contrato / Oferta       7292.0  2.863686  1.730764  1.0  1.0  3.0  5.0  5.0\n",
       "Entrega do Produto      1276.0  2.657524  1.598857  1.0  1.0  3.0  4.0  5.0\n",
       "Informação               392.0  2.859694  1.708474  1.0  1.0  3.0  5.0  5.0\n",
       "Saúde e Segurança        140.0  2.757143  1.626540  1.0  1.0  3.0  4.0  5.0\n",
       "Vício de Qualidade      5263.0  2.964279  1.654686  1.0  1.0  3.0  5.0  5.0"
      ]
     },
     "execution_count": 39,
     "metadata": {},
     "output_type": "execute_result"
    }
   ],
   "source": [
    "df1.groupby(by='Grupo Problema').apply(lambda x: x['nota_consumidor'].describe())"
   ]
  },
  {
   "cell_type": "code",
   "execution_count": 40,
   "id": "c6ee0c87",
   "metadata": {},
   "outputs": [
    {
     "name": "stdout",
     "output_type": "stream",
     "text": [
      "O r-quadrado para Grupo Problema e Nota do Consumidor é: 1.44\n"
     ]
    }
   ],
   "source": [
    "var_global = np.var(df1.nota_consumidor)\n",
    "var_categ = df1.groupby(by='Grupo Problema').apply(lambda x: np.var(x.nota_consumidor))\n",
    "total_categ = df1['Grupo Problema'].value_counts()\n",
    "\n",
    "var_ = ((var_categ * total_categ).sum()) / total_categ.sum()\n",
    "\n",
    "r_quad = (var_global - var_)/ var_global ; \n",
    "\n",
    "print(\"O r-quadrado para Grupo Problema e Nota do Consumidor é:\", round(r_quad*100,2))"
   ]
  },
  {
   "cell_type": "markdown",
   "id": "51aa8267",
   "metadata": {},
   "source": [
    "R2 é de 1,44%. Portanto, a variável Grupo Problema não é uma boa preditora para a nota do consumidor"
   ]
  },
  {
   "cell_type": "code",
   "execution_count": null,
   "id": "7c594d5b",
   "metadata": {},
   "outputs": [],
   "source": []
  },
  {
   "cell_type": "markdown",
   "id": "f633e898",
   "metadata": {},
   "source": [
    "#### Vamos verificar se o Grupo do Problema relaciona-se com Avaliação Reclamação"
   ]
  },
  {
   "cell_type": "code",
   "execution_count": 41,
   "id": "82c44c20",
   "metadata": {},
   "outputs": [],
   "source": [
    "df_grupo_prob = df1.groupby(by='Grupo Problema').apply(lambda x: x['Avaliação Reclamação'].value_counts()).unstack()"
   ]
  },
  {
   "cell_type": "code",
   "execution_count": 42,
   "id": "ab77b45f",
   "metadata": {},
   "outputs": [
    {
     "data": {
      "text/html": [
       "<div>\n",
       "<style scoped>\n",
       "    .dataframe tbody tr th:only-of-type {\n",
       "        vertical-align: middle;\n",
       "    }\n",
       "\n",
       "    .dataframe tbody tr th {\n",
       "        vertical-align: top;\n",
       "    }\n",
       "\n",
       "    .dataframe thead th {\n",
       "        text-align: right;\n",
       "    }\n",
       "</style>\n",
       "<table border=\"1\" class=\"dataframe\">\n",
       "  <thead>\n",
       "    <tr style=\"text-align: right;\">\n",
       "      <th></th>\n",
       "      <th>Não Avaliada</th>\n",
       "      <th>Não Resolvida</th>\n",
       "      <th>Resolvida</th>\n",
       "    </tr>\n",
       "    <tr>\n",
       "      <th>Grupo Problema</th>\n",
       "      <th></th>\n",
       "      <th></th>\n",
       "      <th></th>\n",
       "    </tr>\n",
       "  </thead>\n",
       "  <tbody>\n",
       "    <tr>\n",
       "      <th>Atendimento / SAC</th>\n",
       "      <td>2213</td>\n",
       "      <td>1949</td>\n",
       "      <td>2887</td>\n",
       "    </tr>\n",
       "    <tr>\n",
       "      <th>Cobrança / Contestação</th>\n",
       "      <td>4439</td>\n",
       "      <td>2929</td>\n",
       "      <td>6499</td>\n",
       "    </tr>\n",
       "    <tr>\n",
       "      <th>Contrato / Oferta</th>\n",
       "      <td>2879</td>\n",
       "      <td>3302</td>\n",
       "      <td>3990</td>\n",
       "    </tr>\n",
       "    <tr>\n",
       "      <th>Entrega do Produto</th>\n",
       "      <td>711</td>\n",
       "      <td>494</td>\n",
       "      <td>782</td>\n",
       "    </tr>\n",
       "    <tr>\n",
       "      <th>Informação</th>\n",
       "      <td>155</td>\n",
       "      <td>182</td>\n",
       "      <td>210</td>\n",
       "    </tr>\n",
       "    <tr>\n",
       "      <th>Saúde e Segurança</th>\n",
       "      <td>74</td>\n",
       "      <td>77</td>\n",
       "      <td>63</td>\n",
       "    </tr>\n",
       "    <tr>\n",
       "      <th>Vício de Qualidade</th>\n",
       "      <td>3055</td>\n",
       "      <td>2267</td>\n",
       "      <td>2996</td>\n",
       "    </tr>\n",
       "  </tbody>\n",
       "</table>\n",
       "</div>"
      ],
      "text/plain": [
       "                        Não Avaliada  Não Resolvida  Resolvida\n",
       "Grupo Problema                                                \n",
       "Atendimento / SAC               2213           1949       2887\n",
       "Cobrança / Contestação          4439           2929       6499\n",
       "Contrato / Oferta               2879           3302       3990\n",
       "Entrega do Produto               711            494        782\n",
       "Informação                       155            182        210\n",
       "Saúde e Segurança                 74             77         63\n",
       "Vício de Qualidade              3055           2267       2996"
      ]
     },
     "execution_count": 42,
     "metadata": {},
     "output_type": "execute_result"
    }
   ],
   "source": [
    "df_grupo_prob"
   ]
  },
  {
   "cell_type": "code",
   "execution_count": 43,
   "id": "68a408b0",
   "metadata": {},
   "outputs": [],
   "source": [
    "df_grupo_pct = pd.DataFrame(np.c_[df_grupo_prob.iloc[:,0].values / df_grupo_prob.sum(axis=1).values, \\\n",
    "                 df_grupo_prob.iloc[:,1].values / df_grupo_prob.sum(axis=1).values, \\\n",
    "                 df_grupo_prob.iloc[:,2].values / df_grupo_prob.sum(axis=1).values], \\\n",
    "                 columns=df_grupo_prob.columns,index=df_grupo_prob.index)"
   ]
  },
  {
   "cell_type": "code",
   "execution_count": 44,
   "id": "550fdbef",
   "metadata": {},
   "outputs": [],
   "source": [
    "df_grupo_pct.loc['Geral'] = df_grupo_prob.sum() / df_grupo_prob.sum().sum()"
   ]
  },
  {
   "cell_type": "code",
   "execution_count": 45,
   "id": "98720b82",
   "metadata": {},
   "outputs": [
    {
     "data": {
      "text/html": [
       "<div>\n",
       "<style scoped>\n",
       "    .dataframe tbody tr th:only-of-type {\n",
       "        vertical-align: middle;\n",
       "    }\n",
       "\n",
       "    .dataframe tbody tr th {\n",
       "        vertical-align: top;\n",
       "    }\n",
       "\n",
       "    .dataframe thead th {\n",
       "        text-align: right;\n",
       "    }\n",
       "</style>\n",
       "<table border=\"1\" class=\"dataframe\">\n",
       "  <thead>\n",
       "    <tr style=\"text-align: right;\">\n",
       "      <th></th>\n",
       "      <th>Não Avaliada</th>\n",
       "      <th>Não Resolvida</th>\n",
       "      <th>Resolvida</th>\n",
       "    </tr>\n",
       "    <tr>\n",
       "      <th>Grupo Problema</th>\n",
       "      <th></th>\n",
       "      <th></th>\n",
       "      <th></th>\n",
       "    </tr>\n",
       "  </thead>\n",
       "  <tbody>\n",
       "    <tr>\n",
       "      <th>Atendimento / SAC</th>\n",
       "      <td>0.313945</td>\n",
       "      <td>0.276493</td>\n",
       "      <td>0.409562</td>\n",
       "    </tr>\n",
       "    <tr>\n",
       "      <th>Cobrança / Contestação</th>\n",
       "      <td>0.320112</td>\n",
       "      <td>0.211221</td>\n",
       "      <td>0.468667</td>\n",
       "    </tr>\n",
       "    <tr>\n",
       "      <th>Contrato / Oferta</th>\n",
       "      <td>0.283060</td>\n",
       "      <td>0.324649</td>\n",
       "      <td>0.392292</td>\n",
       "    </tr>\n",
       "    <tr>\n",
       "      <th>Entrega do Produto</th>\n",
       "      <td>0.357826</td>\n",
       "      <td>0.248616</td>\n",
       "      <td>0.393558</td>\n",
       "    </tr>\n",
       "    <tr>\n",
       "      <th>Informação</th>\n",
       "      <td>0.283364</td>\n",
       "      <td>0.332724</td>\n",
       "      <td>0.383912</td>\n",
       "    </tr>\n",
       "    <tr>\n",
       "      <th>Saúde e Segurança</th>\n",
       "      <td>0.345794</td>\n",
       "      <td>0.359813</td>\n",
       "      <td>0.294393</td>\n",
       "    </tr>\n",
       "    <tr>\n",
       "      <th>Vício de Qualidade</th>\n",
       "      <td>0.367276</td>\n",
       "      <td>0.272541</td>\n",
       "      <td>0.360183</td>\n",
       "    </tr>\n",
       "    <tr>\n",
       "      <th>Geral</th>\n",
       "      <td>0.320879</td>\n",
       "      <td>0.265699</td>\n",
       "      <td>0.413423</td>\n",
       "    </tr>\n",
       "  </tbody>\n",
       "</table>\n",
       "</div>"
      ],
      "text/plain": [
       "                        Não Avaliada  Não Resolvida  Resolvida\n",
       "Grupo Problema                                                \n",
       "Atendimento / SAC           0.313945       0.276493   0.409562\n",
       "Cobrança / Contestação      0.320112       0.211221   0.468667\n",
       "Contrato / Oferta           0.283060       0.324649   0.392292\n",
       "Entrega do Produto          0.357826       0.248616   0.393558\n",
       "Informação                  0.283364       0.332724   0.383912\n",
       "Saúde e Segurança           0.345794       0.359813   0.294393\n",
       "Vício de Qualidade          0.367276       0.272541   0.360183\n",
       "Geral                       0.320879       0.265699   0.413423"
      ]
     },
     "execution_count": 45,
     "metadata": {},
     "output_type": "execute_result"
    }
   ],
   "source": [
    "df_grupo_pct"
   ]
  },
  {
   "cell_type": "code",
   "execution_count": 46,
   "id": "510e9b2e",
   "metadata": {},
   "outputs": [
    {
     "data": {
      "image/png": "[encoded data removed]",
      "text/plain": [
       "<Figure size 1440x720 with 1 Axes>"
      ]
     },
     "metadata": {
      "needs_background": "light"
     },
     "output_type": "display_data"
    }
   ],
   "source": [
    "labels = df_grupo_pct.index\n",
    "x = np.arange(len(labels))\n",
    "width = 0.5\n",
    "\n",
    "plt.figure(figsize=[20,10])\n",
    "plt.bar(x,df_grupo_pct.iloc[:,0].values,width,label= 'Não avaliada')\n",
    "plt.bar(x,df_grupo_pct.iloc[:,1].values,width, bottom = df_grupo_pct.iloc[:,0].values, label= 'Não Resolvida')\n",
    "plt.bar(x,df_grupo_pct.iloc[:,2].values,width, bottom = (df_grupo_pct.iloc[:,1].values+df_grupo_pct.iloc[:,0].values), label= 'Resolvida')\n",
    "plt.ylabel('% atendimentos')\n",
    "plt.legend()\n",
    "plt.axhline(y = df_grupo_pct.iloc[7,0],linestyle=\"--\",linewidth=1,color='black')\n",
    "plt.axhline(y = (df_grupo_pct.iloc[7,1]+df_grupo_pct.iloc[7,0]),linestyle=\"--\",linewidth=1,color='black')\n",
    "plt.axhline(y = (df_grupo_pct.iloc[7,2]+df_grupo_pct.iloc[7,1]+df_grupo_pct.iloc[7,0]),linestyle=\"--\",linewidth=1,color='black')\n",
    "plt.title('% situação das reclamações por Grupo de problema')\n",
    "plt.xticks(x,labels)\n",
    "#plt.annotate('% Resolvido Geral',(12.3,33))\n",
    "plt.tick_params(axis='x',labelrotation=90)\n",
    "\n",
    "plt.show()"
   ]
  },
  {
   "cell_type": "markdown",
   "id": "e61d6269",
   "metadata": {},
   "source": [
    "O gráfico de barras mostra diferenças nos percentuais das resoluções das reclamações nos diversos grupos de atendimentos.\n",
    "\n",
    "\n",
    "h0 (nula) - As variáveis Grupo Problema e Avaliação Reclamação possuem relação direta entre si\n",
    "h1 (alternativa) - As variáveis Grupo Problema e Avaliação Reclamação são independentes\n",
    "\n",
    "São duas varáveis categóricas, portanto utilizaremos chi-quadrado como métrica."
   ]
  },
  {
   "cell_type": "code",
   "execution_count": 47,
   "id": "2f60c62f",
   "metadata": {},
   "outputs": [],
   "source": [
    "df_grupo_prob['Total'] = df_grupo_prob.sum(axis=1)"
   ]
  },
  {
   "cell_type": "code",
   "execution_count": 48,
   "id": "e700b5a1",
   "metadata": {},
   "outputs": [
    {
     "data": {
      "text/html": [
       "<div>\n",
       "<style scoped>\n",
       "    .dataframe tbody tr th:only-of-type {\n",
       "        vertical-align: middle;\n",
       "    }\n",
       "\n",
       "    .dataframe tbody tr th {\n",
       "        vertical-align: top;\n",
       "    }\n",
       "\n",
       "    .dataframe thead th {\n",
       "        text-align: right;\n",
       "    }\n",
       "</style>\n",
       "<table border=\"1\" class=\"dataframe\">\n",
       "  <thead>\n",
       "    <tr style=\"text-align: right;\">\n",
       "      <th></th>\n",
       "      <th>0</th>\n",
       "      <th>1</th>\n",
       "      <th>2</th>\n",
       "    </tr>\n",
       "  </thead>\n",
       "  <tbody>\n",
       "    <tr>\n",
       "      <th>0</th>\n",
       "      <td>2261.9</td>\n",
       "      <td>1872.9</td>\n",
       "      <td>2914.2</td>\n",
       "    </tr>\n",
       "    <tr>\n",
       "      <th>1</th>\n",
       "      <td>4449.6</td>\n",
       "      <td>3684.4</td>\n",
       "      <td>5732.9</td>\n",
       "    </tr>\n",
       "    <tr>\n",
       "      <th>2</th>\n",
       "      <td>3263.7</td>\n",
       "      <td>2702.4</td>\n",
       "      <td>4204.9</td>\n",
       "    </tr>\n",
       "    <tr>\n",
       "      <th>3</th>\n",
       "      <td>637.6</td>\n",
       "      <td>527.9</td>\n",
       "      <td>821.5</td>\n",
       "    </tr>\n",
       "    <tr>\n",
       "      <th>4</th>\n",
       "      <td>175.5</td>\n",
       "      <td>145.3</td>\n",
       "      <td>226.1</td>\n",
       "    </tr>\n",
       "    <tr>\n",
       "      <th>5</th>\n",
       "      <td>68.7</td>\n",
       "      <td>56.9</td>\n",
       "      <td>88.5</td>\n",
       "    </tr>\n",
       "    <tr>\n",
       "      <th>6</th>\n",
       "      <td>2669.1</td>\n",
       "      <td>2210.1</td>\n",
       "      <td>3438.8</td>\n",
       "    </tr>\n",
       "  </tbody>\n",
       "</table>\n",
       "</div>"
      ],
      "text/plain": [
       "        0       1       2\n",
       "0  2261.9  1872.9  2914.2\n",
       "1  4449.6  3684.4  5732.9\n",
       "2  3263.7  2702.4  4204.9\n",
       "3   637.6   527.9   821.5\n",
       "4   175.5   145.3   226.1\n",
       "5    68.7    56.9    88.5\n",
       "6  2669.1  2210.1  3438.8"
      ]
     },
     "execution_count": 48,
     "metadata": {},
     "output_type": "execute_result"
    }
   ],
   "source": [
    "esp_0 = round((df_grupo_prob.iloc[:,3] * df_grupo_pct.loc['Geral','Não Avaliada']),1)\n",
    "esp_1 = round((df_grupo_prob.iloc[:,3] * df_grupo_pct.loc['Geral','Não Resolvida']),1)\n",
    "esp_2 = round((df_grupo_prob.iloc[:,3] * df_grupo_pct.loc['Geral','Resolvida']),1)\n",
    "\n",
    "df_grupo_esp = pd.DataFrame(np.c_[esp_0,esp_1,esp_2])\n",
    "df_grupo_esp"
   ]
  },
  {
   "cell_type": "code",
   "execution_count": 49,
   "id": "34b59d7f",
   "metadata": {},
   "outputs": [
    {
     "data": {
      "text/plain": [
       "array([[2.3912100e+03, 5.7912100e+03, 7.3984000e+02],\n",
       "       [1.1236000e+02, 5.7062916e+05, 5.8690921e+05],\n",
       "       [1.4799409e+05, 3.5952016e+05, 4.6182010e+04],\n",
       "       [5.3875600e+03, 1.1492100e+03, 1.5602500e+03],\n",
       "       [4.2025000e+02, 1.3468900e+03, 2.5921000e+02],\n",
       "       [2.8090000e+01, 4.0401000e+02, 6.5025000e+02],\n",
       "       [1.4891881e+05, 3.2376100e+03, 1.9607184e+05]])"
      ]
     },
     "execution_count": 49,
     "metadata": {},
     "output_type": "execute_result"
    }
   ],
   "source": [
    "desvios_ao_2 = (df_grupo_prob.iloc[:,:3].values - df_grupo_esp.values) ** 2\n",
    "desvios_ao_2"
   ]
  },
  {
   "cell_type": "code",
   "execution_count": 50,
   "id": "e0fe9c25",
   "metadata": {},
   "outputs": [
    {
     "data": {
      "text/plain": [
       "605.5163490320904"
      ]
     },
     "execution_count": 50,
     "metadata": {},
     "output_type": "execute_result"
    }
   ],
   "source": [
    "chi_quad_grupo = sum(sum(desvios_ao_2 / df_grupo_esp.values))\n",
    "chi_quad_grupo"
   ]
  },
  {
   "cell_type": "markdown",
   "id": "ff113755",
   "metadata": {},
   "source": [
    "O valor elevado de chi-quadrado nos leva a confirmar h0 (Grupo Problema e Avaliação Reclamação possuem relação direta)"
   ]
  },
  {
   "cell_type": "code",
   "execution_count": null,
   "id": "4b0e71a4",
   "metadata": {},
   "outputs": [],
   "source": []
  },
  {
   "cell_type": "markdown",
   "id": "8f0e1015",
   "metadata": {},
   "source": [
    "#### Vamos verificar se a Área a qual pertence o objeto da reclamação relaciona-se com resolução da reclamação.\n",
    "##### (vamos utilizar somente as reclamações que foram resolvidas e não resolvidas, exlcuindo as não avaliadas)"
   ]
  },
  {
   "cell_type": "code",
   "execution_count": 51,
   "id": "17533004",
   "metadata": {},
   "outputs": [
    {
     "data": {
      "text/html": [
       "<div>\n",
       "<style scoped>\n",
       "    .dataframe tbody tr th:only-of-type {\n",
       "        vertical-align: middle;\n",
       "    }\n",
       "\n",
       "    .dataframe tbody tr th {\n",
       "        vertical-align: top;\n",
       "    }\n",
       "\n",
       "    .dataframe thead th {\n",
       "        text-align: right;\n",
       "    }\n",
       "</style>\n",
       "<table border=\"1\" class=\"dataframe\">\n",
       "  <thead>\n",
       "    <tr style=\"text-align: right;\">\n",
       "      <th></th>\n",
       "      <th>Não Resolvida</th>\n",
       "      <th>Resolvida</th>\n",
       "    </tr>\n",
       "    <tr>\n",
       "      <th>Área</th>\n",
       "      <th></th>\n",
       "      <th></th>\n",
       "    </tr>\n",
       "  </thead>\n",
       "  <tbody>\n",
       "    <tr>\n",
       "      <th>Alimentos</th>\n",
       "      <td>24</td>\n",
       "      <td>38</td>\n",
       "    </tr>\n",
       "    <tr>\n",
       "      <th>Demais Produtos</th>\n",
       "      <td>667</td>\n",
       "      <td>779</td>\n",
       "    </tr>\n",
       "    <tr>\n",
       "      <th>Demais Serviços</th>\n",
       "      <td>94</td>\n",
       "      <td>159</td>\n",
       "    </tr>\n",
       "    <tr>\n",
       "      <th>Educação</th>\n",
       "      <td>3</td>\n",
       "      <td>0</td>\n",
       "    </tr>\n",
       "    <tr>\n",
       "      <th>Habitação</th>\n",
       "      <td>15</td>\n",
       "      <td>31</td>\n",
       "    </tr>\n",
       "    <tr>\n",
       "      <th>Produtos Eletrodomésticos e Eletrônicos</th>\n",
       "      <td>1144</td>\n",
       "      <td>1259</td>\n",
       "    </tr>\n",
       "    <tr>\n",
       "      <th>Produtos de Telefonia e Informática</th>\n",
       "      <td>1803</td>\n",
       "      <td>2960</td>\n",
       "    </tr>\n",
       "    <tr>\n",
       "      <th>Saúde</th>\n",
       "      <td>96</td>\n",
       "      <td>56</td>\n",
       "    </tr>\n",
       "    <tr>\n",
       "      <th>Serviços Financeiros</th>\n",
       "      <td>2265</td>\n",
       "      <td>3019</td>\n",
       "    </tr>\n",
       "    <tr>\n",
       "      <th>Telecomunicações</th>\n",
       "      <td>4828</td>\n",
       "      <td>8877</td>\n",
       "    </tr>\n",
       "    <tr>\n",
       "      <th>Transportes</th>\n",
       "      <td>142</td>\n",
       "      <td>158</td>\n",
       "    </tr>\n",
       "    <tr>\n",
       "      <th>Turismo/Viagens</th>\n",
       "      <td>90</td>\n",
       "      <td>82</td>\n",
       "    </tr>\n",
       "    <tr>\n",
       "      <th>Água, Energia, Gás</th>\n",
       "      <td>29</td>\n",
       "      <td>9</td>\n",
       "    </tr>\n",
       "  </tbody>\n",
       "</table>\n",
       "</div>"
      ],
      "text/plain": [
       "                                         Não Resolvida  Resolvida\n",
       "Área                                                             \n",
       "Alimentos                                           24         38\n",
       "Demais Produtos                                    667        779\n",
       "Demais Serviços                                     94        159\n",
       "Educação                                             3          0\n",
       "Habitação                                           15         31\n",
       "Produtos Eletrodomésticos e Eletrônicos           1144       1259\n",
       "Produtos de Telefonia e Informática               1803       2960\n",
       "Saúde                                               96         56\n",
       "Serviços Financeiros                              2265       3019\n",
       "Telecomunicações                                  4828       8877\n",
       "Transportes                                        142        158\n",
       "Turismo/Viagens                                     90         82\n",
       "Água, Energia, Gás                                  29          9"
      ]
     },
     "execution_count": 51,
     "metadata": {},
     "output_type": "execute_result"
    }
   ],
   "source": [
    "df_areas = df1.groupby(by='Área').apply(lambda x: x['Avaliação Reclamação'].value_counts()).unstack()\n",
    "df_areas = df_areas.fillna(value=0).astype(int)\n",
    "df_areas = df_areas.drop(columns='Não Avaliada')\n",
    "df_areas"
   ]
  },
  {
   "cell_type": "code",
   "execution_count": 52,
   "id": "31c979c9",
   "metadata": {},
   "outputs": [],
   "source": [
    "pct_nres = df_areas.iloc[:,0] / (df_areas.iloc[:,0] + df_areas.iloc[:,1])\n",
    "pct_res = df_areas.iloc[:,1] / (df_areas.iloc[:,0] + df_areas.iloc[:,1])"
   ]
  },
  {
   "cell_type": "code",
   "execution_count": 53,
   "id": "d09e4bd0",
   "metadata": {},
   "outputs": [
    {
     "data": {
      "text/html": [
       "<div>\n",
       "<style scoped>\n",
       "    .dataframe tbody tr th:only-of-type {\n",
       "        vertical-align: middle;\n",
       "    }\n",
       "\n",
       "    .dataframe tbody tr th {\n",
       "        vertical-align: top;\n",
       "    }\n",
       "\n",
       "    .dataframe thead th {\n",
       "        text-align: right;\n",
       "    }\n",
       "</style>\n",
       "<table border=\"1\" class=\"dataframe\">\n",
       "  <thead>\n",
       "    <tr style=\"text-align: right;\">\n",
       "      <th></th>\n",
       "      <th>Não Resolvida</th>\n",
       "      <th>Resolvida</th>\n",
       "      <th>Total</th>\n",
       "    </tr>\n",
       "    <tr>\n",
       "      <th>Área</th>\n",
       "      <th></th>\n",
       "      <th></th>\n",
       "      <th></th>\n",
       "    </tr>\n",
       "  </thead>\n",
       "  <tbody>\n",
       "    <tr>\n",
       "      <th>Alimentos</th>\n",
       "      <td>24</td>\n",
       "      <td>38</td>\n",
       "      <td>62</td>\n",
       "    </tr>\n",
       "    <tr>\n",
       "      <th>Demais Produtos</th>\n",
       "      <td>667</td>\n",
       "      <td>779</td>\n",
       "      <td>1446</td>\n",
       "    </tr>\n",
       "    <tr>\n",
       "      <th>Demais Serviços</th>\n",
       "      <td>94</td>\n",
       "      <td>159</td>\n",
       "      <td>253</td>\n",
       "    </tr>\n",
       "    <tr>\n",
       "      <th>Educação</th>\n",
       "      <td>3</td>\n",
       "      <td>0</td>\n",
       "      <td>3</td>\n",
       "    </tr>\n",
       "    <tr>\n",
       "      <th>Habitação</th>\n",
       "      <td>15</td>\n",
       "      <td>31</td>\n",
       "      <td>46</td>\n",
       "    </tr>\n",
       "    <tr>\n",
       "      <th>Produtos Eletrodomésticos e Eletrônicos</th>\n",
       "      <td>1144</td>\n",
       "      <td>1259</td>\n",
       "      <td>2403</td>\n",
       "    </tr>\n",
       "    <tr>\n",
       "      <th>Produtos de Telefonia e Informática</th>\n",
       "      <td>1803</td>\n",
       "      <td>2960</td>\n",
       "      <td>4763</td>\n",
       "    </tr>\n",
       "    <tr>\n",
       "      <th>Saúde</th>\n",
       "      <td>96</td>\n",
       "      <td>56</td>\n",
       "      <td>152</td>\n",
       "    </tr>\n",
       "    <tr>\n",
       "      <th>Serviços Financeiros</th>\n",
       "      <td>2265</td>\n",
       "      <td>3019</td>\n",
       "      <td>5284</td>\n",
       "    </tr>\n",
       "    <tr>\n",
       "      <th>Telecomunicações</th>\n",
       "      <td>4828</td>\n",
       "      <td>8877</td>\n",
       "      <td>13705</td>\n",
       "    </tr>\n",
       "    <tr>\n",
       "      <th>Transportes</th>\n",
       "      <td>142</td>\n",
       "      <td>158</td>\n",
       "      <td>300</td>\n",
       "    </tr>\n",
       "    <tr>\n",
       "      <th>Turismo/Viagens</th>\n",
       "      <td>90</td>\n",
       "      <td>82</td>\n",
       "      <td>172</td>\n",
       "    </tr>\n",
       "    <tr>\n",
       "      <th>Água, Energia, Gás</th>\n",
       "      <td>29</td>\n",
       "      <td>9</td>\n",
       "      <td>38</td>\n",
       "    </tr>\n",
       "  </tbody>\n",
       "</table>\n",
       "</div>"
      ],
      "text/plain": [
       "                                         Não Resolvida  Resolvida  Total\n",
       "Área                                                                    \n",
       "Alimentos                                           24         38     62\n",
       "Demais Produtos                                    667        779   1446\n",
       "Demais Serviços                                     94        159    253\n",
       "Educação                                             3          0      3\n",
       "Habitação                                           15         31     46\n",
       "Produtos Eletrodomésticos e Eletrônicos           1144       1259   2403\n",
       "Produtos de Telefonia e Informática               1803       2960   4763\n",
       "Saúde                                               96         56    152\n",
       "Serviços Financeiros                              2265       3019   5284\n",
       "Telecomunicações                                  4828       8877  13705\n",
       "Transportes                                        142        158    300\n",
       "Turismo/Viagens                                     90         82    172\n",
       "Água, Energia, Gás                                  29          9     38"
      ]
     },
     "execution_count": 53,
     "metadata": {},
     "output_type": "execute_result"
    }
   ],
   "source": [
    "df_areas['Total']=df_areas.sum(axis=1).values\n",
    "df_areas"
   ]
  },
  {
   "cell_type": "code",
   "execution_count": 54,
   "id": "c7d73b0e",
   "metadata": {},
   "outputs": [
    {
     "data": {
      "text/html": [
       "<div>\n",
       "<style scoped>\n",
       "    .dataframe tbody tr th:only-of-type {\n",
       "        vertical-align: middle;\n",
       "    }\n",
       "\n",
       "    .dataframe tbody tr th {\n",
       "        vertical-align: top;\n",
       "    }\n",
       "\n",
       "    .dataframe thead th {\n",
       "        text-align: right;\n",
       "    }\n",
       "</style>\n",
       "<table border=\"1\" class=\"dataframe\">\n",
       "  <thead>\n",
       "    <tr style=\"text-align: right;\">\n",
       "      <th></th>\n",
       "      <th>Não Resolvida</th>\n",
       "      <th>Resolvida</th>\n",
       "    </tr>\n",
       "    <tr>\n",
       "      <th>Área</th>\n",
       "      <th></th>\n",
       "      <th></th>\n",
       "    </tr>\n",
       "  </thead>\n",
       "  <tbody>\n",
       "    <tr>\n",
       "      <th>Alimentos</th>\n",
       "      <td>0.387097</td>\n",
       "      <td>0.612903</td>\n",
       "    </tr>\n",
       "    <tr>\n",
       "      <th>Demais Produtos</th>\n",
       "      <td>0.461272</td>\n",
       "      <td>0.538728</td>\n",
       "    </tr>\n",
       "    <tr>\n",
       "      <th>Demais Serviços</th>\n",
       "      <td>0.371542</td>\n",
       "      <td>0.628458</td>\n",
       "    </tr>\n",
       "    <tr>\n",
       "      <th>Educação</th>\n",
       "      <td>1.000000</td>\n",
       "      <td>0.000000</td>\n",
       "    </tr>\n",
       "    <tr>\n",
       "      <th>Habitação</th>\n",
       "      <td>0.326087</td>\n",
       "      <td>0.673913</td>\n",
       "    </tr>\n",
       "    <tr>\n",
       "      <th>Produtos Eletrodomésticos e Eletrônicos</th>\n",
       "      <td>0.476072</td>\n",
       "      <td>0.523928</td>\n",
       "    </tr>\n",
       "    <tr>\n",
       "      <th>Produtos de Telefonia e Informática</th>\n",
       "      <td>0.378543</td>\n",
       "      <td>0.621457</td>\n",
       "    </tr>\n",
       "    <tr>\n",
       "      <th>Saúde</th>\n",
       "      <td>0.631579</td>\n",
       "      <td>0.368421</td>\n",
       "    </tr>\n",
       "    <tr>\n",
       "      <th>Serviços Financeiros</th>\n",
       "      <td>0.428653</td>\n",
       "      <td>0.571347</td>\n",
       "    </tr>\n",
       "    <tr>\n",
       "      <th>Telecomunicações</th>\n",
       "      <td>0.352280</td>\n",
       "      <td>0.647720</td>\n",
       "    </tr>\n",
       "    <tr>\n",
       "      <th>Transportes</th>\n",
       "      <td>0.473333</td>\n",
       "      <td>0.526667</td>\n",
       "    </tr>\n",
       "    <tr>\n",
       "      <th>Turismo/Viagens</th>\n",
       "      <td>0.523256</td>\n",
       "      <td>0.476744</td>\n",
       "    </tr>\n",
       "    <tr>\n",
       "      <th>Água, Energia, Gás</th>\n",
       "      <td>0.763158</td>\n",
       "      <td>0.236842</td>\n",
       "    </tr>\n",
       "  </tbody>\n",
       "</table>\n",
       "</div>"
      ],
      "text/plain": [
       "                                         Não Resolvida  Resolvida\n",
       "Área                                                             \n",
       "Alimentos                                     0.387097   0.612903\n",
       "Demais Produtos                               0.461272   0.538728\n",
       "Demais Serviços                               0.371542   0.628458\n",
       "Educação                                      1.000000   0.000000\n",
       "Habitação                                     0.326087   0.673913\n",
       "Produtos Eletrodomésticos e Eletrônicos       0.476072   0.523928\n",
       "Produtos de Telefonia e Informática           0.378543   0.621457\n",
       "Saúde                                         0.631579   0.368421\n",
       "Serviços Financeiros                          0.428653   0.571347\n",
       "Telecomunicações                              0.352280   0.647720\n",
       "Transportes                                   0.473333   0.526667\n",
       "Turismo/Viagens                               0.523256   0.476744\n",
       "Água, Energia, Gás                            0.763158   0.236842"
      ]
     },
     "execution_count": 54,
     "metadata": {},
     "output_type": "execute_result"
    }
   ],
   "source": [
    "df_areas_pct = pd.DataFrame(np.c_[pct_nres,pct_res],index=df_areas.index,columns=df_areas.columns[0:2])\n",
    "df_areas_pct"
   ]
  },
  {
   "cell_type": "code",
   "execution_count": 55,
   "id": "b365de6c",
   "metadata": {},
   "outputs": [
    {
     "data": {
      "text/plain": [
       "Não Resolvida    0.391239\n",
       "Resolvida        0.608761\n",
       "dtype: float64"
      ]
     },
     "execution_count": 55,
     "metadata": {},
     "output_type": "execute_result"
    }
   ],
   "source": [
    "avaliacoes_nres=df_areas.iloc[:,:2].sum() / df_areas.iloc[:,:2].sum().sum()\n",
    "avaliacoes_nres"
   ]
  },
  {
   "cell_type": "code",
   "execution_count": 56,
   "id": "9b8aa643",
   "metadata": {},
   "outputs": [
    {
     "data": {
      "image/png": "[encoded data removed]",
      "text/plain": [
       "<Figure size 1440x720 with 1 Axes>"
      ]
     },
     "metadata": {
      "needs_background": "light"
     },
     "output_type": "display_data"
    }
   ],
   "source": [
    "labels = df_areas.index\n",
    "x = np.arange(len(labels))\n",
    "width = 0.35\n",
    "\n",
    "plt.figure(figsize=[20,10])\n",
    "plt.bar(x-width/2,df_areas.iloc[:,0].values,width,label= 'Não resolvidas')\n",
    "plt.bar(x+width/2,df_areas.iloc[:,1].values,width,label= 'Resolvidas')\n",
    "plt.ylabel('N. atendimentos')\n",
    "plt.legend()\n",
    "\n",
    "plt.title('Frequência reclamações resolvidas por Área')\n",
    "plt.xticks(x,labels)\n",
    "\n",
    "plt.tick_params(axis='x',labelrotation=90)\n",
    "\n",
    "plt.show()"
   ]
  },
  {
   "cell_type": "code",
   "execution_count": 57,
   "id": "767746bf",
   "metadata": {},
   "outputs": [
    {
     "data": {
      "image/png": "[encoded data removed]",
      "text/plain": [
       "<Figure size 1440x720 with 1 Axes>"
      ]
     },
     "metadata": {
      "needs_background": "light"
     },
     "output_type": "display_data"
    }
   ],
   "source": [
    "labels = df_areas_pct.index\n",
    "x = np.arange(len(labels))\n",
    "width = 0.35\n",
    "\n",
    "plt.figure(figsize=[20,10])\n",
    "plt.bar(x,pct_res*100,width,label= 'Resolvidas')\n",
    "plt.bar(x,pct_nres*100,width,bottom=(pct_res*100),label= 'Não resolvidas')\n",
    "\n",
    "plt.ylabel('%')\n",
    "plt.legend()\n",
    "plt.axhline(y = avaliacoes_nres[1]*100,linestyle=\"--\",linewidth=1,color='blue')\n",
    "plt.title('% Reclamações resolvidas por Área')\n",
    "plt.xticks(x,labels)\n",
    "plt.annotate('% Resolvido Geral',(12.3,63))\n",
    "plt.tick_params(axis='x',labelrotation=90)\n",
    "\n",
    "plt.show()"
   ]
  },
  {
   "cell_type": "raw",
   "id": "c4d1ef73",
   "metadata": {},
   "source": [
    "O gráfico sugere que há diferenças nos índices de resoluções das reclamações nas diversas Áreas\n",
    "Vamos testar a hipótese:\n",
    "\n",
    "h0 (nula) - Área e Avaliação possuem relação direta\n",
    "h1 (alternativa) - as duas variáveis são indepententes\n",
    "\n",
    "São duas variáveis qualitativas, portante calcularemos o chi-quadrado"
   ]
  },
  {
   "cell_type": "code",
   "execution_count": 59,
   "id": "f7fa9252",
   "metadata": {},
   "outputs": [
    {
     "data": {
      "text/html": [
       "<div>\n",
       "<style scoped>\n",
       "    .dataframe tbody tr th:only-of-type {\n",
       "        vertical-align: middle;\n",
       "    }\n",
       "\n",
       "    .dataframe tbody tr th {\n",
       "        vertical-align: top;\n",
       "    }\n",
       "\n",
       "    .dataframe thead th {\n",
       "        text-align: right;\n",
       "    }\n",
       "</style>\n",
       "<table border=\"1\" class=\"dataframe\">\n",
       "  <thead>\n",
       "    <tr style=\"text-align: right;\">\n",
       "      <th></th>\n",
       "      <th>0</th>\n",
       "      <th>1</th>\n",
       "    </tr>\n",
       "  </thead>\n",
       "  <tbody>\n",
       "    <tr>\n",
       "      <th>0</th>\n",
       "      <td>24.3</td>\n",
       "      <td>37.7</td>\n",
       "    </tr>\n",
       "    <tr>\n",
       "      <th>1</th>\n",
       "      <td>565.7</td>\n",
       "      <td>880.3</td>\n",
       "    </tr>\n",
       "    <tr>\n",
       "      <th>2</th>\n",
       "      <td>99.0</td>\n",
       "      <td>154.0</td>\n",
       "    </tr>\n",
       "    <tr>\n",
       "      <th>3</th>\n",
       "      <td>1.2</td>\n",
       "      <td>1.8</td>\n",
       "    </tr>\n",
       "    <tr>\n",
       "      <th>4</th>\n",
       "      <td>18.0</td>\n",
       "      <td>28.0</td>\n",
       "    </tr>\n",
       "    <tr>\n",
       "      <th>5</th>\n",
       "      <td>940.1</td>\n",
       "      <td>1462.9</td>\n",
       "    </tr>\n",
       "    <tr>\n",
       "      <th>6</th>\n",
       "      <td>1863.5</td>\n",
       "      <td>2899.5</td>\n",
       "    </tr>\n",
       "    <tr>\n",
       "      <th>7</th>\n",
       "      <td>59.5</td>\n",
       "      <td>92.5</td>\n",
       "    </tr>\n",
       "    <tr>\n",
       "      <th>8</th>\n",
       "      <td>2067.3</td>\n",
       "      <td>3216.7</td>\n",
       "    </tr>\n",
       "    <tr>\n",
       "      <th>9</th>\n",
       "      <td>5361.9</td>\n",
       "      <td>8343.1</td>\n",
       "    </tr>\n",
       "    <tr>\n",
       "      <th>10</th>\n",
       "      <td>117.4</td>\n",
       "      <td>182.6</td>\n",
       "    </tr>\n",
       "    <tr>\n",
       "      <th>11</th>\n",
       "      <td>67.3</td>\n",
       "      <td>104.7</td>\n",
       "    </tr>\n",
       "    <tr>\n",
       "      <th>12</th>\n",
       "      <td>14.9</td>\n",
       "      <td>23.1</td>\n",
       "    </tr>\n",
       "  </tbody>\n",
       "</table>\n",
       "</div>"
      ],
      "text/plain": [
       "         0       1\n",
       "0     24.3    37.7\n",
       "1    565.7   880.3\n",
       "2     99.0   154.0\n",
       "3      1.2     1.8\n",
       "4     18.0    28.0\n",
       "5    940.1  1462.9\n",
       "6   1863.5  2899.5\n",
       "7     59.5    92.5\n",
       "8   2067.3  3216.7\n",
       "9   5361.9  8343.1\n",
       "10   117.4   182.6\n",
       "11    67.3   104.7\n",
       "12    14.9    23.1"
      ]
     },
     "execution_count": 59,
     "metadata": {},
     "output_type": "execute_result"
    }
   ],
   "source": [
    "esp_0 = round((df_areas.iloc[:,2] * avaliacoes_nres[0]),1)\n",
    "esp_1 = round((df_areas.iloc[:,2] * avaliacoes_nres[1]),1)\n",
    "\n",
    "df_areas_esp = pd.DataFrame(np.c_[esp_0,esp_1])\n",
    "df_areas_esp"
   ]
  },
  {
   "cell_type": "code",
   "execution_count": 60,
   "id": "d89b7063",
   "metadata": {},
   "outputs": [
    {
     "data": {
      "text/plain": [
       "array([[9.0000000e-02, 9.0000000e-02],\n",
       "       [1.0261690e+04, 1.0261690e+04],\n",
       "       [2.5000000e+01, 2.5000000e+01],\n",
       "       [3.2400000e+00, 3.2400000e+00],\n",
       "       [9.0000000e+00, 9.0000000e+00],\n",
       "       [4.1575210e+04, 4.1575210e+04],\n",
       "       [3.6602500e+03, 3.6602500e+03],\n",
       "       [1.3322500e+03, 1.3322500e+03],\n",
       "       [3.9085290e+04, 3.9085290e+04],\n",
       "       [2.8504921e+05, 2.8504921e+05],\n",
       "       [6.0516000e+02, 6.0516000e+02],\n",
       "       [5.1529000e+02, 5.1529000e+02],\n",
       "       [1.9881000e+02, 1.9881000e+02]])"
      ]
     },
     "execution_count": 60,
     "metadata": {},
     "output_type": "execute_result"
    }
   ],
   "source": [
    "desvios_ao_2 = (df_areas.iloc[:,:2].values - df_areas_esp.values) ** 2\n",
    "desvios_ao_2"
   ]
  },
  {
   "cell_type": "code",
   "execution_count": 61,
   "id": "696f4649",
   "metadata": {},
   "outputs": [
    {
     "data": {
      "text/plain": [
       "309.5846879998762"
      ]
     },
     "execution_count": 61,
     "metadata": {},
     "output_type": "execute_result"
    }
   ],
   "source": [
    "chi_quad_areas = sum(sum(desvios_ao_2 / df_areas_esp.values))\n",
    "chi_quad_areas"
   ]
  },
  {
   "cell_type": "markdown",
   "id": "deacc05f",
   "metadata": {},
   "source": [
    "Valor de chi-quadrado elevado nos leva a confirmar h0"
   ]
  },
  {
   "cell_type": "code",
   "execution_count": null,
   "id": "41e1d422",
   "metadata": {},
   "outputs": [],
   "source": []
  }
 ],
 "metadata": {
  "kernelspec": {
   "display_name": "Python 3",
   "language": "python",
   "name": "python3"
  },
  "language_info": {
   "codemirror_mode": {
    "name": "ipython",
    "version": 3
   },
   "file_extension": ".py",
   "mimetype": "text/x-python",
   "name": "python",
   "nbconvert_exporter": "python",
   "pygments_lexer": "ipython3",
   "version": "3.8.8"
  }
 },
 "nbformat": 4,
 "nbformat_minor": 5
}
