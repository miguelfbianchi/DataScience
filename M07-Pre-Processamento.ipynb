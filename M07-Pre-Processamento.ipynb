{
 "cells": [
  {
   "cell_type": "markdown",
   "metadata": {},
   "source": [
    "# Exercícios:\n",
    "\n",
    "\n",
    "\n",
    "<br>\n",
    "Módulo 7 - Pré-processamento\n",
    "<br>"
   ]
  },
  {
   "cell_type": "code",
   "execution_count": 1,
   "metadata": {},
   "outputs": [],
   "source": [
    "import pandas as pd"
   ]
  },
  {
   "cell_type": "code",
   "execution_count": 2,
   "metadata": {},
   "outputs": [],
   "source": [
    "import numpy as np"
   ]
  },
  {
   "cell_type": "code",
   "execution_count": 3,
   "metadata": {},
   "outputs": [],
   "source": [
    "from matplotlib import pyplot as plt"
   ]
  },
  {
   "cell_type": "markdown",
   "metadata": {},
   "source": [
    "<br>\n",
    "\n",
    "**1 - Importe o arquivo \"dataframe_exercicio_modulo_7.csv\" em um dataframe - df - do Pandas.**"
   ]
  },
  {
   "cell_type": "code",
   "execution_count": 4,
   "metadata": {},
   "outputs": [
    {
     "data": {
      "text/html": [
       "<div>\n",
       "<style scoped>\n",
       "    .dataframe tbody tr th:only-of-type {\n",
       "        vertical-align: middle;\n",
       "    }\n",
       "\n",
       "    .dataframe tbody tr th {\n",
       "        vertical-align: top;\n",
       "    }\n",
       "\n",
       "    .dataframe thead th {\n",
       "        text-align: right;\n",
       "    }\n",
       "</style>\n",
       "<table border=\"1\" class=\"dataframe\">\n",
       "  <thead>\n",
       "    <tr style=\"text-align: right;\">\n",
       "      <th></th>\n",
       "      <th>idade</th>\n",
       "      <th>tempo_educacao</th>\n",
       "      <th>estado_civil</th>\n",
       "      <th>cor</th>\n",
       "      <th>sexo</th>\n",
       "      <th>horas_por_semana</th>\n",
       "      <th>salario_anual</th>\n",
       "      <th>nome</th>\n",
       "      <th>dívida</th>\n",
       "    </tr>\n",
       "  </thead>\n",
       "  <tbody>\n",
       "    <tr>\n",
       "      <th>0</th>\n",
       "      <td>39.0</td>\n",
       "      <td>13</td>\n",
       "      <td>Never-married</td>\n",
       "      <td>White</td>\n",
       "      <td>Male</td>\n",
       "      <td>40</td>\n",
       "      <td>&lt;=50K</td>\n",
       "      <td>NaN</td>\n",
       "      <td>NaN</td>\n",
       "    </tr>\n",
       "    <tr>\n",
       "      <th>1</th>\n",
       "      <td>50.0</td>\n",
       "      <td>13</td>\n",
       "      <td>Married-civ-spouse</td>\n",
       "      <td>White</td>\n",
       "      <td>Male</td>\n",
       "      <td>13</td>\n",
       "      <td>&lt;=50K</td>\n",
       "      <td>NaN</td>\n",
       "      <td>NaN</td>\n",
       "    </tr>\n",
       "    <tr>\n",
       "      <th>2</th>\n",
       "      <td>38.0</td>\n",
       "      <td>9</td>\n",
       "      <td>Divorced</td>\n",
       "      <td>White</td>\n",
       "      <td>Male</td>\n",
       "      <td>40</td>\n",
       "      <td>&lt;=50K</td>\n",
       "      <td>NaN</td>\n",
       "      <td>NaN</td>\n",
       "    </tr>\n",
       "    <tr>\n",
       "      <th>3</th>\n",
       "      <td>53.0</td>\n",
       "      <td>7</td>\n",
       "      <td>Married-civ-spouse</td>\n",
       "      <td>Black</td>\n",
       "      <td>Male</td>\n",
       "      <td>40</td>\n",
       "      <td>&lt;=50K</td>\n",
       "      <td>NaN</td>\n",
       "      <td>NaN</td>\n",
       "    </tr>\n",
       "    <tr>\n",
       "      <th>4</th>\n",
       "      <td>37.0</td>\n",
       "      <td>14</td>\n",
       "      <td>Married-civ-spouse</td>\n",
       "      <td>White</td>\n",
       "      <td>Female</td>\n",
       "      <td>40</td>\n",
       "      <td>&lt;=50K</td>\n",
       "      <td>NaN</td>\n",
       "      <td>NaN</td>\n",
       "    </tr>\n",
       "  </tbody>\n",
       "</table>\n",
       "</div>"
      ],
      "text/plain": [
       "   idade  tempo_educacao        estado_civil    cor    sexo  horas_por_semana  \\\n",
       "0   39.0              13       Never-married  White    Male                40   \n",
       "1   50.0              13  Married-civ-spouse  White    Male                13   \n",
       "2   38.0               9            Divorced  White    Male                40   \n",
       "3   53.0               7  Married-civ-spouse  Black    Male                40   \n",
       "4   37.0              14  Married-civ-spouse  White  Female                40   \n",
       "\n",
       "  salario_anual  nome  dívida  \n",
       "0         <=50K   NaN     NaN  \n",
       "1         <=50K   NaN     NaN  \n",
       "2         <=50K   NaN     NaN  \n",
       "3         <=50K   NaN     NaN  \n",
       "4         <=50K   NaN     NaN  "
      ]
     },
     "execution_count": 4,
     "metadata": {},
     "output_type": "execute_result"
    }
   ],
   "source": [
    "df = pd.read_csv(\"dataframe_exercicio_modulo_7.csv\")\n",
    "df.head()"
   ]
  },
  {
   "cell_type": "markdown",
   "metadata": {},
   "source": [
    "<br>\n",
    "\n",
    "**2 - Quais as dimensões do dataframe?**"
   ]
  },
  {
   "cell_type": "code",
   "execution_count": 5,
   "metadata": {},
   "outputs": [
    {
     "data": {
      "text/plain": [
       "(29170, 9)"
      ]
     },
     "execution_count": 5,
     "metadata": {},
     "output_type": "execute_result"
    }
   ],
   "source": [
    "df.shape"
   ]
  },
  {
   "cell_type": "markdown",
   "metadata": {},
   "source": [
    "**R: O dataframe possui 29.170 linhas e 9 colunas**\n",
    "\n",
    "<br>"
   ]
  },
  {
   "cell_type": "markdown",
   "metadata": {},
   "source": [
    "**3 - Qual o tipo das variáveis?**"
   ]
  },
  {
   "cell_type": "code",
   "execution_count": 6,
   "metadata": {},
   "outputs": [
    {
     "data": {
      "text/plain": [
       "idade               float64\n",
       "tempo_educacao        int64\n",
       "estado_civil         object\n",
       "cor                  object\n",
       "sexo                 object\n",
       "horas_por_semana      int64\n",
       "salario_anual        object\n",
       "nome                float64\n",
       "dívida              float64\n",
       "dtype: object"
      ]
     },
     "execution_count": 6,
     "metadata": {},
     "output_type": "execute_result"
    }
   ],
   "source": [
    "df.dtypes"
   ]
  },
  {
   "cell_type": "markdown",
   "metadata": {},
   "source": [
    "**R: Há variáveis numéricas (float e int) e categóricas (object), conforme output da linha anterior.**\n",
    "\n",
    "<br>"
   ]
  },
  {
   "cell_type": "markdown",
   "metadata": {},
   "source": [
    "**4 - Existem variáveis faltantes no dataset? Quais?**"
   ]
  },
  {
   "cell_type": "code",
   "execution_count": 7,
   "metadata": {},
   "outputs": [
    {
     "name": "stdout",
     "output_type": "stream",
     "text": [
      "Quantidades de dados faltantes por variável:\n"
     ]
    },
    {
     "data": {
      "text/plain": [
       "idade                  99\n",
       "tempo_educacao          0\n",
       "estado_civil            0\n",
       "cor                     0\n",
       "sexo                    0\n",
       "horas_por_semana        0\n",
       "salario_anual           0\n",
       "nome                29170\n",
       "dívida              29170\n",
       "dtype: int64"
      ]
     },
     "execution_count": 7,
     "metadata": {},
     "output_type": "execute_result"
    }
   ],
   "source": [
    "print('Quantidades de dados faltantes por variável:')\n",
    "df.isnull().sum()"
   ]
  },
  {
   "cell_type": "code",
   "execution_count": 8,
   "metadata": {},
   "outputs": [
    {
     "name": "stdout",
     "output_type": "stream",
     "text": [
      "Percentual de dados faltantes por variável:\n"
     ]
    },
    {
     "data": {
      "text/plain": [
       "idade                 0.34\n",
       "tempo_educacao        0.00\n",
       "estado_civil          0.00\n",
       "cor                   0.00\n",
       "sexo                  0.00\n",
       "horas_por_semana      0.00\n",
       "salario_anual         0.00\n",
       "nome                100.00\n",
       "dívida              100.00\n",
       "dtype: float64"
      ]
     },
     "execution_count": 8,
     "metadata": {},
     "output_type": "execute_result"
    }
   ],
   "source": [
    "print('Percentual de dados faltantes por variável:')\n",
    "round((df.isnull().sum() / df.shape[0]) * 100,2)"
   ]
  },
  {
   "cell_type": "markdown",
   "metadata": {},
   "source": [
    "**R: As varíaveis 'nome' e 'dívida' estão ausentes em todas as entradas / linhas. Podemos eliminá-las do dataframe.<br>\n",
    "A variável 'idade' possui poucos dados faltantes (0,34%). Estes dados podem ser tratados para serem utilizados nas análises.**\n",
    "\n",
    "<br>"
   ]
  },
  {
   "cell_type": "markdown",
   "metadata": {},
   "source": [
    "**5 - Exiba todas as categorias das variáveis 'estado_civil', 'cor' e 'sexo'. Você consegue detectar algum problema?**"
   ]
  },
  {
   "cell_type": "code",
   "execution_count": 9,
   "metadata": {},
   "outputs": [
    {
     "data": {
      "text/plain": [
       "array(['Never-married', 'Married-civ-spouse', 'Divorced', 'Separated',\n",
       "       'Married-AF-spouse', 'Widowed', 'Married-spouse-absent'],\n",
       "      dtype=object)"
      ]
     },
     "execution_count": 9,
     "metadata": {},
     "output_type": "execute_result"
    }
   ],
   "source": [
    "df['estado_civil'].unique()"
   ]
  },
  {
   "cell_type": "code",
   "execution_count": 10,
   "metadata": {},
   "outputs": [
    {
     "data": {
      "text/plain": [
       "array(['White', 'Black', 'Other', 'Asian-Pac-Islander',\n",
       "       'Amer-Indian-Eskimo'], dtype=object)"
      ]
     },
     "execution_count": 10,
     "metadata": {},
     "output_type": "execute_result"
    }
   ],
   "source": [
    "df['cor'].unique()"
   ]
  },
  {
   "cell_type": "code",
   "execution_count": 11,
   "metadata": {},
   "outputs": [
    {
     "data": {
      "text/plain": [
       "array(['Male', 'Female', '?'], dtype=object)"
      ]
     },
     "execution_count": 11,
     "metadata": {},
     "output_type": "execute_result"
    }
   ],
   "source": [
    "df['sexo'].unique()"
   ]
  },
  {
   "cell_type": "code",
   "execution_count": 12,
   "metadata": {},
   "outputs": [
    {
     "data": {
      "text/plain": [
       "Male      62.33\n",
       "Female    31.03\n",
       "?          6.64\n",
       "Name: sexo, dtype: float64"
      ]
     },
     "execution_count": 12,
     "metadata": {},
     "output_type": "execute_result"
    }
   ],
   "source": [
    "round(df['sexo'].value_counts() / df.shape[0] * 100,2)"
   ]
  },
  {
   "cell_type": "markdown",
   "metadata": {},
   "source": [
    "**R: Na variável sexo 6,64% dos valores são da categoria \"?\". Podemos interpretar esta categoria como um dado faltante,já que não há, em princípio, outras categorias possíveis para a variável 'sexo' neste conjunto de dados.\n",
    "<br>\n",
    "Em se tratando de uma variável com poucos valores faltantes em relação ao total do dataframe, podemos substituir os valores '?' pela moda (valores mais frequentes)**\n",
    "\n",
    "<br>"
   ]
  },
  {
   "cell_type": "markdown",
   "metadata": {},
   "source": [
    "**6 - Faça um tratamento nas variáveis faltantes.**"
   ]
  },
  {
   "cell_type": "code",
   "execution_count": 13,
   "metadata": {},
   "outputs": [
    {
     "data": {
      "text/html": [
       "<div>\n",
       "<style scoped>\n",
       "    .dataframe tbody tr th:only-of-type {\n",
       "        vertical-align: middle;\n",
       "    }\n",
       "\n",
       "    .dataframe tbody tr th {\n",
       "        vertical-align: top;\n",
       "    }\n",
       "\n",
       "    .dataframe thead th {\n",
       "        text-align: right;\n",
       "    }\n",
       "</style>\n",
       "<table border=\"1\" class=\"dataframe\">\n",
       "  <thead>\n",
       "    <tr style=\"text-align: right;\">\n",
       "      <th></th>\n",
       "      <th>idade</th>\n",
       "      <th>tempo_educacao</th>\n",
       "      <th>estado_civil</th>\n",
       "      <th>cor</th>\n",
       "      <th>sexo</th>\n",
       "      <th>horas_por_semana</th>\n",
       "      <th>salario_anual</th>\n",
       "    </tr>\n",
       "  </thead>\n",
       "  <tbody>\n",
       "    <tr>\n",
       "      <th>0</th>\n",
       "      <td>39.0</td>\n",
       "      <td>13</td>\n",
       "      <td>Never-married</td>\n",
       "      <td>White</td>\n",
       "      <td>Male</td>\n",
       "      <td>40</td>\n",
       "      <td>&lt;=50K</td>\n",
       "    </tr>\n",
       "    <tr>\n",
       "      <th>1</th>\n",
       "      <td>50.0</td>\n",
       "      <td>13</td>\n",
       "      <td>Married-civ-spouse</td>\n",
       "      <td>White</td>\n",
       "      <td>Male</td>\n",
       "      <td>13</td>\n",
       "      <td>&lt;=50K</td>\n",
       "    </tr>\n",
       "    <tr>\n",
       "      <th>2</th>\n",
       "      <td>38.0</td>\n",
       "      <td>9</td>\n",
       "      <td>Divorced</td>\n",
       "      <td>White</td>\n",
       "      <td>Male</td>\n",
       "      <td>40</td>\n",
       "      <td>&lt;=50K</td>\n",
       "    </tr>\n",
       "    <tr>\n",
       "      <th>3</th>\n",
       "      <td>53.0</td>\n",
       "      <td>7</td>\n",
       "      <td>Married-civ-spouse</td>\n",
       "      <td>Black</td>\n",
       "      <td>Male</td>\n",
       "      <td>40</td>\n",
       "      <td>&lt;=50K</td>\n",
       "    </tr>\n",
       "    <tr>\n",
       "      <th>4</th>\n",
       "      <td>37.0</td>\n",
       "      <td>14</td>\n",
       "      <td>Married-civ-spouse</td>\n",
       "      <td>White</td>\n",
       "      <td>Female</td>\n",
       "      <td>40</td>\n",
       "      <td>&lt;=50K</td>\n",
       "    </tr>\n",
       "  </tbody>\n",
       "</table>\n",
       "</div>"
      ],
      "text/plain": [
       "   idade  tempo_educacao        estado_civil    cor    sexo  horas_por_semana  \\\n",
       "0   39.0              13       Never-married  White    Male                40   \n",
       "1   50.0              13  Married-civ-spouse  White    Male                13   \n",
       "2   38.0               9            Divorced  White    Male                40   \n",
       "3   53.0               7  Married-civ-spouse  Black    Male                40   \n",
       "4   37.0              14  Married-civ-spouse  White  Female                40   \n",
       "\n",
       "  salario_anual  \n",
       "0         <=50K  \n",
       "1         <=50K  \n",
       "2         <=50K  \n",
       "3         <=50K  \n",
       "4         <=50K  "
      ]
     },
     "execution_count": 13,
     "metadata": {},
     "output_type": "execute_result"
    }
   ],
   "source": [
    "# vamos eliminar do dataframe as colunas 'nome' e dívida, pois não apresentam nenhum dado\n",
    "\n",
    "df1 = df.drop(columns=['nome','dívida'])\n",
    "df1.head()"
   ]
  },
  {
   "cell_type": "code",
   "execution_count": 14,
   "metadata": {},
   "outputs": [
    {
     "data": {
      "text/plain": [
       "38.7"
      ]
     },
     "execution_count": 14,
     "metadata": {},
     "output_type": "execute_result"
    }
   ],
   "source": [
    "# variável 'idade': é numérica. Vamos preencher os valores faltantes com a média dos valores conhecidos\n",
    "\n",
    "media_idade = round(df1.idade.mean(),1)\n",
    "media_idade"
   ]
  },
  {
   "cell_type": "code",
   "execution_count": 15,
   "metadata": {},
   "outputs": [],
   "source": [
    "df1.idade.fillna(media_idade,inplace=True)"
   ]
  },
  {
   "cell_type": "code",
   "execution_count": 16,
   "metadata": {},
   "outputs": [
    {
     "data": {
      "text/plain": [
       "idade               0\n",
       "tempo_educacao      0\n",
       "estado_civil        0\n",
       "cor                 0\n",
       "sexo                0\n",
       "horas_por_semana    0\n",
       "salario_anual       0\n",
       "dtype: int64"
      ]
     },
     "execution_count": 16,
     "metadata": {},
     "output_type": "execute_result"
    }
   ],
   "source": [
    "df1.isnull().sum()"
   ]
  },
  {
   "cell_type": "code",
   "execution_count": 17,
   "metadata": {},
   "outputs": [],
   "source": [
    "# variável 'sexo' é categórica. Vamos substituir os valores '?' (consideramos valores faltantes) pela moda\n",
    "\n",
    "moda_sexo = df1.sexo.value_counts().idxmax()\n",
    "df1.sexo = np.where(df1.sexo == '?',moda_sexo,df1.sexo)"
   ]
  },
  {
   "cell_type": "code",
   "execution_count": 18,
   "metadata": {},
   "outputs": [
    {
     "data": {
      "text/plain": [
       "Male      20118\n",
       "Female     9052\n",
       "Name: sexo, dtype: int64"
      ]
     },
     "execution_count": 18,
     "metadata": {},
     "output_type": "execute_result"
    }
   ],
   "source": [
    "df1.sexo.value_counts()"
   ]
  },
  {
   "cell_type": "markdown",
   "metadata": {},
   "source": [
    "<br>\n",
    "\n",
    "**7 - Aplique uma transformação \"MinMax\" na variável  'tempo_educacao'e uma transformação \"StandardScaler\" na variável 'horas_por_semana'.**"
   ]
  },
  {
   "cell_type": "code",
   "execution_count": 19,
   "metadata": {},
   "outputs": [
    {
     "data": {
      "image/png": "[encoded data removed]",
      "text/plain": [
       "<Figure size 432x288 with 1 Axes>"
      ]
     },
     "metadata": {
      "needs_background": "light"
     },
     "output_type": "display_data"
    }
   ],
   "source": [
    "plt.title('Histograma - Tempo Educação',fontsize=14, fontweight='bold')\n",
    "plt.hist(df1.tempo_educacao)\n",
    "plt.show()"
   ]
  },
  {
   "cell_type": "code",
   "execution_count": 20,
   "metadata": {},
   "outputs": [],
   "source": [
    "from sklearn.preprocessing import MinMaxScaler, StandardScaler"
   ]
  },
  {
   "cell_type": "code",
   "execution_count": 21,
   "metadata": {},
   "outputs": [],
   "source": [
    "mm_scaler = MinMaxScaler()"
   ]
  },
  {
   "cell_type": "code",
   "execution_count": 22,
   "metadata": {},
   "outputs": [],
   "source": [
    "X = df1.tempo_educacao.values.reshape(-1,1)"
   ]
  },
  {
   "cell_type": "code",
   "execution_count": 23,
   "metadata": {},
   "outputs": [
    {
     "data": {
      "text/plain": [
       "MinMaxScaler()"
      ]
     },
     "execution_count": 23,
     "metadata": {},
     "output_type": "execute_result"
    }
   ],
   "source": [
    "mm_scaler.fit(X)"
   ]
  },
  {
   "cell_type": "code",
   "execution_count": 24,
   "metadata": {},
   "outputs": [],
   "source": [
    "df1['tempo_educacao_norm'] = mm_scaler.transform(X).round(4)"
   ]
  },
  {
   "cell_type": "code",
   "execution_count": 25,
   "metadata": {},
   "outputs": [
    {
     "data": {
      "text/html": [
       "<div>\n",
       "<style scoped>\n",
       "    .dataframe tbody tr th:only-of-type {\n",
       "        vertical-align: middle;\n",
       "    }\n",
       "\n",
       "    .dataframe tbody tr th {\n",
       "        vertical-align: top;\n",
       "    }\n",
       "\n",
       "    .dataframe thead th {\n",
       "        text-align: right;\n",
       "    }\n",
       "</style>\n",
       "<table border=\"1\" class=\"dataframe\">\n",
       "  <thead>\n",
       "    <tr style=\"text-align: right;\">\n",
       "      <th></th>\n",
       "      <th>idade</th>\n",
       "      <th>tempo_educacao</th>\n",
       "      <th>estado_civil</th>\n",
       "      <th>cor</th>\n",
       "      <th>sexo</th>\n",
       "      <th>horas_por_semana</th>\n",
       "      <th>salario_anual</th>\n",
       "      <th>tempo_educacao_norm</th>\n",
       "    </tr>\n",
       "  </thead>\n",
       "  <tbody>\n",
       "    <tr>\n",
       "      <th>0</th>\n",
       "      <td>39.0</td>\n",
       "      <td>13</td>\n",
       "      <td>Never-married</td>\n",
       "      <td>White</td>\n",
       "      <td>Male</td>\n",
       "      <td>40</td>\n",
       "      <td>&lt;=50K</td>\n",
       "      <td>0.8000</td>\n",
       "    </tr>\n",
       "    <tr>\n",
       "      <th>1</th>\n",
       "      <td>50.0</td>\n",
       "      <td>13</td>\n",
       "      <td>Married-civ-spouse</td>\n",
       "      <td>White</td>\n",
       "      <td>Male</td>\n",
       "      <td>13</td>\n",
       "      <td>&lt;=50K</td>\n",
       "      <td>0.8000</td>\n",
       "    </tr>\n",
       "    <tr>\n",
       "      <th>2</th>\n",
       "      <td>38.0</td>\n",
       "      <td>9</td>\n",
       "      <td>Divorced</td>\n",
       "      <td>White</td>\n",
       "      <td>Male</td>\n",
       "      <td>40</td>\n",
       "      <td>&lt;=50K</td>\n",
       "      <td>0.5333</td>\n",
       "    </tr>\n",
       "    <tr>\n",
       "      <th>3</th>\n",
       "      <td>53.0</td>\n",
       "      <td>7</td>\n",
       "      <td>Married-civ-spouse</td>\n",
       "      <td>Black</td>\n",
       "      <td>Male</td>\n",
       "      <td>40</td>\n",
       "      <td>&lt;=50K</td>\n",
       "      <td>0.4000</td>\n",
       "    </tr>\n",
       "    <tr>\n",
       "      <th>4</th>\n",
       "      <td>37.0</td>\n",
       "      <td>14</td>\n",
       "      <td>Married-civ-spouse</td>\n",
       "      <td>White</td>\n",
       "      <td>Female</td>\n",
       "      <td>40</td>\n",
       "      <td>&lt;=50K</td>\n",
       "      <td>0.8667</td>\n",
       "    </tr>\n",
       "  </tbody>\n",
       "</table>\n",
       "</div>"
      ],
      "text/plain": [
       "   idade  tempo_educacao        estado_civil    cor    sexo  horas_por_semana  \\\n",
       "0   39.0              13       Never-married  White    Male                40   \n",
       "1   50.0              13  Married-civ-spouse  White    Male                13   \n",
       "2   38.0               9            Divorced  White    Male                40   \n",
       "3   53.0               7  Married-civ-spouse  Black    Male                40   \n",
       "4   37.0              14  Married-civ-spouse  White  Female                40   \n",
       "\n",
       "  salario_anual  tempo_educacao_norm  \n",
       "0         <=50K               0.8000  \n",
       "1         <=50K               0.8000  \n",
       "2         <=50K               0.5333  \n",
       "3         <=50K               0.4000  \n",
       "4         <=50K               0.8667  "
      ]
     },
     "execution_count": 25,
     "metadata": {},
     "output_type": "execute_result"
    }
   ],
   "source": [
    "df1.head()"
   ]
  },
  {
   "cell_type": "code",
   "execution_count": 26,
   "metadata": {},
   "outputs": [
    {
     "data": {
      "image/png": "[encoded data removed]",
      "text/plain": [
       "<Figure size 432x288 with 1 Axes>"
      ]
     },
     "metadata": {
      "needs_background": "light"
     },
     "output_type": "display_data"
    }
   ],
   "source": [
    "plt.title('Histograma - Tempo Educação - Normalizado',fontsize=14, fontweight='bold')\n",
    "plt.hist(df1.tempo_educacao_norm)\n",
    "plt.show()"
   ]
  },
  {
   "cell_type": "code",
   "execution_count": 27,
   "metadata": {},
   "outputs": [],
   "source": [
    "ss_scaler = StandardScaler()"
   ]
  },
  {
   "cell_type": "code",
   "execution_count": 28,
   "metadata": {},
   "outputs": [
    {
     "data": {
      "image/png": "[encoded data removed]",
      "text/plain": [
       "<Figure size 432x288 with 1 Axes>"
      ]
     },
     "metadata": {
      "needs_background": "light"
     },
     "output_type": "display_data"
    }
   ],
   "source": [
    "plt.title('Histograma - Horas por Semana',fontsize=14, fontweight='bold')\n",
    "plt.hist(df1.horas_por_semana)\n",
    "plt.show()"
   ]
  },
  {
   "cell_type": "code",
   "execution_count": 29,
   "metadata": {},
   "outputs": [
    {
     "data": {
      "text/plain": [
       "array([[40],\n",
       "       [13],\n",
       "       [40],\n",
       "       ...,\n",
       "       [40],\n",
       "       [20],\n",
       "       [40]], dtype=int64)"
      ]
     },
     "execution_count": 29,
     "metadata": {},
     "output_type": "execute_result"
    }
   ],
   "source": [
    "Y = df1.horas_por_semana.values.reshape(-1,1)\n",
    "Y"
   ]
  },
  {
   "cell_type": "code",
   "execution_count": 30,
   "metadata": {},
   "outputs": [],
   "source": [
    "ss_scaler.fit(Y)\n",
    "df1['horas_por_semana_norm'] = ss_scaler.transform(Y)"
   ]
  },
  {
   "cell_type": "code",
   "execution_count": 31,
   "metadata": {},
   "outputs": [
    {
     "data": {
      "image/png": "[encoded data removed]",
      "text/plain": [
       "<Figure size 432x288 with 1 Axes>"
      ]
     },
     "metadata": {
      "needs_background": "light"
     },
     "output_type": "display_data"
    }
   ],
   "source": [
    "plt.title('Histograma - Horas por Semana - Normalizado',fontsize=14, fontweight='bold')\n",
    "plt.hist(df1.horas_por_semana_norm)\n",
    "plt.show()"
   ]
  },
  {
   "cell_type": "code",
   "execution_count": 32,
   "metadata": {},
   "outputs": [
    {
     "data": {
      "text/plain": [
       "count    29170.0000\n",
       "mean         0.0000\n",
       "std          1.0000\n",
       "min         -3.1769\n",
       "25%         -0.0361\n",
       "50%         -0.0361\n",
       "75%          0.3666\n",
       "max          4.7155\n",
       "Name: horas_por_semana_norm, dtype: float64"
      ]
     },
     "execution_count": 32,
     "metadata": {},
     "output_type": "execute_result"
    }
   ],
   "source": [
    "round(df1.horas_por_semana_norm.describe(),4)"
   ]
  },
  {
   "cell_type": "markdown",
   "metadata": {},
   "source": [
    "<br>\n",
    "\n",
    "**8 - Aplique ohe-hot-encoding nas variáveis 'estado_civil', 'cor' e 'sexo'.**"
   ]
  },
  {
   "cell_type": "code",
   "execution_count": 33,
   "metadata": {},
   "outputs": [],
   "source": [
    "from sklearn.preprocessing import OneHotEncoder"
   ]
  },
  {
   "cell_type": "code",
   "execution_count": 34,
   "metadata": {},
   "outputs": [],
   "source": [
    "ohe = OneHotEncoder()"
   ]
  },
  {
   "cell_type": "code",
   "execution_count": 35,
   "metadata": {},
   "outputs": [
    {
     "data": {
      "text/plain": [
       "OneHotEncoder()"
      ]
     },
     "execution_count": 35,
     "metadata": {},
     "output_type": "execute_result"
    }
   ],
   "source": [
    "variavel_ohe = df1.estado_civil.values.reshape(-1,1)\n",
    "ohe.fit(variavel_ohe)"
   ]
  },
  {
   "cell_type": "code",
   "execution_count": 36,
   "metadata": {},
   "outputs": [
    {
     "data": {
      "text/plain": [
       "<29170x7 sparse matrix of type '<class 'numpy.float64'>'\n",
       "\twith 29170 stored elements in Compressed Sparse Row format>"
      ]
     },
     "execution_count": 36,
     "metadata": {},
     "output_type": "execute_result"
    }
   ],
   "source": [
    "ohe.transform(variavel_ohe)"
   ]
  },
  {
   "cell_type": "code",
   "execution_count": 37,
   "metadata": {},
   "outputs": [
    {
     "data": {
      "text/plain": [
       "array([[0., 0., 0., ..., 1., 0., 0.],\n",
       "       [0., 0., 1., ..., 0., 0., 0.],\n",
       "       [1., 0., 0., ..., 0., 0., 0.],\n",
       "       ...,\n",
       "       [0., 0., 0., ..., 0., 0., 1.],\n",
       "       [0., 0., 0., ..., 1., 0., 0.],\n",
       "       [0., 0., 1., ..., 0., 0., 0.]])"
      ]
     },
     "execution_count": 37,
     "metadata": {},
     "output_type": "execute_result"
    }
   ],
   "source": [
    "ohe.transform(variavel_ohe).toarray()"
   ]
  },
  {
   "cell_type": "code",
   "execution_count": 38,
   "metadata": {},
   "outputs": [
    {
     "data": {
      "text/plain": [
       "[array(['Divorced', 'Married-AF-spouse', 'Married-civ-spouse',\n",
       "        'Married-spouse-absent', 'Never-married', 'Separated', 'Widowed'],\n",
       "       dtype=object)]"
      ]
     },
     "execution_count": 38,
     "metadata": {},
     "output_type": "execute_result"
    }
   ],
   "source": [
    "ohe.categories_"
   ]
  },
  {
   "cell_type": "code",
   "execution_count": 39,
   "metadata": {},
   "outputs": [],
   "source": [
    "df_OHE1 = pd.DataFrame (ohe.transform(variavel_ohe).toarray(), columns = ohe.categories_[0].tolist())"
   ]
  },
  {
   "cell_type": "code",
   "execution_count": 40,
   "metadata": {},
   "outputs": [],
   "source": [
    "variavel_ohe = df1.cor.values.reshape(-1,1)\n",
    "ohe.fit(variavel_ohe)\n",
    "df_OHE2 = pd.DataFrame (ohe.transform(variavel_ohe).toarray(), columns = ohe.categories_[0].tolist())"
   ]
  },
  {
   "cell_type": "code",
   "execution_count": 41,
   "metadata": {},
   "outputs": [],
   "source": [
    "variavel_ohe = df1.sexo.values.reshape(-1,1)\n",
    "ohe.fit(variavel_ohe)\n",
    "df_OHE3 = pd.DataFrame (ohe.transform(variavel_ohe).toarray(), columns = ohe.categories_[0].tolist())"
   ]
  },
  {
   "cell_type": "code",
   "execution_count": 42,
   "metadata": {},
   "outputs": [],
   "source": [
    "df1 = pd.concat([df1,df_OHE1,df_OHE2,df_OHE3],axis=1)"
   ]
  },
  {
   "cell_type": "code",
   "execution_count": 43,
   "metadata": {},
   "outputs": [
    {
     "data": {
      "text/html": [
       "<div>\n",
       "<style scoped>\n",
       "    .dataframe tbody tr th:only-of-type {\n",
       "        vertical-align: middle;\n",
       "    }\n",
       "\n",
       "    .dataframe tbody tr th {\n",
       "        vertical-align: top;\n",
       "    }\n",
       "\n",
       "    .dataframe thead th {\n",
       "        text-align: right;\n",
       "    }\n",
       "</style>\n",
       "<table border=\"1\" class=\"dataframe\">\n",
       "  <thead>\n",
       "    <tr style=\"text-align: right;\">\n",
       "      <th></th>\n",
       "      <th>idade</th>\n",
       "      <th>tempo_educacao</th>\n",
       "      <th>estado_civil</th>\n",
       "      <th>cor</th>\n",
       "      <th>sexo</th>\n",
       "      <th>horas_por_semana</th>\n",
       "      <th>salario_anual</th>\n",
       "      <th>tempo_educacao_norm</th>\n",
       "      <th>horas_por_semana_norm</th>\n",
       "      <th>Divorced</th>\n",
       "      <th>...</th>\n",
       "      <th>Never-married</th>\n",
       "      <th>Separated</th>\n",
       "      <th>Widowed</th>\n",
       "      <th>Amer-Indian-Eskimo</th>\n",
       "      <th>Asian-Pac-Islander</th>\n",
       "      <th>Black</th>\n",
       "      <th>Other</th>\n",
       "      <th>White</th>\n",
       "      <th>Female</th>\n",
       "      <th>Male</th>\n",
       "    </tr>\n",
       "  </thead>\n",
       "  <tbody>\n",
       "    <tr>\n",
       "      <th>0</th>\n",
       "      <td>39.0</td>\n",
       "      <td>13</td>\n",
       "      <td>Never-married</td>\n",
       "      <td>White</td>\n",
       "      <td>Male</td>\n",
       "      <td>40</td>\n",
       "      <td>&lt;=50K</td>\n",
       "      <td>0.8000</td>\n",
       "      <td>-0.03606</td>\n",
       "      <td>0.0</td>\n",
       "      <td>...</td>\n",
       "      <td>1.0</td>\n",
       "      <td>0.0</td>\n",
       "      <td>0.0</td>\n",
       "      <td>0.0</td>\n",
       "      <td>0.0</td>\n",
       "      <td>0.0</td>\n",
       "      <td>0.0</td>\n",
       "      <td>1.0</td>\n",
       "      <td>0.0</td>\n",
       "      <td>1.0</td>\n",
       "    </tr>\n",
       "    <tr>\n",
       "      <th>1</th>\n",
       "      <td>50.0</td>\n",
       "      <td>13</td>\n",
       "      <td>Married-civ-spouse</td>\n",
       "      <td>White</td>\n",
       "      <td>Male</td>\n",
       "      <td>13</td>\n",
       "      <td>&lt;=50K</td>\n",
       "      <td>0.8000</td>\n",
       "      <td>-2.21050</td>\n",
       "      <td>0.0</td>\n",
       "      <td>...</td>\n",
       "      <td>0.0</td>\n",
       "      <td>0.0</td>\n",
       "      <td>0.0</td>\n",
       "      <td>0.0</td>\n",
       "      <td>0.0</td>\n",
       "      <td>0.0</td>\n",
       "      <td>0.0</td>\n",
       "      <td>1.0</td>\n",
       "      <td>0.0</td>\n",
       "      <td>1.0</td>\n",
       "    </tr>\n",
       "    <tr>\n",
       "      <th>2</th>\n",
       "      <td>38.0</td>\n",
       "      <td>9</td>\n",
       "      <td>Divorced</td>\n",
       "      <td>White</td>\n",
       "      <td>Male</td>\n",
       "      <td>40</td>\n",
       "      <td>&lt;=50K</td>\n",
       "      <td>0.5333</td>\n",
       "      <td>-0.03606</td>\n",
       "      <td>1.0</td>\n",
       "      <td>...</td>\n",
       "      <td>0.0</td>\n",
       "      <td>0.0</td>\n",
       "      <td>0.0</td>\n",
       "      <td>0.0</td>\n",
       "      <td>0.0</td>\n",
       "      <td>0.0</td>\n",
       "      <td>0.0</td>\n",
       "      <td>1.0</td>\n",
       "      <td>0.0</td>\n",
       "      <td>1.0</td>\n",
       "    </tr>\n",
       "    <tr>\n",
       "      <th>3</th>\n",
       "      <td>53.0</td>\n",
       "      <td>7</td>\n",
       "      <td>Married-civ-spouse</td>\n",
       "      <td>Black</td>\n",
       "      <td>Male</td>\n",
       "      <td>40</td>\n",
       "      <td>&lt;=50K</td>\n",
       "      <td>0.4000</td>\n",
       "      <td>-0.03606</td>\n",
       "      <td>0.0</td>\n",
       "      <td>...</td>\n",
       "      <td>0.0</td>\n",
       "      <td>0.0</td>\n",
       "      <td>0.0</td>\n",
       "      <td>0.0</td>\n",
       "      <td>0.0</td>\n",
       "      <td>1.0</td>\n",
       "      <td>0.0</td>\n",
       "      <td>0.0</td>\n",
       "      <td>0.0</td>\n",
       "      <td>1.0</td>\n",
       "    </tr>\n",
       "    <tr>\n",
       "      <th>4</th>\n",
       "      <td>37.0</td>\n",
       "      <td>14</td>\n",
       "      <td>Married-civ-spouse</td>\n",
       "      <td>White</td>\n",
       "      <td>Female</td>\n",
       "      <td>40</td>\n",
       "      <td>&lt;=50K</td>\n",
       "      <td>0.8667</td>\n",
       "      <td>-0.03606</td>\n",
       "      <td>0.0</td>\n",
       "      <td>...</td>\n",
       "      <td>0.0</td>\n",
       "      <td>0.0</td>\n",
       "      <td>0.0</td>\n",
       "      <td>0.0</td>\n",
       "      <td>0.0</td>\n",
       "      <td>0.0</td>\n",
       "      <td>0.0</td>\n",
       "      <td>1.0</td>\n",
       "      <td>1.0</td>\n",
       "      <td>0.0</td>\n",
       "    </tr>\n",
       "  </tbody>\n",
       "</table>\n",
       "<p>5 rows × 23 columns</p>\n",
       "</div>"
      ],
      "text/plain": [
       "   idade  tempo_educacao        estado_civil    cor    sexo  horas_por_semana  \\\n",
       "0   39.0              13       Never-married  White    Male                40   \n",
       "1   50.0              13  Married-civ-spouse  White    Male                13   \n",
       "2   38.0               9            Divorced  White    Male                40   \n",
       "3   53.0               7  Married-civ-spouse  Black    Male                40   \n",
       "4   37.0              14  Married-civ-spouse  White  Female                40   \n",
       "\n",
       "  salario_anual  tempo_educacao_norm  horas_por_semana_norm  Divorced  ...  \\\n",
       "0         <=50K               0.8000               -0.03606       0.0  ...   \n",
       "1         <=50K               0.8000               -2.21050       0.0  ...   \n",
       "2         <=50K               0.5333               -0.03606       1.0  ...   \n",
       "3         <=50K               0.4000               -0.03606       0.0  ...   \n",
       "4         <=50K               0.8667               -0.03606       0.0  ...   \n",
       "\n",
       "   Never-married  Separated  Widowed  Amer-Indian-Eskimo  Asian-Pac-Islander  \\\n",
       "0            1.0        0.0      0.0                 0.0                 0.0   \n",
       "1            0.0        0.0      0.0                 0.0                 0.0   \n",
       "2            0.0        0.0      0.0                 0.0                 0.0   \n",
       "3            0.0        0.0      0.0                 0.0                 0.0   \n",
       "4            0.0        0.0      0.0                 0.0                 0.0   \n",
       "\n",
       "   Black  Other  White  Female  Male  \n",
       "0    0.0    0.0    1.0     0.0   1.0  \n",
       "1    0.0    0.0    1.0     0.0   1.0  \n",
       "2    0.0    0.0    1.0     0.0   1.0  \n",
       "3    1.0    0.0    0.0     0.0   1.0  \n",
       "4    0.0    0.0    1.0     1.0   0.0  \n",
       "\n",
       "[5 rows x 23 columns]"
      ]
     },
     "execution_count": 43,
     "metadata": {},
     "output_type": "execute_result"
    }
   ],
   "source": [
    "df1.head()"
   ]
  },
  {
   "cell_type": "markdown",
   "metadata": {},
   "source": [
    "<br>\n",
    "\n",
    "**9 - Detecte e elimine os outliers da variável 'idade'.**"
   ]
  },
  {
   "cell_type": "code",
   "execution_count": 44,
   "metadata": {},
   "outputs": [
    {
     "data": {
      "image/png": "[encoded data removed]",
      "text/plain": [
       "<Figure size 576x432 with 1 Axes>"
      ]
     },
     "metadata": {
      "needs_background": "light"
     },
     "output_type": "display_data"
    }
   ],
   "source": [
    "plt.figure(figsize = [8,6])\n",
    "plt.title('Idade',fontsize = 14,fontweight = 'bold')\n",
    "plt.grid()\n",
    "plt.boxplot(df1.idade)\n",
    "plt.show()"
   ]
  },
  {
   "cell_type": "code",
   "execution_count": 45,
   "metadata": {},
   "outputs": [
    {
     "data": {
      "text/plain": [
       "20.0"
      ]
     },
     "execution_count": 45,
     "metadata": {},
     "output_type": "execute_result"
    }
   ],
   "source": [
    "# definição do intervalo interquartil\n",
    "iqr = np.percentile(df1.idade,75) - np.percentile(df1.idade,25)\n",
    "iqr"
   ]
  },
  {
   "cell_type": "code",
   "execution_count": 46,
   "metadata": {},
   "outputs": [
    {
     "data": {
      "text/plain": [
       "17.0"
      ]
     },
     "execution_count": 46,
     "metadata": {},
     "output_type": "execute_result"
    }
   ],
   "source": [
    "# definição do limite inferior\n",
    "limite_inf = np.maximum((np.percentile(df1.idade,25) - iqr * 1.5),np.min(df1.idade))\n",
    "limite_inf"
   ]
  },
  {
   "cell_type": "code",
   "execution_count": 47,
   "metadata": {},
   "outputs": [
    {
     "data": {
      "text/plain": [
       "78.0"
      ]
     },
     "execution_count": 47,
     "metadata": {},
     "output_type": "execute_result"
    }
   ],
   "source": [
    "# definição do limite superior\n",
    "limite_sup = np.minimum((np.percentile(df1.idade,75) + 1.5 * iqr),np.max(df1.idade))\n",
    "limite_sup"
   ]
  },
  {
   "cell_type": "code",
   "execution_count": 48,
   "metadata": {},
   "outputs": [],
   "source": [
    "# geração de uma array com marcação binária de outliers\n",
    "out_idade = np.where((df1.idade < limite_inf) | (df1.idade > limite_sup), 1, 0)"
   ]
  },
  {
   "cell_type": "code",
   "execution_count": 49,
   "metadata": {},
   "outputs": [],
   "source": [
    "# inclusão da array de marcação ao conjunto de dados como coluna\n",
    "df1['idade_outlier'] = np.c_[out_idade]"
   ]
  },
  {
   "cell_type": "code",
   "execution_count": 50,
   "metadata": {},
   "outputs": [
    {
     "data": {
      "text/plain": [
       "0    29044\n",
       "1      126\n",
       "Name: idade_outlier, dtype: int64"
      ]
     },
     "execution_count": 50,
     "metadata": {},
     "output_type": "execute_result"
    }
   ],
   "source": [
    "# contagem de outliers\n",
    "df1.idade_outlier.value_counts()"
   ]
  },
  {
   "cell_type": "code",
   "execution_count": 51,
   "metadata": {},
   "outputs": [],
   "source": [
    "# eliminação das linhas com outliers de idade\n",
    "lista_out_idade = df1[df1.idade_outlier == 1].index\n",
    "df1 = df1.drop(index=lista_out_idade)"
   ]
  },
  {
   "cell_type": "code",
   "execution_count": 52,
   "metadata": {},
   "outputs": [
    {
     "data": {
      "text/plain": [
       "0    29044\n",
       "Name: idade_outlier, dtype: int64"
      ]
     },
     "execution_count": 52,
     "metadata": {},
     "output_type": "execute_result"
    }
   ],
   "source": [
    "#verificação do resultado da operação\n",
    "df1.idade_outlier.value_counts()"
   ]
  },
  {
   "cell_type": "markdown",
   "metadata": {},
   "source": [
    "<br>\n",
    "\n",
    "**10 - Escreva uma função que receba o dataframe em sua forma original e retorne o dataframe modificado, após todas as transformações dos itens acima.**"
   ]
  },
  {
   "cell_type": "code",
   "execution_count": 53,
   "metadata": {},
   "outputs": [],
   "source": [
    "def preprocessamento(df):\n",
    "    x = df.copy()\n",
    "    \n",
    "    # eliminação de colunas com mais de 80% de dados faltantes\n",
    "    cols_faltantes = (x.isnull().sum() / x.shape[0]) > 0.8\n",
    "    lista_cols_eliminar = cols_faltantes[cols_faltantes==True].index.tolist()\n",
    "    x.drop(columns = lista_cols_eliminar,inplace=True)\n",
    "    \n",
    "    colsnum = x.dtypes[(x.dtypes == 'float64') | (x.dtypes == 'int64')].index.tolist()\n",
    "    colscat = x.dtypes[(x.dtypes == 'object')].index.tolist()\n",
    "    \n",
    "    # tratamento específico para variável 'sexo'\n",
    "    x.sexo = np.where(x.sexo == '?',None,x.sexo)\n",
    "    \n",
    "    #tratamento de variáveis categóricas\n",
    "    for v in colscat:\n",
    "        mode_v = x[v].value_counts().idxmax()\n",
    "        x[v] = x[v].fillna(mode_v)\n",
    "    \n",
    "    #tratamento de variáveis numéricas\n",
    "    for v in colsnum:\n",
    "        x[v] = x[v].fillna(x[v].mean())\n",
    "    \n",
    "    #normalizações MinMax\n",
    "    cols_mmsc = ['tempo_educacao']\n",
    "    for v in cols_mmsc:\n",
    "        mm_scaler = MinMaxScaler()\n",
    "        Y = x[v].values.reshape(-1,1)\n",
    "        mm_scaler.fit(Y)\n",
    "        nom_col_norm = v+'_norm'\n",
    "        x[nom_col_norm] = mm_scaler.transform(X).round(4)\n",
    "    \n",
    "    #normalizações Standard\n",
    "    cols_sssc = ['horas_por_semana']\n",
    "    for v in cols_sssc:\n",
    "        ss_scaler = StandardScaler()\n",
    "        Y = x[v].values.reshape(-1,1)\n",
    "        ss_scaler.fit(Y)\n",
    "        nom_col_norm = v + '_norm'\n",
    "        x[nom_col_norm] = ss_scaler.transform(Y)\n",
    "    \n",
    "    #One Hot Encoding\n",
    "    cols_ohe = ['estado_civil','cor','sexo']\n",
    "    ohe = OneHotEncoder()\n",
    "    for v in cols_ohe:\n",
    "        variavel_ohe = x[v].values.reshape(-1,1)\n",
    "        ohe.fit(variavel_ohe)\n",
    "        df_OHE = pd.DataFrame (ohe.transform(variavel_ohe).toarray(), columns = ohe.categories_[0].tolist())\n",
    "        x = pd.concat([x,df_OHE],axis=1)\n",
    "    \n",
    "    # tratamento e eliminação de ouliers\n",
    "    cols_out = ['idade']\n",
    "    limite = 1.5\n",
    "    for v in cols_out:\n",
    "        iqr = np.percentile(x[v],75) - np.percentile(x[v],25)\n",
    "        limite_inf = np.maximum((np.percentile(x[v],25) - iqr * limite),np.min(x[v]))\n",
    "        limite_sup = np.minimum((np.percentile(x[v],75) + iqr * limite),np.max(x[v]))\n",
    "        outliers = np.where((x[v] < limite_inf) | (x[v] > limite_sup), 1, 0)\n",
    "        nom_col_out = v + '_out'\n",
    "        x[nom_col_out] = np.c_[outliers]\n",
    "        lista_out_todrop = x[x[nom_col_out] == 1].index\n",
    "        x = x.drop(index=lista_out_todrop)\n",
    "        x.drop(columns=nom_col_out)\n",
    "    return x"
   ]
  },
  {
   "cell_type": "code",
   "execution_count": 54,
   "metadata": {},
   "outputs": [
    {
     "data": {
      "text/html": [
       "<div>\n",
       "<style scoped>\n",
       "    .dataframe tbody tr th:only-of-type {\n",
       "        vertical-align: middle;\n",
       "    }\n",
       "\n",
       "    .dataframe tbody tr th {\n",
       "        vertical-align: top;\n",
       "    }\n",
       "\n",
       "    .dataframe thead th {\n",
       "        text-align: right;\n",
       "    }\n",
       "</style>\n",
       "<table border=\"1\" class=\"dataframe\">\n",
       "  <thead>\n",
       "    <tr style=\"text-align: right;\">\n",
       "      <th></th>\n",
       "      <th>idade</th>\n",
       "      <th>tempo_educacao</th>\n",
       "      <th>estado_civil</th>\n",
       "      <th>cor</th>\n",
       "      <th>sexo</th>\n",
       "      <th>horas_por_semana</th>\n",
       "      <th>salario_anual</th>\n",
       "      <th>tempo_educacao_norm</th>\n",
       "      <th>horas_por_semana_norm</th>\n",
       "      <th>Divorced</th>\n",
       "      <th>...</th>\n",
       "      <th>Separated</th>\n",
       "      <th>Widowed</th>\n",
       "      <th>Amer-Indian-Eskimo</th>\n",
       "      <th>Asian-Pac-Islander</th>\n",
       "      <th>Black</th>\n",
       "      <th>Other</th>\n",
       "      <th>White</th>\n",
       "      <th>Female</th>\n",
       "      <th>Male</th>\n",
       "      <th>idade_out</th>\n",
       "    </tr>\n",
       "  </thead>\n",
       "  <tbody>\n",
       "    <tr>\n",
       "      <th>0</th>\n",
       "      <td>39.0</td>\n",
       "      <td>13</td>\n",
       "      <td>Never-married</td>\n",
       "      <td>White</td>\n",
       "      <td>Male</td>\n",
       "      <td>40</td>\n",
       "      <td>&lt;=50K</td>\n",
       "      <td>0.8000</td>\n",
       "      <td>-0.036060</td>\n",
       "      <td>0.0</td>\n",
       "      <td>...</td>\n",
       "      <td>0.0</td>\n",
       "      <td>0.0</td>\n",
       "      <td>0.0</td>\n",
       "      <td>0.0</td>\n",
       "      <td>0.0</td>\n",
       "      <td>0.0</td>\n",
       "      <td>1.0</td>\n",
       "      <td>0.0</td>\n",
       "      <td>1.0</td>\n",
       "      <td>0</td>\n",
       "    </tr>\n",
       "    <tr>\n",
       "      <th>1</th>\n",
       "      <td>50.0</td>\n",
       "      <td>13</td>\n",
       "      <td>Married-civ-spouse</td>\n",
       "      <td>White</td>\n",
       "      <td>Male</td>\n",
       "      <td>13</td>\n",
       "      <td>&lt;=50K</td>\n",
       "      <td>0.8000</td>\n",
       "      <td>-2.210500</td>\n",
       "      <td>0.0</td>\n",
       "      <td>...</td>\n",
       "      <td>0.0</td>\n",
       "      <td>0.0</td>\n",
       "      <td>0.0</td>\n",
       "      <td>0.0</td>\n",
       "      <td>0.0</td>\n",
       "      <td>0.0</td>\n",
       "      <td>1.0</td>\n",
       "      <td>0.0</td>\n",
       "      <td>1.0</td>\n",
       "      <td>0</td>\n",
       "    </tr>\n",
       "    <tr>\n",
       "      <th>2</th>\n",
       "      <td>38.0</td>\n",
       "      <td>9</td>\n",
       "      <td>Divorced</td>\n",
       "      <td>White</td>\n",
       "      <td>Male</td>\n",
       "      <td>40</td>\n",
       "      <td>&lt;=50K</td>\n",
       "      <td>0.5333</td>\n",
       "      <td>-0.036060</td>\n",
       "      <td>1.0</td>\n",
       "      <td>...</td>\n",
       "      <td>0.0</td>\n",
       "      <td>0.0</td>\n",
       "      <td>0.0</td>\n",
       "      <td>0.0</td>\n",
       "      <td>0.0</td>\n",
       "      <td>0.0</td>\n",
       "      <td>1.0</td>\n",
       "      <td>0.0</td>\n",
       "      <td>1.0</td>\n",
       "      <td>0</td>\n",
       "    </tr>\n",
       "    <tr>\n",
       "      <th>3</th>\n",
       "      <td>53.0</td>\n",
       "      <td>7</td>\n",
       "      <td>Married-civ-spouse</td>\n",
       "      <td>Black</td>\n",
       "      <td>Male</td>\n",
       "      <td>40</td>\n",
       "      <td>&lt;=50K</td>\n",
       "      <td>0.4000</td>\n",
       "      <td>-0.036060</td>\n",
       "      <td>0.0</td>\n",
       "      <td>...</td>\n",
       "      <td>0.0</td>\n",
       "      <td>0.0</td>\n",
       "      <td>0.0</td>\n",
       "      <td>0.0</td>\n",
       "      <td>1.0</td>\n",
       "      <td>0.0</td>\n",
       "      <td>0.0</td>\n",
       "      <td>0.0</td>\n",
       "      <td>1.0</td>\n",
       "      <td>0</td>\n",
       "    </tr>\n",
       "    <tr>\n",
       "      <th>4</th>\n",
       "      <td>37.0</td>\n",
       "      <td>14</td>\n",
       "      <td>Married-civ-spouse</td>\n",
       "      <td>White</td>\n",
       "      <td>Female</td>\n",
       "      <td>40</td>\n",
       "      <td>&lt;=50K</td>\n",
       "      <td>0.8667</td>\n",
       "      <td>-0.036060</td>\n",
       "      <td>0.0</td>\n",
       "      <td>...</td>\n",
       "      <td>0.0</td>\n",
       "      <td>0.0</td>\n",
       "      <td>0.0</td>\n",
       "      <td>0.0</td>\n",
       "      <td>0.0</td>\n",
       "      <td>0.0</td>\n",
       "      <td>1.0</td>\n",
       "      <td>1.0</td>\n",
       "      <td>0.0</td>\n",
       "      <td>0</td>\n",
       "    </tr>\n",
       "    <tr>\n",
       "      <th>...</th>\n",
       "      <td>...</td>\n",
       "      <td>...</td>\n",
       "      <td>...</td>\n",
       "      <td>...</td>\n",
       "      <td>...</td>\n",
       "      <td>...</td>\n",
       "      <td>...</td>\n",
       "      <td>...</td>\n",
       "      <td>...</td>\n",
       "      <td>...</td>\n",
       "      <td>...</td>\n",
       "      <td>...</td>\n",
       "      <td>...</td>\n",
       "      <td>...</td>\n",
       "      <td>...</td>\n",
       "      <td>...</td>\n",
       "      <td>...</td>\n",
       "      <td>...</td>\n",
       "      <td>...</td>\n",
       "      <td>...</td>\n",
       "      <td>...</td>\n",
       "    </tr>\n",
       "    <tr>\n",
       "      <th>29165</th>\n",
       "      <td>27.0</td>\n",
       "      <td>12</td>\n",
       "      <td>Married-civ-spouse</td>\n",
       "      <td>White</td>\n",
       "      <td>Female</td>\n",
       "      <td>38</td>\n",
       "      <td>&lt;=50K</td>\n",
       "      <td>0.7333</td>\n",
       "      <td>-0.197129</td>\n",
       "      <td>0.0</td>\n",
       "      <td>...</td>\n",
       "      <td>0.0</td>\n",
       "      <td>0.0</td>\n",
       "      <td>0.0</td>\n",
       "      <td>0.0</td>\n",
       "      <td>0.0</td>\n",
       "      <td>0.0</td>\n",
       "      <td>1.0</td>\n",
       "      <td>1.0</td>\n",
       "      <td>0.0</td>\n",
       "      <td>0</td>\n",
       "    </tr>\n",
       "    <tr>\n",
       "      <th>29166</th>\n",
       "      <td>40.0</td>\n",
       "      <td>9</td>\n",
       "      <td>Married-civ-spouse</td>\n",
       "      <td>White</td>\n",
       "      <td>Male</td>\n",
       "      <td>40</td>\n",
       "      <td>&gt;50K</td>\n",
       "      <td>0.5333</td>\n",
       "      <td>-0.036060</td>\n",
       "      <td>0.0</td>\n",
       "      <td>...</td>\n",
       "      <td>0.0</td>\n",
       "      <td>0.0</td>\n",
       "      <td>0.0</td>\n",
       "      <td>0.0</td>\n",
       "      <td>0.0</td>\n",
       "      <td>0.0</td>\n",
       "      <td>1.0</td>\n",
       "      <td>0.0</td>\n",
       "      <td>1.0</td>\n",
       "      <td>0</td>\n",
       "    </tr>\n",
       "    <tr>\n",
       "      <th>29167</th>\n",
       "      <td>58.0</td>\n",
       "      <td>9</td>\n",
       "      <td>Widowed</td>\n",
       "      <td>White</td>\n",
       "      <td>Female</td>\n",
       "      <td>40</td>\n",
       "      <td>&lt;=50K</td>\n",
       "      <td>0.5333</td>\n",
       "      <td>-0.036060</td>\n",
       "      <td>0.0</td>\n",
       "      <td>...</td>\n",
       "      <td>0.0</td>\n",
       "      <td>1.0</td>\n",
       "      <td>0.0</td>\n",
       "      <td>0.0</td>\n",
       "      <td>0.0</td>\n",
       "      <td>0.0</td>\n",
       "      <td>1.0</td>\n",
       "      <td>1.0</td>\n",
       "      <td>0.0</td>\n",
       "      <td>0</td>\n",
       "    </tr>\n",
       "    <tr>\n",
       "      <th>29168</th>\n",
       "      <td>22.0</td>\n",
       "      <td>9</td>\n",
       "      <td>Never-married</td>\n",
       "      <td>White</td>\n",
       "      <td>Male</td>\n",
       "      <td>20</td>\n",
       "      <td>&lt;=50K</td>\n",
       "      <td>0.5333</td>\n",
       "      <td>-1.646756</td>\n",
       "      <td>0.0</td>\n",
       "      <td>...</td>\n",
       "      <td>0.0</td>\n",
       "      <td>0.0</td>\n",
       "      <td>0.0</td>\n",
       "      <td>0.0</td>\n",
       "      <td>0.0</td>\n",
       "      <td>0.0</td>\n",
       "      <td>1.0</td>\n",
       "      <td>0.0</td>\n",
       "      <td>1.0</td>\n",
       "      <td>0</td>\n",
       "    </tr>\n",
       "    <tr>\n",
       "      <th>29169</th>\n",
       "      <td>52.0</td>\n",
       "      <td>9</td>\n",
       "      <td>Married-civ-spouse</td>\n",
       "      <td>White</td>\n",
       "      <td>Female</td>\n",
       "      <td>40</td>\n",
       "      <td>&gt;50K</td>\n",
       "      <td>0.5333</td>\n",
       "      <td>-0.036060</td>\n",
       "      <td>0.0</td>\n",
       "      <td>...</td>\n",
       "      <td>0.0</td>\n",
       "      <td>0.0</td>\n",
       "      <td>0.0</td>\n",
       "      <td>0.0</td>\n",
       "      <td>0.0</td>\n",
       "      <td>0.0</td>\n",
       "      <td>1.0</td>\n",
       "      <td>1.0</td>\n",
       "      <td>0.0</td>\n",
       "      <td>0</td>\n",
       "    </tr>\n",
       "  </tbody>\n",
       "</table>\n",
       "<p>29044 rows × 24 columns</p>\n",
       "</div>"
      ],
      "text/plain": [
       "       idade  tempo_educacao        estado_civil    cor    sexo  \\\n",
       "0       39.0              13       Never-married  White    Male   \n",
       "1       50.0              13  Married-civ-spouse  White    Male   \n",
       "2       38.0               9            Divorced  White    Male   \n",
       "3       53.0               7  Married-civ-spouse  Black    Male   \n",
       "4       37.0              14  Married-civ-spouse  White  Female   \n",
       "...      ...             ...                 ...    ...     ...   \n",
       "29165   27.0              12  Married-civ-spouse  White  Female   \n",
       "29166   40.0               9  Married-civ-spouse  White    Male   \n",
       "29167   58.0               9             Widowed  White  Female   \n",
       "29168   22.0               9       Never-married  White    Male   \n",
       "29169   52.0               9  Married-civ-spouse  White  Female   \n",
       "\n",
       "       horas_por_semana salario_anual  tempo_educacao_norm  \\\n",
       "0                    40         <=50K               0.8000   \n",
       "1                    13         <=50K               0.8000   \n",
       "2                    40         <=50K               0.5333   \n",
       "3                    40         <=50K               0.4000   \n",
       "4                    40         <=50K               0.8667   \n",
       "...                 ...           ...                  ...   \n",
       "29165                38         <=50K               0.7333   \n",
       "29166                40          >50K               0.5333   \n",
       "29167                40         <=50K               0.5333   \n",
       "29168                20         <=50K               0.5333   \n",
       "29169                40          >50K               0.5333   \n",
       "\n",
       "       horas_por_semana_norm  Divorced  ...  Separated  Widowed  \\\n",
       "0                  -0.036060       0.0  ...        0.0      0.0   \n",
       "1                  -2.210500       0.0  ...        0.0      0.0   \n",
       "2                  -0.036060       1.0  ...        0.0      0.0   \n",
       "3                  -0.036060       0.0  ...        0.0      0.0   \n",
       "4                  -0.036060       0.0  ...        0.0      0.0   \n",
       "...                      ...       ...  ...        ...      ...   \n",
       "29165              -0.197129       0.0  ...        0.0      0.0   \n",
       "29166              -0.036060       0.0  ...        0.0      0.0   \n",
       "29167              -0.036060       0.0  ...        0.0      1.0   \n",
       "29168              -1.646756       0.0  ...        0.0      0.0   \n",
       "29169              -0.036060       0.0  ...        0.0      0.0   \n",
       "\n",
       "       Amer-Indian-Eskimo  Asian-Pac-Islander  Black  Other  White  Female  \\\n",
       "0                     0.0                 0.0    0.0    0.0    1.0     0.0   \n",
       "1                     0.0                 0.0    0.0    0.0    1.0     0.0   \n",
       "2                     0.0                 0.0    0.0    0.0    1.0     0.0   \n",
       "3                     0.0                 0.0    1.0    0.0    0.0     0.0   \n",
       "4                     0.0                 0.0    0.0    0.0    1.0     1.0   \n",
       "...                   ...                 ...    ...    ...    ...     ...   \n",
       "29165                 0.0                 0.0    0.0    0.0    1.0     1.0   \n",
       "29166                 0.0                 0.0    0.0    0.0    1.0     0.0   \n",
       "29167                 0.0                 0.0    0.0    0.0    1.0     1.0   \n",
       "29168                 0.0                 0.0    0.0    0.0    1.0     0.0   \n",
       "29169                 0.0                 0.0    0.0    0.0    1.0     1.0   \n",
       "\n",
       "       Male  idade_out  \n",
       "0       1.0          0  \n",
       "1       1.0          0  \n",
       "2       1.0          0  \n",
       "3       1.0          0  \n",
       "4       0.0          0  \n",
       "...     ...        ...  \n",
       "29165   0.0          0  \n",
       "29166   1.0          0  \n",
       "29167   0.0          0  \n",
       "29168   1.0          0  \n",
       "29169   0.0          0  \n",
       "\n",
       "[29044 rows x 24 columns]"
      ]
     },
     "execution_count": 54,
     "metadata": {},
     "output_type": "execute_result"
    }
   ],
   "source": [
    "df_limpo = preprocessamento(df)\n",
    "df_limpo"
   ]
  },
  {
   "cell_type": "code",
   "execution_count": 55,
   "metadata": {},
   "outputs": [
    {
     "data": {
      "text/plain": [
       "idade                    0\n",
       "tempo_educacao           0\n",
       "estado_civil             0\n",
       "cor                      0\n",
       "sexo                     0\n",
       "horas_por_semana         0\n",
       "salario_anual            0\n",
       "tempo_educacao_norm      0\n",
       "horas_por_semana_norm    0\n",
       "Divorced                 0\n",
       "Married-AF-spouse        0\n",
       "Married-civ-spouse       0\n",
       "Married-spouse-absent    0\n",
       "Never-married            0\n",
       "Separated                0\n",
       "Widowed                  0\n",
       "Amer-Indian-Eskimo       0\n",
       "Asian-Pac-Islander       0\n",
       "Black                    0\n",
       "Other                    0\n",
       "White                    0\n",
       "Female                   0\n",
       "Male                     0\n",
       "idade_out                0\n",
       "dtype: int64"
      ]
     },
     "execution_count": 55,
     "metadata": {},
     "output_type": "execute_result"
    }
   ],
   "source": [
    "df_limpo.isnull().sum()"
   ]
  },
  {
   "cell_type": "code",
   "execution_count": null,
   "metadata": {},
   "outputs": [],
   "source": []
  }
 ],
 "metadata": {
  "kernelspec": {
   "display_name": "Python 3",
   "language": "python",
   "name": "python3"
  },
  "language_info": {
   "codemirror_mode": {
    "name": "ipython",
    "version": 3
   },
   "file_extension": ".py",
   "mimetype": "text/x-python",
   "name": "python",
   "nbconvert_exporter": "python",
   "pygments_lexer": "ipython3",
   "version": "3.8.8"
  }
 },
 "nbformat": 4,
 "nbformat_minor": 2
}
