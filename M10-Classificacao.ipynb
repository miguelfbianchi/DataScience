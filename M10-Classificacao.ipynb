{
 "cells": [
  {
   "cell_type": "markdown",
   "metadata": {},
   "source": [
    "Neste exercício, vamos seguir usando o dataset MNIST, assim como nas aulas:"
   ]
  },
  {
   "cell_type": "code",
   "execution_count": 1,
   "metadata": {},
   "outputs": [],
   "source": [
    "from sklearn.datasets import fetch_openml\n",
    "mnist = fetch_openml('mnist_784', version=1)\n",
    "X, y = mnist[\"data\"], mnist[\"target\"].astype(float)"
   ]
  },
  {
   "cell_type": "markdown",
   "metadata": {},
   "source": [
    "O __objetivo__ aqui será construir um algoritmo que faça a __predição se um dígito é par ou ímpar.__\n",
    "\n",
    "Para isso, faça um tratamento inicial na variável target.\n",
    "\n",
    "Use a __AUC__ como métrica de performance.\n",
    "\n",
    "Teste diferentes versões do KNN-Classifier, bem como a regressão logística. \n",
    "\n",
    "Use a __metodologia de validação cruzada__, implementando manualmente a AUC, conforme feito nas aulas.\n",
    "\n",
    "Plote as __curvas ROC__ dos algoritmos."
   ]
  },
  {
   "cell_type": "code",
   "execution_count": 2,
   "metadata": {},
   "outputs": [
    {
     "name": "stdout",
     "output_type": "stream",
     "text": [
      "(70000, 784)\n",
      "(70000,)\n"
     ]
    }
   ],
   "source": [
    "print(X.shape)\n",
    "print(y.shape)"
   ]
  },
  {
   "cell_type": "code",
   "execution_count": 3,
   "metadata": {},
   "outputs": [
    {
     "data": {
      "text/plain": [
       "array([5., 0., 4., 1., 9., 2., 3., 6., 7., 8.])"
      ]
     },
     "execution_count": 3,
     "metadata": {},
     "output_type": "execute_result"
    }
   ],
   "source": [
    "y.unique()"
   ]
  },
  {
   "cell_type": "code",
   "execution_count": 4,
   "metadata": {},
   "outputs": [
    {
     "data": {
      "text/plain": [
       "1.0    0.112529\n",
       "7.0    0.104186\n",
       "3.0    0.102014\n",
       "2.0    0.099857\n",
       "9.0    0.099400\n",
       "0.0    0.098614\n",
       "6.0    0.098229\n",
       "8.0    0.097500\n",
       "4.0    0.097486\n",
       "5.0    0.090186\n",
       "Name: class, dtype: float64"
      ]
     },
     "execution_count": 4,
     "metadata": {},
     "output_type": "execute_result"
    }
   ],
   "source": [
    "y.value_counts() / y.shape"
   ]
  },
  {
   "cell_type": "code",
   "execution_count": 5,
   "metadata": {},
   "outputs": [],
   "source": [
    "# divisão do dataset em treino e teste\n",
    "\n",
    "Xtrain, ytrain, Xtest, ytest = X[:55000], y[:55000], X[55000:], y[55000:]"
   ]
  },
  {
   "cell_type": "code",
   "execution_count": 6,
   "metadata": {},
   "outputs": [],
   "source": [
    "import numpy as np"
   ]
  },
  {
   "cell_type": "code",
   "execution_count": 7,
   "metadata": {},
   "outputs": [],
   "source": [
    "import matplotlib.pyplot as plt"
   ]
  },
  {
   "cell_type": "code",
   "execution_count": 8,
   "metadata": {},
   "outputs": [],
   "source": [
    "# tratamento da variável target, definindo como valor negativo (0) os dígitos ímpares e positivo(1) os dígitos pares\n",
    "\n",
    "ytrain = np.where(ytrain%2==0,1,0)\n",
    "ytest = np.where(ytest%2==0,1,0)"
   ]
  },
  {
   "cell_type": "code",
   "execution_count": 9,
   "metadata": {},
   "outputs": [
    {
     "name": "stdout",
     "output_type": "stream",
     "text": [
      "Percentual classe positiva:  49.15\n",
      "Percentual classe negativa:  50.85\n"
     ]
    }
   ],
   "source": [
    "print (\"Percentual classe positiva: \", round(ytrain.sum()/ytrain.size*100,2))\n",
    "print (\"Percentual classe negativa: \", round((ytrain.size - ytrain.sum())/ytrain.size*100,2))"
   ]
  },
  {
   "cell_type": "markdown",
   "metadata": {},
   "source": [
    "Dataset está balanceado entre as duas classes"
   ]
  },
  {
   "cell_type": "code",
   "execution_count": 10,
   "metadata": {},
   "outputs": [],
   "source": [
    "from sklearn.linear_model import LogisticRegression"
   ]
  },
  {
   "cell_type": "code",
   "execution_count": 11,
   "metadata": {},
   "outputs": [],
   "source": [
    "import warnings\n",
    "warnings.filterwarnings(\"ignore\")"
   ]
  },
  {
   "cell_type": "code",
   "execution_count": 12,
   "metadata": {},
   "outputs": [],
   "source": [
    "logreg = LogisticRegression()"
   ]
  },
  {
   "cell_type": "code",
   "execution_count": 13,
   "metadata": {},
   "outputs": [],
   "source": [
    "from sklearn.model_selection import KFold"
   ]
  },
  {
   "cell_type": "code",
   "execution_count": 14,
   "metadata": {},
   "outputs": [],
   "source": [
    "from sklearn.metrics import roc_auc_score"
   ]
  },
  {
   "cell_type": "code",
   "execution_count": 15,
   "metadata": {},
   "outputs": [],
   "source": [
    "from sklearn.metrics import roc_curve"
   ]
  },
  {
   "cell_type": "code",
   "execution_count": 16,
   "metadata": {},
   "outputs": [],
   "source": [
    "from sklearn.model_selection import KFold"
   ]
  },
  {
   "cell_type": "code",
   "execution_count": 17,
   "metadata": {},
   "outputs": [],
   "source": [
    "import time"
   ]
  },
  {
   "cell_type": "code",
   "execution_count": 18,
   "metadata": {},
   "outputs": [],
   "source": [
    "# definição de função para implementação de validação cruzada manual\n",
    "\n",
    "def validacao_cruzada (classificador,nome_classificador, X, y, n_folds, metrica, nome_metrica):\n",
    "    t0 = time.time()\n",
    "    metricas_treino = []\n",
    "    metricas_val = []\n",
    "    kf = KFold(n_splits=n_folds)\n",
    "    for ind_treino, ind_val in kf.split(X, y):\n",
    "        Xtrain_folds = X.iloc[ind_treino]\n",
    "        ytrain_folds = y[ind_treino]\n",
    "        Xval_folds = X.iloc[ind_val]\n",
    "        yval_folds = y[ind_val]\n",
    "        \n",
    "        classificador.fit(Xtrain_folds, ytrain_folds)\n",
    "        prob_class1_treino = classificador.predict_proba(Xtrain_folds)[:,1]\n",
    "        prob_class1_val = classificador.predict_proba(Xval_folds)[:,1]\n",
    "        \n",
    "        metricas_treino.append(metrica(y_true = ytrain_folds, y_score = prob_class1_treino))\n",
    "        metricas_val.append(metrica(y_true = yval_folds, y_score = prob_class1_val))\n",
    "    \n",
    "    t1=time.time()\n",
    "    print (\"Modelo: \", nome_classificador)\n",
    "    print (\"Métrica: \", nome_metrica)\n",
    "    print (\"Média treino: \", np.mean(metricas_treino))\n",
    "    print (\"Média validação: \", np.mean(metricas_val))\n",
    "    print (\"Tempo: \", np.round(t1-t0,2), \" segundos\")"
   ]
  },
  {
   "cell_type": "code",
   "execution_count": 19,
   "metadata": {},
   "outputs": [
    {
     "name": "stdout",
     "output_type": "stream",
     "text": [
      "Modelo:  Regressão Logística\n",
      "Métrica:  AUC\n",
      "Média treino:  0.9602742295877791\n",
      "Média validação:  0.956004305059688\n",
      "Tempo:  32.1  segundos\n"
     ]
    }
   ],
   "source": [
    "# avaliação da Regressão Logística pela métrica da área sob curva ROC\n",
    "\n",
    "validacao_cruzada (classificador = LogisticRegression(), nome_classificador = \"Regressão Logística\",\n",
    "                   X = Xtrain, y = ytrain, n_folds = 5,\n",
    "                   metrica = roc_auc_score, nome_metrica = \"AUC\")"
   ]
  },
  {
   "cell_type": "code",
   "execution_count": 20,
   "metadata": {},
   "outputs": [],
   "source": [
    "from sklearn.neighbors import KNeighborsClassifier"
   ]
  },
  {
   "cell_type": "code",
   "execution_count": 21,
   "metadata": {},
   "outputs": [
    {
     "name": "stdout",
     "output_type": "stream",
     "text": [
      "Modelo:  KNN Classifier K=5\n",
      "Métrica:  AUC\n",
      "Média treino:  0.9995899934932095\n",
      "Média validação:  0.9951338603973472\n",
      "Tempo:  467.99  segundos\n"
     ]
    }
   ],
   "source": [
    "# avaliação do KNN Classifier com 5 vizinhos\n",
    "\n",
    "validacao_cruzada (classificador = KNeighborsClassifier(n_neighbors=5), nome_classificador=\"KNN Classifier K=5\",\n",
    "                   X = Xtrain, y = ytrain, n_folds = 5,\n",
    "                   metrica = roc_auc_score, nome_metrica = \"AUC\")"
   ]
  },
  {
   "cell_type": "code",
   "execution_count": 22,
   "metadata": {},
   "outputs": [
    {
     "name": "stdout",
     "output_type": "stream",
     "text": [
      "Modelo:  KNN Classifier K=7\n",
      "Métrica:  AUC\n",
      "Média treino:  0.9994199209011339\n",
      "Média validação:  0.9957056408184467\n",
      "Tempo:  484.5  segundos\n"
     ]
    }
   ],
   "source": [
    "# avaliação do KNN Classifier com 7 vizinhos\n",
    "\n",
    "validacao_cruzada (classificador = KNeighborsClassifier(n_neighbors=7), nome_classificador=\"KNN Classifier K=7\",\n",
    "                   X = Xtrain, y = ytrain, n_folds = 5,\n",
    "                   metrica = roc_auc_score, nome_metrica = \"AUC\")"
   ]
  },
  {
   "cell_type": "code",
   "execution_count": 23,
   "metadata": {},
   "outputs": [
    {
     "name": "stdout",
     "output_type": "stream",
     "text": [
      "Modelo:  KNN Classifier K=3\n",
      "Métrica:  AUC\n",
      "Média treino:  0.9997691929801459\n",
      "Média validação:  0.9929286112314305\n",
      "Tempo:  424.72  segundos\n"
     ]
    }
   ],
   "source": [
    "# avaliação do KNN Classifier com 3 vizinhos\n",
    "\n",
    "validacao_cruzada (classificador = KNeighborsClassifier(n_neighbors=3), nome_classificador=\"KNN Classifier K=3\",\n",
    "                   X = Xtrain, y = ytrain, n_folds = 5,\n",
    "                   metrica = roc_auc_score, nome_metrica = \"AUC\")"
   ]
  },
  {
   "cell_type": "code",
   "execution_count": 24,
   "metadata": {},
   "outputs": [
    {
     "name": "stdout",
     "output_type": "stream",
     "text": [
      "Modelo:  KNN Classifier K=10\n",
      "Métrica:  AUC\n",
      "Média treino:  0.9992027149544151\n",
      "Média validação:  0.9962355466658014\n",
      "Tempo:  490.29  segundos\n"
     ]
    }
   ],
   "source": [
    "# avaliação do KNN Classifier com 10 vizinhos\n",
    "\n",
    "\n",
    "validacao_cruzada (classificador = KNeighborsClassifier(n_neighbors=10), nome_classificador=\"KNN Classifier K=10\",\n",
    "                   X = Xtrain, y = ytrain, n_folds = 5,\n",
    "                   metrica = roc_auc_score, nome_metrica = \"AUC\")"
   ]
  },
  {
   "cell_type": "markdown",
   "metadata": {},
   "source": [
    "Escolhemos o modelo com K=7 para comparação com o Regressão Logística"
   ]
  },
  {
   "cell_type": "code",
   "execution_count": 25,
   "metadata": {},
   "outputs": [],
   "source": [
    "# treinar novamente os modelos com o dataset de treino completo e capturar os dados para traçado das curvas ROC\n",
    "# a partir do resultados das predições feitas sobre o dataset de teste\n",
    "\n",
    "logreg.fit(Xtrain, ytrain)\n",
    "fpr_lr, tpr_lr, thresholds_lr = roc_curve(y_true = ytest, y_score = logreg.predict_proba(Xtest)[:,1])\n",
    "\n",
    "knnc7 = KNeighborsClassifier(n_neighbors=7)\n",
    "knnc7.fit(Xtrain, ytrain)\n",
    "fpr_knn7, tpr_knn7, thresholds_knn7 = roc_curve(y_true = ytest, y_score = knnc7.predict_proba(Xtest)[:,1])"
   ]
  },
  {
   "cell_type": "code",
   "execution_count": 26,
   "metadata": {},
   "outputs": [],
   "source": [
    "# obtenção da métrica final a partir das predições feitas em teste\n",
    "\n",
    "auc_lr = round(roc_auc_score(y_true = ytest, y_score = logreg.predict_proba(Xtest)[:,1]),5)\n",
    "auc_knn7 = round(roc_auc_score(y_true = ytest, y_score = knnc7.predict_proba(Xtest)[:,1]),5)"
   ]
  },
  {
   "cell_type": "code",
   "execution_count": 27,
   "metadata": {},
   "outputs": [
    {
     "data": {
      "image/png": "[encoded data removed]",
      "text/plain": [
       "<Figure size 576x432 with 1 Axes>"
      ]
     },
     "metadata": {
      "needs_background": "light"
     },
     "output_type": "display_data"
    }
   ],
   "source": [
    "# plotagem das curvas comparativas ROC dos dois algoritmos\n",
    "\n",
    "plt.figure(figsize=[8,6])\n",
    "plt.title(\"Curvas ROC - Teste\", fontsize = 16, fontweight = 'bold')\n",
    "plt.xlabel(\"taxa de falso positivos\", fontsize = 14, fontweight = 'bold')\n",
    "plt.ylabel(\"taxa de verdadeiro positivos\", fontsize = 14, fontweight = 'bold')\n",
    "plt.plot([0, 1], [0, 1], 'k--') # Dashed diagonal\n",
    "\n",
    "plt.plot(fpr_lr, tpr_lr, c = 'blue', lw = 2, label=\"Regressão Logística | AUC=\"+str(auc_lr))\n",
    "plt.plot(fpr_knn7, tpr_knn7, c = 'red', lw = 2, label=\"KNN Classifier K=7 | AUC=\"+str(auc_knn7))\n",
    "        \n",
    "plt.legend()\n",
    "plt.grid()\n",
    "plt.show()"
   ]
  },
  {
   "cell_type": "markdown",
   "metadata": {},
   "source": [
    "Neste caso, o KNN Classifier teve desemepenho superior à Regressão Logística, observável nos valores de AUC\n",
    "e evidenciados pelo formato da curva, muito mais próxima da curva perfeita em \"L\" invertido"
   ]
  },
  {
   "cell_type": "code",
   "execution_count": null,
   "metadata": {},
   "outputs": [],
   "source": []
  }
 ],
 "metadata": {
  "kernelspec": {
   "display_name": "Python 3",
   "language": "python",
   "name": "python3"
  },
  "language_info": {
   "codemirror_mode": {
    "name": "ipython",
    "version": 3
   },
   "file_extension": ".py",
   "mimetype": "text/x-python",
   "name": "python",
   "nbconvert_exporter": "python",
   "pygments_lexer": "ipython3",
   "version": "3.8.8"
  }
 },
 "nbformat": 4,
 "nbformat_minor": 2
}
