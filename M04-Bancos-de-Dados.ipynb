{
 "cells": [
  {
   "cell_type": "code",
   "execution_count": null,
   "id": "8dc5918a",
   "metadata": {},
   "outputs": [],
   "source": [
    "import sqlite3"
   ]
  },
  {
   "cell_type": "code",
   "execution_count": null,
   "id": "de43c252",
   "metadata": {},
   "outputs": [],
   "source": [
    "#criando o banco de dados de funcionarios da empresa\n",
    "conn=sqlite3.connect(\"funcionarios.db\")"
   ]
  },
  {
   "cell_type": "code",
   "execution_count": null,
   "id": "59e1d0a1",
   "metadata": {},
   "outputs": [],
   "source": [
    "cursor=conn.cursor()"
   ]
  },
  {
   "cell_type": "code",
   "execution_count": null,
   "id": "2793cc4a",
   "metadata": {},
   "outputs": [],
   "source": [
    "#criando tabela \"dados_cadastrais\"\n",
    "cursor.execute(\"CREATE TABLE dados_cadastrais (id integer, nome text, sobrenome text, data_nasci integer, cpf integer, endereco integer )\")"
   ]
  },
  {
   "cell_type": "code",
   "execution_count": null,
   "id": "91a17062",
   "metadata": {
    "scrolled": true
   },
   "outputs": [],
   "source": [
    "#criando tabela \"dados_profissionais\"\n",
    "cursor.execute (\"CREATE TABLE dados_profissionais (id integer, graduacao text, cargo text, salario real, tempo_casa integer)\")"
   ]
  },
  {
   "cell_type": "code",
   "execution_count": null,
   "id": "2c6b45bc",
   "metadata": {},
   "outputs": [],
   "source": [
    "# Inserir dados na tabela dados_cadastrais\n",
    "\n",
    "cursor.execute (\"INSERT INTO dados_cadastrais VALUES(1, 'maria', 'silva', 0, 11111211313, 'rua 1 - SP')\")\n",
    "cursor.execute (\"INSERT INTO dados_cadastrais VALUES(2, 'joao', 'silva', 0, 11111211889, 'rua 2 - SP')\")\n",
    "cursor.execute (\"INSERT INTO dados_cadastrais VALUES(3, 'pedro', 'pereira', 0, 11111211786, 'rua 8 - SP')\")\n",
    "cursor.execute (\"INSERT INTO dados_cadastrais VALUES(4, 'paulo', 'ribeiro', 0, 11111211123, 'rua 9 - SP')\")\n",
    "\n",
    "conn.commit()"
   ]
  },
  {
   "cell_type": "code",
   "execution_count": null,
   "id": "de96624e",
   "metadata": {},
   "outputs": [],
   "source": [
    "# Inserir dados na tabela dados_profissionais\n",
    "\n",
    "cursor.execute (\"INSERT INTO dados_profissionais VALUES(1, 'matematica','professor',3500.89,3)\")\n",
    "cursor.execute (\"INSERT INTO dados_profissionais VALUES(2, 'geografia', 'orientador', 2850.8, 1)\")\n",
    "cursor.execute (\"INSERT INTO dados_profissionais VALUES(3, 'historia', 'orientador', 3200.45, 1)\")\n",
    "cursor.execute (\"INSERT INTO dados_profissionais VALUES(4, 'fisica', 'professor', 1890.33, 2)\")\n",
    "\n",
    "conn.commit()"
   ]
  },
  {
   "cell_type": "code",
   "execution_count": null,
   "id": "f91e43cf",
   "metadata": {},
   "outputs": [],
   "source": [
    "# listar todos os registros da tabela dados_profissionais ordenados por tempo de casa, decrescente\n",
    "\n",
    "cursor.execute (\"SELECT * FROM dados_profissionais ORDER BY tempo_casa DESC\")\n",
    "cursor.fetchall()"
   ]
  },
  {
   "cell_type": "code",
   "execution_count": null,
   "id": "de07a941",
   "metadata": {},
   "outputs": [],
   "source": [
    "# contar a quantidade de funcionários da empresa\n",
    "\n",
    "cursor.execute (\"SELECT COUNT(id) FROM dados_cadastrais\")\n",
    "cursor.fetchall()"
   ]
  },
  {
   "cell_type": "code",
   "execution_count": null,
   "id": "c5a2802d",
   "metadata": {},
   "outputs": [],
   "source": [
    "# listar funcionários com sobrenome \"silva\" ordenados por nome completo\n",
    "\n",
    "cursor.execute (\"SELECT nome, sobrenome FROM dados_cadastrais WHERE sobrenome=='silva' ORDER BY nome, sobrenome\")\n",
    "cursor.fetchall()"
   ]
  },
  {
   "cell_type": "code",
   "execution_count": null,
   "id": "86bc4c5e",
   "metadata": {},
   "outputs": [],
   "source": [
    "# listar folha de pagamento por cargo\n",
    "\n",
    "cursor.execute (\"SELECT cargo, SUM(salario) FROM dados_profissionais GROUP BY cargo\")\n",
    "cursor.fetchall()"
   ]
  },
  {
   "cell_type": "code",
   "execution_count": null,
   "id": "4b3786a4",
   "metadata": {},
   "outputs": [],
   "source": []
  }
 ],
 "metadata": {
  "kernelspec": {
   "display_name": "Python 3",
   "language": "python",
   "name": "python3"
  },
  "language_info": {
   "codemirror_mode": {
    "name": "ipython",
    "version": 3
   },
   "file_extension": ".py",
   "mimetype": "text/x-python",
   "name": "python",
   "nbconvert_exporter": "python",
   "pygments_lexer": "ipython3",
   "version": "3.8.8"
  }
 },
 "nbformat": 4,
 "nbformat_minor": 5
}
