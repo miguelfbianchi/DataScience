{
 "cells": [
  {
   "cell_type": "markdown",
   "metadata": {},
   "source": [
    "<br>\n",
    "\n",
    "## __Exercício: Detecção de Anomalias__\n",
    "\n",
    "<br>\n",
    "\n",
    "__1:__\n",
    "\n",
    "Utilizando a classe DetectorAnomalias criada ao longo do módulo, __vamos avaliar um detector de anomalias.__\n",
    "\n",
    "O dataset utilizado pode ser importado através da função getData. \n",
    "\n",
    "Nesse conjunto de dados, possuímos 6 variáveis explicativas, $X_1, .., X_6$ e uma variável com a marcação se a instância é uma anomalia ou não.\n",
    "\n",
    "Utilizando a __metodolodia__ discutida ao longo do módulo, __teste diferentes modelos (variando o limiar $\\epsilon$)__ a fim de encontrar o que __melhor fita os dados.__\n",
    "\n",
    "Justifique as escolhas do $\\epsilon$, bem como quais as métricas de performance abordadas. "
   ]
  },
  {
   "cell_type": "code",
   "execution_count": 1,
   "metadata": {},
   "outputs": [],
   "source": [
    "import pandas as pd \n",
    "import numpy as np\n",
    "import scipy.stats as st\n",
    "import matplotlib.pyplot as plt"
   ]
  },
  {
   "cell_type": "code",
   "execution_count": 2,
   "metadata": {},
   "outputs": [],
   "source": [
    "class DetectorAnomalias():\n",
    "    \n",
    "    def __init__(self, epsilon):\n",
    "        self.epsilon = epsilon\n",
    "        \n",
    "    def fit(self, X):\n",
    "        medias = X.mean(axis = 0)\n",
    "        desvios = X.std(axis = 0)\n",
    "        gaussianas = [st.norm(loc = m, scale = d) for m, d in zip(medias, desvios)]  \n",
    "        self.gaussianas = gaussianas\n",
    "        self.X = X\n",
    "        \n",
    "    def prob(self, x):\n",
    "        p = 1\n",
    "        for i in range(self.X.shape[1]):\n",
    "            gaussiana_i = self.gaussianas[i]\n",
    "            x_i = x[i]\n",
    "            p *= gaussiana_i.pdf(x_i)\n",
    "        return p\n",
    "    \n",
    "    def isAnomaly(self, x):\n",
    "        return int(np.where(self.prob(x) < self.epsilon, 1, 0))"
   ]
  },
  {
   "cell_type": "code",
   "execution_count": 3,
   "metadata": {},
   "outputs": [],
   "source": [
    "def getData():\n",
    "    return pd.read_csv(\"dataframe_anomalias_exercicio.csv\")"
   ]
  },
  {
   "cell_type": "code",
   "execution_count": 4,
   "metadata": {},
   "outputs": [
    {
     "data": {
      "text/html": [
       "<div>\n",
       "<style scoped>\n",
       "    .dataframe tbody tr th:only-of-type {\n",
       "        vertical-align: middle;\n",
       "    }\n",
       "\n",
       "    .dataframe tbody tr th {\n",
       "        vertical-align: top;\n",
       "    }\n",
       "\n",
       "    .dataframe thead th {\n",
       "        text-align: right;\n",
       "    }\n",
       "</style>\n",
       "<table border=\"1\" class=\"dataframe\">\n",
       "  <thead>\n",
       "    <tr style=\"text-align: right;\">\n",
       "      <th></th>\n",
       "      <th>x1</th>\n",
       "      <th>x2</th>\n",
       "      <th>x3</th>\n",
       "      <th>x4</th>\n",
       "      <th>x5</th>\n",
       "      <th>x6</th>\n",
       "      <th>anomalia</th>\n",
       "    </tr>\n",
       "  </thead>\n",
       "  <tbody>\n",
       "    <tr>\n",
       "      <th>0</th>\n",
       "      <td>7.731153</td>\n",
       "      <td>23.299155</td>\n",
       "      <td>-0.367453</td>\n",
       "      <td>4.715372</td>\n",
       "      <td>9.306179</td>\n",
       "      <td>16.780965</td>\n",
       "      <td>0.0</td>\n",
       "    </tr>\n",
       "    <tr>\n",
       "      <th>1</th>\n",
       "      <td>11.466833</td>\n",
       "      <td>16.943695</td>\n",
       "      <td>-0.245131</td>\n",
       "      <td>7.060311</td>\n",
       "      <td>10.462826</td>\n",
       "      <td>19.821289</td>\n",
       "      <td>0.0</td>\n",
       "    </tr>\n",
       "    <tr>\n",
       "      <th>2</th>\n",
       "      <td>11.501272</td>\n",
       "      <td>20.196011</td>\n",
       "      <td>1.206049</td>\n",
       "      <td>-4.957189</td>\n",
       "      <td>7.771262</td>\n",
       "      <td>19.100079</td>\n",
       "      <td>0.0</td>\n",
       "    </tr>\n",
       "    <tr>\n",
       "      <th>3</th>\n",
       "      <td>10.893921</td>\n",
       "      <td>16.072385</td>\n",
       "      <td>2.738045</td>\n",
       "      <td>-3.684228</td>\n",
       "      <td>7.373334</td>\n",
       "      <td>23.225524</td>\n",
       "      <td>0.0</td>\n",
       "    </tr>\n",
       "    <tr>\n",
       "      <th>4</th>\n",
       "      <td>10.091706</td>\n",
       "      <td>19.253894</td>\n",
       "      <td>0.996895</td>\n",
       "      <td>-9.504052</td>\n",
       "      <td>8.883988</td>\n",
       "      <td>17.903298</td>\n",
       "      <td>0.0</td>\n",
       "    </tr>\n",
       "    <tr>\n",
       "      <th>...</th>\n",
       "      <td>...</td>\n",
       "      <td>...</td>\n",
       "      <td>...</td>\n",
       "      <td>...</td>\n",
       "      <td>...</td>\n",
       "      <td>...</td>\n",
       "      <td>...</td>\n",
       "    </tr>\n",
       "    <tr>\n",
       "      <th>10095</th>\n",
       "      <td>11.192286</td>\n",
       "      <td>18.451987</td>\n",
       "      <td>-0.953650</td>\n",
       "      <td>-14.362996</td>\n",
       "      <td>10.875826</td>\n",
       "      <td>17.056541</td>\n",
       "      <td>0.0</td>\n",
       "    </tr>\n",
       "    <tr>\n",
       "      <th>10096</th>\n",
       "      <td>12.014177</td>\n",
       "      <td>19.461815</td>\n",
       "      <td>1.985099</td>\n",
       "      <td>-7.119190</td>\n",
       "      <td>11.079922</td>\n",
       "      <td>17.582755</td>\n",
       "      <td>0.0</td>\n",
       "    </tr>\n",
       "    <tr>\n",
       "      <th>10097</th>\n",
       "      <td>10.745460</td>\n",
       "      <td>18.175951</td>\n",
       "      <td>0.206037</td>\n",
       "      <td>-1.897015</td>\n",
       "      <td>9.888329</td>\n",
       "      <td>17.963324</td>\n",
       "      <td>0.0</td>\n",
       "    </tr>\n",
       "    <tr>\n",
       "      <th>10098</th>\n",
       "      <td>9.893969</td>\n",
       "      <td>22.333270</td>\n",
       "      <td>-1.465981</td>\n",
       "      <td>4.137382</td>\n",
       "      <td>7.690620</td>\n",
       "      <td>21.570097</td>\n",
       "      <td>0.0</td>\n",
       "    </tr>\n",
       "    <tr>\n",
       "      <th>10099</th>\n",
       "      <td>11.563246</td>\n",
       "      <td>20.777121</td>\n",
       "      <td>-1.145317</td>\n",
       "      <td>-4.650515</td>\n",
       "      <td>11.857622</td>\n",
       "      <td>19.424881</td>\n",
       "      <td>0.0</td>\n",
       "    </tr>\n",
       "  </tbody>\n",
       "</table>\n",
       "<p>10100 rows × 7 columns</p>\n",
       "</div>"
      ],
      "text/plain": [
       "              x1         x2        x3         x4         x5         x6  \\\n",
       "0       7.731153  23.299155 -0.367453   4.715372   9.306179  16.780965   \n",
       "1      11.466833  16.943695 -0.245131   7.060311  10.462826  19.821289   \n",
       "2      11.501272  20.196011  1.206049  -4.957189   7.771262  19.100079   \n",
       "3      10.893921  16.072385  2.738045  -3.684228   7.373334  23.225524   \n",
       "4      10.091706  19.253894  0.996895  -9.504052   8.883988  17.903298   \n",
       "...          ...        ...       ...        ...        ...        ...   \n",
       "10095  11.192286  18.451987 -0.953650 -14.362996  10.875826  17.056541   \n",
       "10096  12.014177  19.461815  1.985099  -7.119190  11.079922  17.582755   \n",
       "10097  10.745460  18.175951  0.206037  -1.897015   9.888329  17.963324   \n",
       "10098   9.893969  22.333270 -1.465981   4.137382   7.690620  21.570097   \n",
       "10099  11.563246  20.777121 -1.145317  -4.650515  11.857622  19.424881   \n",
       "\n",
       "       anomalia  \n",
       "0           0.0  \n",
       "1           0.0  \n",
       "2           0.0  \n",
       "3           0.0  \n",
       "4           0.0  \n",
       "...         ...  \n",
       "10095       0.0  \n",
       "10096       0.0  \n",
       "10097       0.0  \n",
       "10098       0.0  \n",
       "10099       0.0  \n",
       "\n",
       "[10100 rows x 7 columns]"
      ]
     },
     "execution_count": 4,
     "metadata": {},
     "output_type": "execute_result"
    }
   ],
   "source": [
    "df = getData()\n",
    "df"
   ]
  },
  {
   "cell_type": "code",
   "execution_count": 5,
   "metadata": {},
   "outputs": [
    {
     "data": {
      "text/plain": [
       "0.0    10046\n",
       "1.0       54\n",
       "Name: anomalia, dtype: int64"
      ]
     },
     "execution_count": 5,
     "metadata": {},
     "output_type": "execute_result"
    }
   ],
   "source": [
    "df.anomalia.value_counts()"
   ]
  },
  {
   "cell_type": "code",
   "execution_count": 6,
   "metadata": {},
   "outputs": [],
   "source": [
    "from sklearn.model_selection import train_test_split\n",
    "from sklearn.metrics import accuracy_score, precision_score, recall_score, f1_score, confusion_matrix, roc_auc_score"
   ]
  },
  {
   "cell_type": "markdown",
   "metadata": {},
   "source": [
    "Primeiramente faremos uma abordagem de aprendizado não-supervisionado para detecção de anomalias. Vamos separar o dataset em treino, validação e teste, nas proporções de 60% / 20% / 20%, sendo que o dataset de teste será composto somente de instâncias não-anômalas. Os datasets de validação e teste dividirão por igual as instâncias anômalas"
   ]
  },
  {
   "cell_type": "code",
   "execution_count": 7,
   "metadata": {},
   "outputs": [],
   "source": [
    "# obtendo o dataset de treino, utilizando somente as entradas não-anômalas (classe negativa)\n",
    "\n",
    "df_train, _ = train_test_split (df[df.anomalia==0], train_size=0.6, random_state=0)"
   ]
  },
  {
   "cell_type": "code",
   "execution_count": 8,
   "metadata": {},
   "outputs": [],
   "source": [
    "Xtrain = df_train.iloc[:,:6].values"
   ]
  },
  {
   "cell_type": "code",
   "execution_count": 9,
   "metadata": {},
   "outputs": [],
   "source": [
    "# criando um subdataset a partir do original, eliminando as instâncias já selecionadas para treino\n",
    "dff = df.drop(index = df_train.index)"
   ]
  },
  {
   "cell_type": "code",
   "execution_count": 10,
   "metadata": {},
   "outputs": [],
   "source": [
    "# o subdataset será dividido por igual entre validação e teste, mantendo a mesma quantidade proporcional\n",
    "# de instâncias de classe positiva\n",
    "df_val, df_test = train_test_split(dff, train_size = 0.5, stratify = dff.anomalia, random_state=0)"
   ]
  },
  {
   "cell_type": "code",
   "execution_count": 11,
   "metadata": {},
   "outputs": [],
   "source": [
    "Xval = df_val.values"
   ]
  },
  {
   "cell_type": "code",
   "execution_count": 12,
   "metadata": {},
   "outputs": [],
   "source": [
    "Xtest = df_test.values"
   ]
  },
  {
   "cell_type": "code",
   "execution_count": 13,
   "metadata": {},
   "outputs": [],
   "source": [
    "from time import time"
   ]
  },
  {
   "cell_type": "code",
   "execution_count": 14,
   "metadata": {},
   "outputs": [
    {
     "data": {
      "image/png": "[encoded data removed]",
      "text/plain": [
       "<Figure size 1080x432 with 1 Axes>"
      ]
     },
     "metadata": {
      "needs_background": "light"
     },
     "output_type": "display_data"
    }
   ],
   "source": [
    "# este bloco obterá e plotará um gráfico com as métricas obtidas de várias instâncias da classe definida no início do código.\n",
    "# O objetivo é encontrar uma faixa de valores mais adequados para o limiar 'epsilon' , probailidade máxima para que uma\n",
    "# instância seja admitida sob a combinação das gaussianas específicas deste problema.\n",
    "\n",
    "lista_f1, lista_precision, lista_recall, lista_roc_auc=[],[],[],[]\n",
    "\n",
    "lista_eps=np.linspace(0.000000003, 0.000000015,20)\n",
    "for e in lista_eps:\n",
    "    ann = DetectorAnomalias(epsilon = e)\n",
    "    ann.fit(Xtrain)\n",
    "    anomalias = [ann.isAnomaly(i[:6]) for i in Xval]\n",
    "    lista_f1.append(f1_score(y_true = Xval[:,6], y_pred = anomalias))\n",
    "    lista_precision.append(precision_score(y_true = Xval[:,6], y_pred = anomalias))\n",
    "    lista_recall.append(recall_score(y_true = Xval[:,6], y_pred = anomalias))\n",
    "    lista_roc_auc.append(roc_auc_score(y_true = Xval[:,6], y_score = anomalias))\n",
    "    \n",
    "plt.figure(figsize=[15,6])\n",
    "plt.plot(lista_eps, lista_f1, label='f1')\n",
    "plt.plot(lista_eps, lista_precision, label = 'Precision')\n",
    "plt.plot(lista_eps, lista_recall, label = 'Recall')\n",
    "plt.plot(lista_eps, lista_roc_auc, label = 'ROC_AUC')\n",
    "plt.legend()\n",
    "plt.grid()\n",
    "plt.show()"
   ]
  },
  {
   "cell_type": "markdown",
   "metadata": {},
   "source": [
    "Em se tratando de um problema de detecção de anomalias, supomos que devemos priorizar a minimização, e se possível a eliminação de falsos negativos, mesmo que possam resultar em alguns falsos positivos. Entendemos que é muito mais problemática a não-detecção de uma anomalia do que uma suspeita de anomalia que pode ser analisade de forma mais detalhada ou mesmo manualmente.\n",
    "\n",
    "Sendo assim, a métrica Recall poderia ser privilegiada. No gráfico, observamos que a partir de um determinado limiar, Recall será sempre 1 (ótimo). Vamos adotar um valor que maximize ambos Recall e Precision. A métrica que melhor retrata este trade-off é a ROC_AUC (também poderia ser F1).\n",
    "\n",
    "A convergência de valores se dá para um limiar ao redor de 8x10<sup>-9</sup>"
   ]
  },
  {
   "cell_type": "code",
   "execution_count": 15,
   "metadata": {},
   "outputs": [
    {
     "name": "stdout",
     "output_type": "stream",
     "text": [
      "Total instâncias validação:  2036\n",
      "Acurácia   :  0.9995\n",
      "Recall     :  1.0\n",
      "Precision  :  0.9643\n",
      "F1         :  0.9818\n",
      "ROC_AUC    :  0.9998\n",
      "[[2008    1]\n",
      " [   0   27]]\n",
      "Tempo decorrido:  0.94  segundos\n"
     ]
    }
   ],
   "source": [
    "t0 = time()\n",
    "\n",
    "ann = DetectorAnomalias(epsilon = 0.0000000083)\n",
    "ann.fit(Xtrain)\n",
    "anomalias = [ann.isAnomaly(i[:6]) for i in Xval]\n",
    "\n",
    "t1 = time()\n",
    "\n",
    "print (\"Total instâncias validação: \", df_val.shape[0])\n",
    "print (\"Acurácia   : \", round(accuracy_score(y_true = Xval[:,6], y_pred = anomalias),4))\n",
    "print (\"Recall     : \", round(recall_score(y_true = Xval[:,6], y_pred = anomalias),4))\n",
    "print (\"Precision  : \", round(precision_score(y_true = Xval[:,6], y_pred = anomalias),4))\n",
    "print (\"F1         : \", round(f1_score(y_true = Xval[:,6], y_pred = anomalias),4))\n",
    "print (\"ROC_AUC    : \", round(roc_auc_score(y_true = Xval[:,6], y_score = anomalias),4))\n",
    "print (confusion_matrix(y_true = Xval[:,6], y_pred = anomalias))\n",
    "print ('Tempo decorrido: ', round((t1-t0),2), ' segundos')"
   ]
  },
  {
   "cell_type": "markdown",
   "metadata": {},
   "source": [
    "O resultado obtido na validação é bom. Recall e ROC_AUC são altos e temos somente uma ocorrência de falso positivo.\n",
    "\n",
    "O valor de epsilon adotado é 8,3x10<sup>-9</sup>. Vamos rodar com o dataset de teste:"
   ]
  },
  {
   "cell_type": "code",
   "execution_count": 16,
   "metadata": {},
   "outputs": [
    {
     "name": "stdout",
     "output_type": "stream",
     "text": [
      "Total instâncias validação:  2037\n",
      "Acurácia   :  1.0\n",
      "Recall     :  1.0\n",
      "Precision  :  1.0\n",
      "F1         :  1.0\n",
      "ROC_AUC    :  1.0\n",
      "[[2010    0]\n",
      " [   0   27]]\n"
     ]
    }
   ],
   "source": [
    "ann = DetectorAnomalias(epsilon = 0.0000000083)\n",
    "ann.fit(Xtrain)\n",
    "anomalias = [ann.isAnomaly(i[:6]) for i in Xtest]\n",
    "print (\"Total instâncias validação: \", df_test.shape[0])\n",
    "print (\"Acurácia   : \", round(accuracy_score(y_true = Xtest[:,6], y_pred = anomalias),4))\n",
    "print (\"Recall     : \", round(recall_score(y_true = Xtest[:,6], y_pred = anomalias),4))\n",
    "print (\"Precision  : \", round(precision_score(y_true = Xtest[:,6], y_pred = anomalias),4))\n",
    "print (\"F1         : \", round(f1_score(y_true = Xtest[:,6], y_pred = anomalias),4))\n",
    "print (\"ROC_AUC    : \", round(roc_auc_score(y_true = Xtest[:,6], y_score = anomalias),4))\n",
    "print (confusion_matrix(y_true = Xtest[:,6], y_pred = anomalias))"
   ]
  },
  {
   "cell_type": "markdown",
   "metadata": {},
   "source": [
    "O modelo detectou todas as anomalias e não retornou falsos positivos nem negativos."
   ]
  },
  {
   "cell_type": "markdown",
   "metadata": {},
   "source": [
    "<br>\n",
    "\n",
    "__2:__ \n",
    "\n",
    "Aborde o problema num contexto de aprendizado supervisionado, ou seja, treine modelos de classificação binária com o objetivo de detectar anomalias.\n",
    "\n",
    "Compare os resultados entre as metodologias."
   ]
  },
  {
   "cell_type": "code",
   "execution_count": 17,
   "metadata": {},
   "outputs": [],
   "source": [
    "from sklearn.linear_model import LogisticRegression\n",
    "from sklearn.model_selection import GridSearchCV, cross_val_score\n",
    "from sklearn.neighbors import KNeighborsClassifier\n",
    "from sklearn.tree import DecisionTreeClassifier\n",
    "from sklearn.ensemble import RandomForestClassifier"
   ]
  },
  {
   "cell_type": "code",
   "execution_count": 18,
   "metadata": {},
   "outputs": [],
   "source": [
    "# faremos novos datasets de treino e test, agora na proporção 80/20 e mantendo ambos com quantidades proporcionais de\n",
    "# instâncias anômalas\n",
    "df_train1, df_test1 = train_test_split (df, train_size = 0.8, stratify = df.anomalia, random_state=0)"
   ]
  },
  {
   "cell_type": "code",
   "execution_count": 19,
   "metadata": {},
   "outputs": [],
   "source": [
    "Xtrain1 = df_train1.iloc[:,:6].values\n",
    "ytrain1 = df_train1.iloc[:,6].values\n",
    "Xtest1 = df_test1.iloc[:,:6].values\n",
    "ytest1 = df_test1.iloc[:,6].values"
   ]
  },
  {
   "cell_type": "markdown",
   "metadata": {},
   "source": [
    "Vamos testar alguns algoritmos de classificação utilizando o GridSearch para avaliar melhores parãmetros em alguns deles. Adotaremos a ROC_AUC como métrica:"
   ]
  },
  {
   "cell_type": "code",
   "execution_count": 20,
   "metadata": {},
   "outputs": [
    {
     "name": "stdout",
     "output_type": "stream",
     "text": [
      "REGRESSÃO LOGÍSTICA\n",
      "Média ROC_AUC em treino/validação:  0.5975\n",
      "Desvio padrão:  0.0892\n"
     ]
    }
   ],
   "source": [
    "# testando a regressão logística com validação cruzada\n",
    "\n",
    "metricas_reglog = cross_val_score (estimator = LogisticRegression(), X=Xtrain1, y=ytrain1, scoring = 'roc_auc', cv=7)\n",
    "print ('REGRESSÃO LOGÍSTICA')\n",
    "print ('Média ROC_AUC em treino/validação: ', round(np.mean(metricas_reglog),4))\n",
    "print ('Desvio padrão: ', round(np.std(metricas_reglog),4))"
   ]
  },
  {
   "cell_type": "code",
   "execution_count": 21,
   "metadata": {},
   "outputs": [
    {
     "data": {
      "text/plain": [
       "GridSearchCV(cv=5, estimator=KNeighborsClassifier(),\n",
       "             param_grid={'n_neighbors': [10, 100, 200, 1000, 2000, 5000, 6000]},\n",
       "             scoring='roc_auc')"
      ]
     },
     "execution_count": 21,
     "metadata": {},
     "output_type": "execute_result"
    }
   ],
   "source": [
    "# KNearestNeighbors\n",
    "\n",
    "params_KNN = {'n_neighbors':[10,100,200,1000,2000,5000,6000]}\n",
    "grid_KNN = GridSearchCV (estimator = KNeighborsClassifier(), param_grid = params_KNN, scoring = 'roc_auc', cv = 5)\n",
    "grid_KNN.fit(Xtrain1, ytrain1)"
   ]
  },
  {
   "cell_type": "code",
   "execution_count": 22,
   "metadata": {},
   "outputs": [
    {
     "data": {
      "text/html": [
       "<div>\n",
       "<style scoped>\n",
       "    .dataframe tbody tr th:only-of-type {\n",
       "        vertical-align: middle;\n",
       "    }\n",
       "\n",
       "    .dataframe tbody tr th {\n",
       "        vertical-align: top;\n",
       "    }\n",
       "\n",
       "    .dataframe thead th {\n",
       "        text-align: right;\n",
       "    }\n",
       "</style>\n",
       "<table border=\"1\" class=\"dataframe\">\n",
       "  <thead>\n",
       "    <tr style=\"text-align: right;\">\n",
       "      <th></th>\n",
       "      <th>params</th>\n",
       "      <th>mean_test_score</th>\n",
       "    </tr>\n",
       "  </thead>\n",
       "  <tbody>\n",
       "    <tr>\n",
       "      <th>0</th>\n",
       "      <td>{'n_neighbors': 10}</td>\n",
       "      <td>0.629043</td>\n",
       "    </tr>\n",
       "    <tr>\n",
       "      <th>1</th>\n",
       "      <td>{'n_neighbors': 100}</td>\n",
       "      <td>0.759662</td>\n",
       "    </tr>\n",
       "    <tr>\n",
       "      <th>2</th>\n",
       "      <td>{'n_neighbors': 200}</td>\n",
       "      <td>0.787440</td>\n",
       "    </tr>\n",
       "    <tr>\n",
       "      <th>3</th>\n",
       "      <td>{'n_neighbors': 1000}</td>\n",
       "      <td>0.885592</td>\n",
       "    </tr>\n",
       "    <tr>\n",
       "      <th>4</th>\n",
       "      <td>{'n_neighbors': 2000}</td>\n",
       "      <td>0.873791</td>\n",
       "    </tr>\n",
       "    <tr>\n",
       "      <th>5</th>\n",
       "      <td>{'n_neighbors': 5000}</td>\n",
       "      <td>0.790223</td>\n",
       "    </tr>\n",
       "    <tr>\n",
       "      <th>6</th>\n",
       "      <td>{'n_neighbors': 6000}</td>\n",
       "      <td>0.718124</td>\n",
       "    </tr>\n",
       "  </tbody>\n",
       "</table>\n",
       "</div>"
      ],
      "text/plain": [
       "                  params  mean_test_score\n",
       "0    {'n_neighbors': 10}         0.629043\n",
       "1   {'n_neighbors': 100}         0.759662\n",
       "2   {'n_neighbors': 200}         0.787440\n",
       "3  {'n_neighbors': 1000}         0.885592\n",
       "4  {'n_neighbors': 2000}         0.873791\n",
       "5  {'n_neighbors': 5000}         0.790223\n",
       "6  {'n_neighbors': 6000}         0.718124"
      ]
     },
     "execution_count": 22,
     "metadata": {},
     "output_type": "execute_result"
    }
   ],
   "source": [
    "results_KNN = pd.DataFrame(grid_KNN.cv_results_)\n",
    "results_KNN[['params','mean_test_score']]"
   ]
  },
  {
   "cell_type": "code",
   "execution_count": 23,
   "metadata": {},
   "outputs": [
    {
     "data": {
      "text/plain": [
       "GridSearchCV(cv=5, estimator=DecisionTreeClassifier(),\n",
       "             param_grid={'max_depth': [2, 5, 10, 50, 100, 200]},\n",
       "             scoring='roc_auc')"
      ]
     },
     "execution_count": 23,
     "metadata": {},
     "output_type": "execute_result"
    }
   ],
   "source": [
    "# Árvore de classificaçáo\n",
    "\n",
    "params_DT = {'max_depth':[2,5,10,50,100,200]}\n",
    "grid_DT = GridSearchCV (estimator = DecisionTreeClassifier(), param_grid = params_DT, scoring = 'roc_auc', cv = 5)\n",
    "grid_DT.fit(Xtrain1, ytrain1)"
   ]
  },
  {
   "cell_type": "code",
   "execution_count": 24,
   "metadata": {},
   "outputs": [
    {
     "data": {
      "text/html": [
       "<div>\n",
       "<style scoped>\n",
       "    .dataframe tbody tr th:only-of-type {\n",
       "        vertical-align: middle;\n",
       "    }\n",
       "\n",
       "    .dataframe tbody tr th {\n",
       "        vertical-align: top;\n",
       "    }\n",
       "\n",
       "    .dataframe thead th {\n",
       "        text-align: right;\n",
       "    }\n",
       "</style>\n",
       "<table border=\"1\" class=\"dataframe\">\n",
       "  <thead>\n",
       "    <tr style=\"text-align: right;\">\n",
       "      <th></th>\n",
       "      <th>params</th>\n",
       "      <th>mean_test_score</th>\n",
       "    </tr>\n",
       "  </thead>\n",
       "  <tbody>\n",
       "    <tr>\n",
       "      <th>0</th>\n",
       "      <td>{'max_depth': 2}</td>\n",
       "      <td>0.523549</td>\n",
       "    </tr>\n",
       "    <tr>\n",
       "      <th>1</th>\n",
       "      <td>{'max_depth': 5}</td>\n",
       "      <td>0.537559</td>\n",
       "    </tr>\n",
       "    <tr>\n",
       "      <th>2</th>\n",
       "      <td>{'max_depth': 10}</td>\n",
       "      <td>0.580962</td>\n",
       "    </tr>\n",
       "    <tr>\n",
       "      <th>3</th>\n",
       "      <td>{'max_depth': 50}</td>\n",
       "      <td>0.641625</td>\n",
       "    </tr>\n",
       "    <tr>\n",
       "      <th>4</th>\n",
       "      <td>{'max_depth': 100}</td>\n",
       "      <td>0.687396</td>\n",
       "    </tr>\n",
       "    <tr>\n",
       "      <th>5</th>\n",
       "      <td>{'max_depth': 200}</td>\n",
       "      <td>0.652860</td>\n",
       "    </tr>\n",
       "  </tbody>\n",
       "</table>\n",
       "</div>"
      ],
      "text/plain": [
       "               params  mean_test_score\n",
       "0    {'max_depth': 2}         0.523549\n",
       "1    {'max_depth': 5}         0.537559\n",
       "2   {'max_depth': 10}         0.580962\n",
       "3   {'max_depth': 50}         0.641625\n",
       "4  {'max_depth': 100}         0.687396\n",
       "5  {'max_depth': 200}         0.652860"
      ]
     },
     "execution_count": 24,
     "metadata": {},
     "output_type": "execute_result"
    }
   ],
   "source": [
    "results_DT = pd.DataFrame(grid_DT.cv_results_)\n",
    "results_DT[['params','mean_test_score']]"
   ]
  },
  {
   "cell_type": "code",
   "execution_count": 25,
   "metadata": {},
   "outputs": [
    {
     "data": {
      "text/plain": [
       "GridSearchCV(cv=5, estimator=RandomForestClassifier(),\n",
       "             param_grid={'n_estimators': [10, 50, 500, 1000, 5000]},\n",
       "             scoring='roc_auc')"
      ]
     },
     "execution_count": 25,
     "metadata": {},
     "output_type": "execute_result"
    }
   ],
   "source": [
    "# Random Forest\n",
    "params_RF = {'n_estimators':[10,50,500,1000,5000]}\n",
    "grid_RF = GridSearchCV (estimator = RandomForestClassifier(), param_grid = params_RF, scoring = 'roc_auc', cv = 5)\n",
    "grid_RF.fit(Xtrain1, ytrain1)"
   ]
  },
  {
   "cell_type": "code",
   "execution_count": 26,
   "metadata": {},
   "outputs": [
    {
     "data": {
      "text/html": [
       "<div>\n",
       "<style scoped>\n",
       "    .dataframe tbody tr th:only-of-type {\n",
       "        vertical-align: middle;\n",
       "    }\n",
       "\n",
       "    .dataframe tbody tr th {\n",
       "        vertical-align: top;\n",
       "    }\n",
       "\n",
       "    .dataframe thead th {\n",
       "        text-align: right;\n",
       "    }\n",
       "</style>\n",
       "<table border=\"1\" class=\"dataframe\">\n",
       "  <thead>\n",
       "    <tr style=\"text-align: right;\">\n",
       "      <th></th>\n",
       "      <th>params</th>\n",
       "      <th>mean_test_score</th>\n",
       "      <th>mean_fit_time</th>\n",
       "    </tr>\n",
       "  </thead>\n",
       "  <tbody>\n",
       "    <tr>\n",
       "      <th>0</th>\n",
       "      <td>{'n_estimators': 10}</td>\n",
       "      <td>0.846062</td>\n",
       "      <td>0.113434</td>\n",
       "    </tr>\n",
       "    <tr>\n",
       "      <th>1</th>\n",
       "      <td>{'n_estimators': 50}</td>\n",
       "      <td>0.945083</td>\n",
       "      <td>0.580286</td>\n",
       "    </tr>\n",
       "    <tr>\n",
       "      <th>2</th>\n",
       "      <td>{'n_estimators': 500}</td>\n",
       "      <td>0.987773</td>\n",
       "      <td>5.913932</td>\n",
       "    </tr>\n",
       "    <tr>\n",
       "      <th>3</th>\n",
       "      <td>{'n_estimators': 1000}</td>\n",
       "      <td>0.964992</td>\n",
       "      <td>12.522696</td>\n",
       "    </tr>\n",
       "    <tr>\n",
       "      <th>4</th>\n",
       "      <td>{'n_estimators': 5000}</td>\n",
       "      <td>0.985166</td>\n",
       "      <td>64.721500</td>\n",
       "    </tr>\n",
       "  </tbody>\n",
       "</table>\n",
       "</div>"
      ],
      "text/plain": [
       "                   params  mean_test_score  mean_fit_time\n",
       "0    {'n_estimators': 10}         0.846062       0.113434\n",
       "1    {'n_estimators': 50}         0.945083       0.580286\n",
       "2   {'n_estimators': 500}         0.987773       5.913932\n",
       "3  {'n_estimators': 1000}         0.964992      12.522696\n",
       "4  {'n_estimators': 5000}         0.985166      64.721500"
      ]
     },
     "execution_count": 26,
     "metadata": {},
     "output_type": "execute_result"
    }
   ],
   "source": [
    "results_RF= pd.DataFrame(grid_RF.cv_results_)\n",
    "results_RF[['params','mean_test_score','mean_fit_time']]"
   ]
  },
  {
   "cell_type": "markdown",
   "metadata": {},
   "source": [
    "Resultados:\n",
    "\n",
    "De um modo geral a abordagem supervisionada teve performance inferior à da abordagem não-supervisionada.\n",
    "\n",
    "Os melhores resultados de cada modelo supervisionados foram:\n",
    "\n",
    "Regressão Logística: 0,59\n",
    "KNN: 0,88\n",
    "Decision Tree: 0,67\n",
    "\n",
    "Dos modelos testados, o Random Forest obteve um resultado próximo à abordagem não-supervisionada. O modelo com 5.000 estimadores resultou num score médio de aprox. 0,98 (no método não-supervisionado obtivemos 0,99). No entanto, o tempo de processamento ficou substancialmente mais alto (55s ante 1,17s).\n",
    "\n",
    "Podemos afirmar que, no contexto dos dados estudados e com os modelos testados, a abordagem não-supervisionada foi mais eficaz e a causa mais provável é que a pouca quantidade de instãncias com anomalias (54 de um total de 10.100) não são suficientes para treinar os modelos em identificar os padrões."
   ]
  },
  {
   "cell_type": "code",
   "execution_count": null,
   "metadata": {},
   "outputs": [],
   "source": []
  }
 ],
 "metadata": {
  "kernelspec": {
   "display_name": "Python 3 (ipykernel)",
   "language": "python",
   "name": "python3"
  },
  "language_info": {
   "codemirror_mode": {
    "name": "ipython",
    "version": 3
   },
   "file_extension": ".py",
   "mimetype": "text/x-python",
   "name": "python",
   "nbconvert_exporter": "python",
   "pygments_lexer": "ipython3",
   "version": "3.9.7"
  }
 },
 "nbformat": 4,
 "nbformat_minor": 2
}
