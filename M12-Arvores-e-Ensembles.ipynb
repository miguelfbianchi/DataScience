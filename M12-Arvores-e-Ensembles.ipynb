{
 "cells": [
  {
   "cell_type": "markdown",
   "metadata": {},
   "source": [
    "### Modelos baseados em árvores\n",
    "\n",
    "<br>\n",
    "\n",
    "Ao longo do módulo, discutimos bastante as árvores de decisão, bem como ensemble de árvores, como Random Forest e algoritmos do tipo boosting.\n",
    "\n",
    "Esses __ensembles acabam tendo muitos hiperparâmetros;__ escolhe-los de forma manual acaba sendo muito custoso e tedioso. \n",
    "\n",
    "Neste exercício, vamos discutir a respeito da metolodia __grid-search__, que otimiza essa busca de hiperparâmetros.\n",
    "\n",
    "Considere o dataset abaixo (basta executar as células):"
   ]
  },
  {
   "cell_type": "code",
   "execution_count": 1,
   "metadata": {},
   "outputs": [],
   "source": [
    "import pandas as pd\n",
    "import numpy as np\n",
    "import matplotlib.pyplot as plt"
   ]
  },
  {
   "cell_type": "code",
   "execution_count": 2,
   "metadata": {},
   "outputs": [],
   "source": [
    "from sklearn.datasets import load_diabetes\n",
    "from sklearn.model_selection import train_test_split"
   ]
  },
  {
   "cell_type": "code",
   "execution_count": 3,
   "metadata": {},
   "outputs": [
    {
     "name": "stdout",
     "output_type": "stream",
     "text": [
      "(331, 10) (111, 10) (331,) (111,)\n"
     ]
    }
   ],
   "source": [
    "#problema de regressão\n",
    "\n",
    "X, y = load_diabetes().data, load_diabetes().target\n",
    "Xtrain, Xtest, ytrain, ytest = train_test_split(X, y, test_size = 0.25, random_state = 42)\n",
    "print(Xtrain.shape, Xtest.shape, ytrain.shape, ytest.shape)"
   ]
  },
  {
   "cell_type": "markdown",
   "metadata": {},
   "source": [
    "Imagine que queremos testar - usando cross-validation - várias instâncias de Random Forests: com 10 árvores, com 100 árvores, com 1000 árvores, com profundidade máxima 1, 5, 10. \n",
    "\n",
    "Como podemos proceder? O código abaixo exemplifica um jeito:"
   ]
  },
  {
   "cell_type": "code",
   "execution_count": 4,
   "metadata": {},
   "outputs": [
    {
     "name": "stdout",
     "output_type": "stream",
     "text": [
      "estimators:  10  prof:  1  | R2 mean / std:  0.31668666439282617  /  0.05192198772248859\n",
      "estimators:  10  prof:  5  | R2 mean / std:  0.3880261560163776  /  0.050459713075200426\n",
      "estimators:  10  prof:  10  | R2 mean / std:  0.40705792888610476  /  0.025851167514224\n",
      "estimators:  100  prof:  1  | R2 mean / std:  0.3243564415884665  /  0.04519494762188192\n",
      "estimators:  100  prof:  5  | R2 mean / std:  0.42554077495428855  /  0.04300018691060576\n",
      "estimators:  100  prof:  10  | R2 mean / std:  0.41235675612525435  /  0.04309041104116178\n",
      "estimators:  100  prof:  1  | R2 mean / std:  0.33925844150098206  /  0.03641927954666465\n",
      "estimators:  100  prof:  5  | R2 mean / std:  0.4258495683693086  /  0.04659020204051035\n",
      "estimators:  100  prof:  10  | R2 mean / std:  0.4165109138808491  /  0.041539344109688466\n"
     ]
    }
   ],
   "source": [
    "from sklearn.ensemble import RandomForestRegressor\n",
    "from sklearn.model_selection import cross_val_score\n",
    "\n",
    "for n_est in [10,100,100]:\n",
    "    for prof in [1,5,10]:\n",
    "        rf = RandomForestRegressor(n_estimators=n_est, max_depth=prof)\n",
    "        cvres = cross_val_score(estimator=rf, X = Xtrain, y = ytrain, cv = 3, scoring='r2')\n",
    "        print(\"estimators: \", n_est, \" prof: \", prof, \" | R2 mean / std: \", cvres.mean(), ' / ', cvres.std())"
   ]
  },
  {
   "cell_type": "markdown",
   "metadata": {},
   "source": [
    "Podemos, com algum trabalho, escolher o melhor modelo.\n",
    "\n",
    "Se quisermos testar mais parâmetros, podemos aumentar nosso loop... mais isso vai ficando cada vez mais complicado.\n",
    "\n",
    "A proposta do __grid-search__ é justamente fazer isso de forma mais automática!\n",
    "\n",
    "Podemos importar a função GridSearchCV do módulo model_selection do sklearn e usá-la para isso. \n",
    "Na prática, precisamos definir um __estimador base__ para o grid. Além disso, precisamos definir um __dicionário de parâmetros__ a ser testado. Ainda, definiremos a quantidade de folds para cross-validation e qual a métrica de performance que queremos otimizar:"
   ]
  },
  {
   "cell_type": "code",
   "execution_count": 5,
   "metadata": {},
   "outputs": [],
   "source": [
    "#importando a função\n",
    "from sklearn.model_selection import GridSearchCV"
   ]
  },
  {
   "cell_type": "code",
   "execution_count": 6,
   "metadata": {},
   "outputs": [],
   "source": [
    "#definindo o estimador base\n",
    "estimador_base = RandomForestRegressor()\n",
    "\n",
    "#definindo o dicionario de parâmetros do modelo\n",
    "params_RF = {\"n_estimators\":[10,1000], \"max_depth\":[2,10]}"
   ]
  },
  {
   "cell_type": "code",
   "execution_count": 7,
   "metadata": {},
   "outputs": [
    {
     "data": {
      "text/plain": [
       "GridSearchCV(cv=3, estimator=RandomForestRegressor(),\n",
       "             param_grid={'max_depth': [2, 10], 'n_estimators': [10, 1000]},\n",
       "             scoring='r2')"
      ]
     },
     "execution_count": 7,
     "metadata": {},
     "output_type": "execute_result"
    }
   ],
   "source": [
    "grid = GridSearchCV(estimator = estimador_base, \n",
    "                    param_grid = params_RF, \n",
    "                    scoring = 'r2', \n",
    "                    cv = 3)\n",
    "\n",
    "grid"
   ]
  },
  {
   "cell_type": "code",
   "execution_count": 8,
   "metadata": {},
   "outputs": [
    {
     "data": {
      "text/plain": [
       "GridSearchCV(cv=3, estimator=RandomForestRegressor(),\n",
       "             param_grid={'max_depth': [2, 10], 'n_estimators': [10, 1000]},\n",
       "             scoring='r2')"
      ]
     },
     "execution_count": 8,
     "metadata": {},
     "output_type": "execute_result"
    }
   ],
   "source": [
    "#treinando os modelos no grid\n",
    "grid.fit(Xtrain, ytrain)"
   ]
  },
  {
   "cell_type": "markdown",
   "metadata": {},
   "source": [
    "O objeto \"grid\", após o treinamento acima, conterá várias informações muito relevantes. \n",
    "\n",
    "__1- \"best_params_\":__ retorna os melhores parâmetros, de acordo com a métrica de performance avaliada na cross-validation;\n",
    "\n",
    "__1- \"best_score_\":__ retorna o melhor score - métrica de performance - nos dados de validação;\n",
    "\n",
    "__1- \"best_estimator_\":__ retorna o melhor modelo, já treinado;\n",
    "\n",
    "__1- \"cv_results_\":__ retorna uma visão geral dos resultados."
   ]
  },
  {
   "cell_type": "code",
   "execution_count": 9,
   "metadata": {},
   "outputs": [
    {
     "data": {
      "text/plain": [
       "{'max_depth': 10, 'n_estimators': 1000}"
      ]
     },
     "execution_count": 9,
     "metadata": {},
     "output_type": "execute_result"
    }
   ],
   "source": [
    "grid.best_params_"
   ]
  },
  {
   "cell_type": "code",
   "execution_count": 10,
   "metadata": {},
   "outputs": [
    {
     "data": {
      "text/plain": [
       "0.4219897115096661"
      ]
     },
     "execution_count": 10,
     "metadata": {},
     "output_type": "execute_result"
    }
   ],
   "source": [
    "grid.best_score_"
   ]
  },
  {
   "cell_type": "code",
   "execution_count": 11,
   "metadata": {},
   "outputs": [
    {
     "data": {
      "text/plain": [
       "RandomForestRegressor(max_depth=10, n_estimators=1000)"
      ]
     },
     "execution_count": 11,
     "metadata": {},
     "output_type": "execute_result"
    }
   ],
   "source": [
    "grid.best_estimator_"
   ]
  },
  {
   "cell_type": "code",
   "execution_count": 12,
   "metadata": {},
   "outputs": [
    {
     "data": {
      "text/plain": [
       "{'mean_fit_time': array([0.00998505, 0.90091777, 0.01296377, 1.29852859]),\n",
       " 'std_fit_time': array([1.39705060e-05, 5.25020624e-03, 1.87730977e-06, 1.31364411e-02]),\n",
       " 'mean_score_time': array([0.00099699, 0.0542024 , 0.00099683, 0.06249793]),\n",
       " 'std_score_time': array([1.10692885e-06, 9.55878063e-04, 8.48537942e-07, 1.69367413e-03]),\n",
       " 'param_max_depth': masked_array(data=[2, 2, 10, 10],\n",
       "              mask=[False, False, False, False],\n",
       "        fill_value='?',\n",
       "             dtype=object),\n",
       " 'param_n_estimators': masked_array(data=[10, 1000, 10, 1000],\n",
       "              mask=[False, False, False, False],\n",
       "        fill_value='?',\n",
       "             dtype=object),\n",
       " 'params': [{'max_depth': 2, 'n_estimators': 10},\n",
       "  {'max_depth': 2, 'n_estimators': 1000},\n",
       "  {'max_depth': 10, 'n_estimators': 10},\n",
       "  {'max_depth': 10, 'n_estimators': 1000}],\n",
       " 'split0_test_score': array([0.3260469 , 0.350742  , 0.35176998, 0.36385111]),\n",
       " 'split1_test_score': array([0.44118386, 0.44451014, 0.40535785, 0.45928804]),\n",
       " 'split2_test_score': array([0.41047172, 0.42985087, 0.36516895, 0.44282998]),\n",
       " 'mean_test_score': array([0.39256749, 0.40836767, 0.37409893, 0.42198971]),\n",
       " 'std_test_score': array([0.04867957, 0.04118464, 0.0227702 , 0.04165565]),\n",
       " 'rank_test_score': array([3, 2, 4, 1])}"
      ]
     },
     "execution_count": 12,
     "metadata": {},
     "output_type": "execute_result"
    }
   ],
   "source": [
    "grid.cv_results_"
   ]
  },
  {
   "cell_type": "markdown",
   "metadata": {},
   "source": [
    "__Exercício 1:__ Utilizando o dataset abaixo, faça um grid_search com KNN's, Random Forests e GradientBoostings e retorne o melhor modelo de cada tipo.\n",
    "\n",
    "__Obs.:__ Lembre-se de fazer um pré-processamento nos dados!"
   ]
  },
  {
   "cell_type": "code",
   "execution_count": 13,
   "metadata": {},
   "outputs": [
    {
     "name": "stdout",
     "output_type": "stream",
     "text": [
      "(20640, 10)\n"
     ]
    },
    {
     "data": {
      "text/html": [
       "<div>\n",
       "<style scoped>\n",
       "    .dataframe tbody tr th:only-of-type {\n",
       "        vertical-align: middle;\n",
       "    }\n",
       "\n",
       "    .dataframe tbody tr th {\n",
       "        vertical-align: top;\n",
       "    }\n",
       "\n",
       "    .dataframe thead th {\n",
       "        text-align: right;\n",
       "    }\n",
       "</style>\n",
       "<table border=\"1\" class=\"dataframe\">\n",
       "  <thead>\n",
       "    <tr style=\"text-align: right;\">\n",
       "      <th></th>\n",
       "      <th>longitude</th>\n",
       "      <th>latitude</th>\n",
       "      <th>idade_mediana_das_casas</th>\n",
       "      <th>total_comodos</th>\n",
       "      <th>total_quartos</th>\n",
       "      <th>populacao</th>\n",
       "      <th>familias</th>\n",
       "      <th>salario_mediano</th>\n",
       "      <th>preco_mediano_das_casas</th>\n",
       "      <th>proximidade_ao_mar</th>\n",
       "    </tr>\n",
       "  </thead>\n",
       "  <tbody>\n",
       "    <tr>\n",
       "      <th>0</th>\n",
       "      <td>-122.23</td>\n",
       "      <td>37.88</td>\n",
       "      <td>41.0</td>\n",
       "      <td>880.0</td>\n",
       "      <td>129.0</td>\n",
       "      <td>322.0</td>\n",
       "      <td>126.0</td>\n",
       "      <td>8.3252</td>\n",
       "      <td>452600.0</td>\n",
       "      <td>PERTO DA BAÍA</td>\n",
       "    </tr>\n",
       "    <tr>\n",
       "      <th>1</th>\n",
       "      <td>-122.22</td>\n",
       "      <td>37.86</td>\n",
       "      <td>21.0</td>\n",
       "      <td>7099.0</td>\n",
       "      <td>1106.0</td>\n",
       "      <td>2401.0</td>\n",
       "      <td>1138.0</td>\n",
       "      <td>8.3014</td>\n",
       "      <td>358500.0</td>\n",
       "      <td>PERTO DA BAÍA</td>\n",
       "    </tr>\n",
       "    <tr>\n",
       "      <th>2</th>\n",
       "      <td>-122.24</td>\n",
       "      <td>37.85</td>\n",
       "      <td>52.0</td>\n",
       "      <td>1467.0</td>\n",
       "      <td>190.0</td>\n",
       "      <td>496.0</td>\n",
       "      <td>177.0</td>\n",
       "      <td>7.2574</td>\n",
       "      <td>352100.0</td>\n",
       "      <td>PERTO DA BAÍA</td>\n",
       "    </tr>\n",
       "    <tr>\n",
       "      <th>3</th>\n",
       "      <td>-122.25</td>\n",
       "      <td>37.85</td>\n",
       "      <td>52.0</td>\n",
       "      <td>1274.0</td>\n",
       "      <td>235.0</td>\n",
       "      <td>558.0</td>\n",
       "      <td>219.0</td>\n",
       "      <td>5.6431</td>\n",
       "      <td>341300.0</td>\n",
       "      <td>PERTO DA BAÍA</td>\n",
       "    </tr>\n",
       "    <tr>\n",
       "      <th>4</th>\n",
       "      <td>-122.25</td>\n",
       "      <td>37.85</td>\n",
       "      <td>52.0</td>\n",
       "      <td>1627.0</td>\n",
       "      <td>280.0</td>\n",
       "      <td>565.0</td>\n",
       "      <td>259.0</td>\n",
       "      <td>3.8462</td>\n",
       "      <td>342200.0</td>\n",
       "      <td>PERTO DA BAÍA</td>\n",
       "    </tr>\n",
       "  </tbody>\n",
       "</table>\n",
       "</div>"
      ],
      "text/plain": [
       "   longitude  latitude  idade_mediana_das_casas  total_comodos  total_quartos  \\\n",
       "0    -122.23     37.88                     41.0          880.0          129.0   \n",
       "1    -122.22     37.86                     21.0         7099.0         1106.0   \n",
       "2    -122.24     37.85                     52.0         1467.0          190.0   \n",
       "3    -122.25     37.85                     52.0         1274.0          235.0   \n",
       "4    -122.25     37.85                     52.0         1627.0          280.0   \n",
       "\n",
       "   populacao  familias  salario_mediano  preco_mediano_das_casas  \\\n",
       "0      322.0     126.0           8.3252                 452600.0   \n",
       "1     2401.0    1138.0           8.3014                 358500.0   \n",
       "2      496.0     177.0           7.2574                 352100.0   \n",
       "3      558.0     219.0           5.6431                 341300.0   \n",
       "4      565.0     259.0           3.8462                 342200.0   \n",
       "\n",
       "  proximidade_ao_mar  \n",
       "0      PERTO DA BAÍA  \n",
       "1      PERTO DA BAÍA  \n",
       "2      PERTO DA BAÍA  \n",
       "3      PERTO DA BAÍA  \n",
       "4      PERTO DA BAÍA  "
      ]
     },
     "execution_count": 13,
     "metadata": {},
     "output_type": "execute_result"
    }
   ],
   "source": [
    "#preco_mediano_das_casas é a variável target\n",
    "df = pd.read_csv(\"preco_casas.csv\")\n",
    "print(df.shape)\n",
    "df.head()"
   ]
  },
  {
   "cell_type": "code",
   "execution_count": 14,
   "metadata": {},
   "outputs": [
    {
     "data": {
      "text/plain": [
       "longitude                    0\n",
       "latitude                     0\n",
       "idade_mediana_das_casas      0\n",
       "total_comodos                0\n",
       "total_quartos              207\n",
       "populacao                    0\n",
       "familias                     0\n",
       "salario_mediano              0\n",
       "preco_mediano_das_casas      0\n",
       "proximidade_ao_mar           0\n",
       "dtype: int64"
      ]
     },
     "execution_count": 14,
     "metadata": {},
     "output_type": "execute_result"
    }
   ],
   "source": [
    "df.isnull().sum()"
   ]
  },
  {
   "cell_type": "code",
   "execution_count": 15,
   "metadata": {},
   "outputs": [
    {
     "data": {
      "text/plain": [
       "longitude                  float64\n",
       "latitude                   float64\n",
       "idade_mediana_das_casas    float64\n",
       "total_comodos              float64\n",
       "total_quartos              float64\n",
       "populacao                  float64\n",
       "familias                   float64\n",
       "salario_mediano            float64\n",
       "preco_mediano_das_casas    float64\n",
       "proximidade_ao_mar          object\n",
       "dtype: object"
      ]
     },
     "execution_count": 15,
     "metadata": {},
     "output_type": "execute_result"
    }
   ],
   "source": [
    "df.dtypes"
   ]
  },
  {
   "cell_type": "code",
   "execution_count": 16,
   "metadata": {},
   "outputs": [],
   "source": [
    "from sklearn.model_selection import train_test_split\n",
    "from sklearn.preprocessing import OneHotEncoder\n",
    "from sklearn.preprocessing import StandardScaler"
   ]
  },
  {
   "cell_type": "code",
   "execution_count": 17,
   "metadata": {},
   "outputs": [
    {
     "name": "stdout",
     "output_type": "stream",
     "text": [
      "(20640, 10)\n",
      "(15480, 10)\n",
      "(5160, 10)\n"
     ]
    }
   ],
   "source": [
    "dftrain, dftest = train_test_split(df, test_size=0.25, random_state=0)\n",
    "print (df.shape)\n",
    "print(dftrain.shape)\n",
    "print (dftest.shape)"
   ]
  },
  {
   "cell_type": "code",
   "execution_count": 18,
   "metadata": {},
   "outputs": [],
   "source": [
    "# definição da função de pré-processamento dos dados\n",
    "\n",
    "def pre_processamento (df, dataset_de_treino = True, cat_encoder = None, std_scaler = None):\n",
    "    dff = df.copy()\n",
    "        \n",
    "    # criação de novas variáveis\n",
    "    dff[\"pessoas_por_familia\"] = dff[\"populacao\"] / dff[\"familias\"]\n",
    "    dff[\"comodos_por_pessoa\"] = dff[\"total_comodos\"] / dff[\"populacao\"]\n",
    "    dff[\"quartos_por_comodos\"] = dff[\"total_quartos\"] / dff[\"total_comodos\"]\n",
    "    \n",
    "    # retirar valores faltantes\n",
    "    dff = dff.dropna(axis = 0)\n",
    "    \n",
    "    colsnum = ['idade_mediana_das_casas','total_comodos','total_quartos','populacao','familias','salario_mediano',\n",
    "              'pessoas_por_familia','comodos_por_pessoa','quartos_por_comodos']\n",
    "    colscat = ['proximidade_ao_mar']\n",
    "        \n",
    "    if dataset_de_treino: # no dataset de treino, o modelo será treinado antes de transformar os dados\n",
    "        \n",
    "        encoder = OneHotEncoder() # OHE para as variáveis categóricas\n",
    "        variaveis_ohe = encoder.fit_transform(dff[colscat]).toarray()\n",
    "        \n",
    "        std_sc = StandardScaler() # adotamos o StandardScaler para as variáveis numéricas contínuas\n",
    "        variaveis_std = std_sc.fit_transform(dff[colsnum])\n",
    "        \n",
    "        X, y = np.c_[variaveis_ohe, variaveis_std], dff.preco_mediano_das_casas.values\n",
    "        return X, y, encoder, std_sc\n",
    "    \n",
    "    else: # no dataset de teste, os dados serão transformados a partir do modelo já treinado \n",
    "        variaveis_ohe = cat_encoder.transform(dff[colscat]).toarray()\n",
    "        \n",
    "        variaveis_std = std_scaler.transform(dff[colsnum])\n",
    "        \n",
    "        X, y = np.c_[variaveis_ohe, variaveis_std], dff.preco_mediano_das_casas.values\n",
    "        return X, y\n",
    "    "
   ]
  },
  {
   "cell_type": "code",
   "execution_count": 19,
   "metadata": {},
   "outputs": [],
   "source": [
    "# pre-processamento dos dados de treino\n",
    "Xtrain, ytrain, encoder_train, scaler_train = pre_processamento(dftrain, dataset_de_treino = True,\n",
    "                                                                cat_encoder = None, std_scaler = None)"
   ]
  },
  {
   "cell_type": "code",
   "execution_count": 20,
   "metadata": {},
   "outputs": [],
   "source": [
    "# pré-processamentos dos dados de teste\n",
    "Xtest, ytest = pre_processamento(dftest, dataset_de_treino = False,\n",
    "                                cat_encoder = encoder_train, std_scaler = scaler_train)"
   ]
  },
  {
   "cell_type": "code",
   "execution_count": 21,
   "metadata": {},
   "outputs": [],
   "source": [
    "from sklearn.neighbors import KNeighborsRegressor\n",
    "from sklearn.ensemble import GradientBoostingRegressor"
   ]
  },
  {
   "cell_type": "code",
   "execution_count": 22,
   "metadata": {},
   "outputs": [
    {
     "data": {
      "text/plain": [
       "GridSearchCV(cv=5, estimator=KNeighborsRegressor(),\n",
       "             param_grid={'n_neighbors': [5, 10, 20, 30]}, scoring='r2')"
      ]
     },
     "execution_count": 22,
     "metadata": {},
     "output_type": "execute_result"
    }
   ],
   "source": [
    "# Grid Search com algoritmo KNN\n",
    "\n",
    "estimador_base = KNeighborsRegressor()\n",
    "params_KNN = {'n_neighbors':[5,10,20,30]}\n",
    "grid_KNN = GridSearchCV (estimator = estimador_base, param_grid = params_KNN, scoring = 'r2', cv = 5)\n",
    "grid_KNN.fit(Xtrain, ytrain)"
   ]
  },
  {
   "cell_type": "code",
   "execution_count": 23,
   "metadata": {},
   "outputs": [
    {
     "data": {
      "text/plain": [
       "{'n_neighbors': 10}"
      ]
     },
     "execution_count": 23,
     "metadata": {},
     "output_type": "execute_result"
    }
   ],
   "source": [
    "grid_KNN.best_params_"
   ]
  },
  {
   "cell_type": "code",
   "execution_count": 24,
   "metadata": {},
   "outputs": [
    {
     "data": {
      "text/plain": [
       "0.7133474231558996"
      ]
     },
     "execution_count": 24,
     "metadata": {},
     "output_type": "execute_result"
    }
   ],
   "source": [
    "grid_KNN.best_score_"
   ]
  },
  {
   "cell_type": "code",
   "execution_count": 25,
   "metadata": {},
   "outputs": [],
   "source": [
    "import time"
   ]
  },
  {
   "cell_type": "code",
   "execution_count": 26,
   "metadata": {},
   "outputs": [
    {
     "name": "stdout",
     "output_type": "stream",
     "text": [
      "Tempo decorrido (min):  2.44579515059789\n"
     ]
    }
   ],
   "source": [
    "# Grid Search com algoritmo Random Forest\n",
    "t0 = time.time()\n",
    "\n",
    "estimador_base = RandomForestRegressor()\n",
    "params_RF = {\"n_estimators\":[50,100,200], \"max_depth\":[6,10,20],\"max_features\":[\"auto\"]}\n",
    "grid_RF = GridSearchCV (estimator = estimador_base, param_grid = params_RF, scoring = 'r2', cv = 3)\n",
    "grid_RF.fit(Xtrain, ytrain)\n",
    "\n",
    "print (\"Tempo decorrido (min): \", (time.time()-t0)/60)"
   ]
  },
  {
   "cell_type": "code",
   "execution_count": 27,
   "metadata": {},
   "outputs": [
    {
     "data": {
      "text/plain": [
       "{'max_depth': 20, 'max_features': 'auto', 'n_estimators': 200}"
      ]
     },
     "execution_count": 27,
     "metadata": {},
     "output_type": "execute_result"
    }
   ],
   "source": [
    "grid_RF.best_params_"
   ]
  },
  {
   "cell_type": "code",
   "execution_count": 28,
   "metadata": {},
   "outputs": [
    {
     "data": {
      "text/plain": [
       "0.7393903553942023"
      ]
     },
     "execution_count": 28,
     "metadata": {},
     "output_type": "execute_result"
    }
   ],
   "source": [
    "grid_RF.best_score_"
   ]
  },
  {
   "cell_type": "code",
   "execution_count": 29,
   "metadata": {},
   "outputs": [
    {
     "data": {
      "text/plain": [
       "{'mean_fit_time': array([ 1.24338341,  2.60902603,  4.93116204,  1.85272344,  3.75694609,\n",
       "         7.44775526,  2.97239749,  5.67215379, 11.36928884]),\n",
       " 'std_fit_time': array([0.01480665, 0.10367502, 0.02390023, 0.00330546, 0.03208791,\n",
       "        0.02082876, 0.06718193, 0.03793444, 0.02706318]),\n",
       " 'mean_score_time': array([0.01624926, 0.03091447, 0.05982828, 0.02625259, 0.05087741,\n",
       "        0.10271454, 0.05086652, 0.09574564, 0.19113302]),\n",
       " 'std_score_time': array([4.62898798e-04, 8.44958815e-04, 1.25300249e-05, 9.32946946e-04,\n",
       "        8.26855668e-04, 4.23914693e-03, 2.93323422e-03, 7.81202510e-04,\n",
       "        1.68396547e-03]),\n",
       " 'param_max_depth': masked_array(data=[6, 6, 6, 10, 10, 10, 20, 20, 20],\n",
       "              mask=[False, False, False, False, False, False, False, False,\n",
       "                    False],\n",
       "        fill_value='?',\n",
       "             dtype=object),\n",
       " 'param_max_features': masked_array(data=['auto', 'auto', 'auto', 'auto', 'auto', 'auto', 'auto',\n",
       "                    'auto', 'auto'],\n",
       "              mask=[False, False, False, False, False, False, False, False,\n",
       "                    False],\n",
       "        fill_value='?',\n",
       "             dtype=object),\n",
       " 'param_n_estimators': masked_array(data=[50, 100, 200, 50, 100, 200, 50, 100, 200],\n",
       "              mask=[False, False, False, False, False, False, False, False,\n",
       "                    False],\n",
       "        fill_value='?',\n",
       "             dtype=object),\n",
       " 'params': [{'max_depth': 6, 'max_features': 'auto', 'n_estimators': 50},\n",
       "  {'max_depth': 6, 'max_features': 'auto', 'n_estimators': 100},\n",
       "  {'max_depth': 6, 'max_features': 'auto', 'n_estimators': 200},\n",
       "  {'max_depth': 10, 'max_features': 'auto', 'n_estimators': 50},\n",
       "  {'max_depth': 10, 'max_features': 'auto', 'n_estimators': 100},\n",
       "  {'max_depth': 10, 'max_features': 'auto', 'n_estimators': 200},\n",
       "  {'max_depth': 20, 'max_features': 'auto', 'n_estimators': 50},\n",
       "  {'max_depth': 20, 'max_features': 'auto', 'n_estimators': 100},\n",
       "  {'max_depth': 20, 'max_features': 'auto', 'n_estimators': 200}],\n",
       " 'split0_test_score': array([0.72033543, 0.72204034, 0.72126212, 0.74591197, 0.74526105,\n",
       "        0.74556822, 0.74219741, 0.74426059, 0.74693171]),\n",
       " 'split1_test_score': array([0.70750269, 0.7081632 , 0.70825367, 0.72924929, 0.73085446,\n",
       "        0.73329446, 0.72943421, 0.732069  , 0.73199971]),\n",
       " 'split2_test_score': array([0.71190525, 0.71434127, 0.7147003 , 0.73641291, 0.73854564,\n",
       "        0.7367701 , 0.7363142 , 0.73685771, 0.73923964]),\n",
       " 'mean_test_score': array([0.71324779, 0.71484827, 0.7147387 , 0.73719139, 0.73822038,\n",
       "        0.73854426, 0.73598194, 0.7377291 , 0.73939036]),\n",
       " 'std_test_score': array([0.00532426, 0.00567665, 0.00531075, 0.00682474, 0.00588596,\n",
       "        0.0051654 , 0.00521585, 0.00501519, 0.00609689]),\n",
       " 'rank_test_score': array([9, 7, 8, 5, 3, 2, 6, 4, 1])}"
      ]
     },
     "execution_count": 29,
     "metadata": {},
     "output_type": "execute_result"
    }
   ],
   "source": [
    "grid_RF.cv_results_"
   ]
  },
  {
   "cell_type": "code",
   "execution_count": 30,
   "metadata": {},
   "outputs": [
    {
     "name": "stdout",
     "output_type": "stream",
     "text": [
      "Tempo decorrido (min):  5.850344630082448\n"
     ]
    }
   ],
   "source": [
    "# Grid Search com algoritmo Gradient Boosting\n",
    "t0 = time.time()\n",
    "\n",
    "estimador_base = GradientBoostingRegressor()\n",
    "params_GB = {\"learning_rate\":[0.05,0.1,0.2] ,\"n_estimators\":[50,100,200], \"max_depth\":[3,5,7]}\n",
    "grid_GB = GridSearchCV (estimator = estimador_base, param_grid = params_GB, scoring = 'r2', cv = 3)\n",
    "grid_GB.fit(Xtrain, ytrain)\n",
    "\n",
    "print (\"Tempo decorrido (min): \", (time.time()-t0)/60)"
   ]
  },
  {
   "cell_type": "code",
   "execution_count": 31,
   "metadata": {},
   "outputs": [
    {
     "data": {
      "text/plain": [
       "{'learning_rate': 0.05, 'max_depth': 5, 'n_estimators': 200}"
      ]
     },
     "execution_count": 31,
     "metadata": {},
     "output_type": "execute_result"
    }
   ],
   "source": [
    "grid_GB.best_params_"
   ]
  },
  {
   "cell_type": "code",
   "execution_count": 32,
   "metadata": {},
   "outputs": [
    {
     "data": {
      "text/plain": [
       "0.7449669519088044"
      ]
     },
     "execution_count": 32,
     "metadata": {},
     "output_type": "execute_result"
    }
   ],
   "source": [
    "grid_GB.best_score_"
   ]
  },
  {
   "cell_type": "code",
   "execution_count": 33,
   "metadata": {},
   "outputs": [
    {
     "data": {
      "text/plain": [
       "{'mean_fit_time': array([ 1.0897433 ,  2.14026388,  4.38161635,  1.73534489,  3.50461706,\n",
       "         7.06313721,  2.37998414,  4.75597556,  9.66417424,  1.12168328,\n",
       "         2.21441126,  4.41386588,  2.02592921,  3.58274484,  7.07942001,\n",
       "         2.40822895,  4.89257574, 10.15384396,  1.08744836,  2.19478901,\n",
       "         4.40555501,  1.76263491,  4.00760825,  7.21671844,  2.46508026,\n",
       "         5.06279945, 10.25226935]),\n",
       " 'std_fit_time': array([0.00863277, 0.01925936, 0.05786298, 0.01174344, 0.04879391,\n",
       "        0.08191777, 0.05315639, 0.07005339, 0.09047711, 0.05831721,\n",
       "        0.06924826, 0.08045878, 0.20193936, 0.11447328, 0.08632925,\n",
       "        0.06047629, 0.09826459, 0.31952864, 0.00262534, 0.0196305 ,\n",
       "        0.09666776, 0.00728592, 0.43596221, 0.11065708, 0.07715775,\n",
       "        0.12100111, 0.33338317]),\n",
       " 'mean_score_time': array([0.00534415, 0.00831437, 0.01463095, 0.00832796, 0.0159843 ,\n",
       "        0.02357999, 0.01396092, 0.02360892, 0.03589209, 0.00465059,\n",
       "        0.00731389, 0.01263269, 0.0086418 , 0.01196774, 0.01994435,\n",
       "        0.01229954, 0.0196147 , 0.03491735, 0.00430989, 0.0066487 ,\n",
       "        0.01063816, 0.00664639, 0.01097163, 0.01895348, 0.00930278,\n",
       "        0.0162762 , 0.02892208]),\n",
       " 'std_score_time': array([4.54358885e-04, 4.67850522e-04, 4.73008454e-04, 4.64118412e-04,\n",
       "        1.41926743e-03, 4.80723688e-04, 5.45880787e-06, 4.74076745e-04,\n",
       "        1.74217850e-05, 4.72888131e-04, 4.70247445e-04, 4.70246800e-04,\n",
       "        9.36615371e-04, 2.24783192e-07, 8.17509932e-04, 4.69178728e-04,\n",
       "        1.69529506e-03, 7.04477333e-03, 4.78165247e-04, 4.70639818e-04,\n",
       "        4.70134046e-04, 4.67494070e-04, 8.13420377e-04, 8.15764753e-04,\n",
       "        4.70947986e-04, 1.25203947e-03, 1.41124717e-03]),\n",
       " 'param_learning_rate': masked_array(data=[0.05, 0.05, 0.05, 0.05, 0.05, 0.05, 0.05, 0.05, 0.05,\n",
       "                    0.1, 0.1, 0.1, 0.1, 0.1, 0.1, 0.1, 0.1, 0.1, 0.2, 0.2,\n",
       "                    0.2, 0.2, 0.2, 0.2, 0.2, 0.2, 0.2],\n",
       "              mask=[False, False, False, False, False, False, False, False,\n",
       "                    False, False, False, False, False, False, False, False,\n",
       "                    False, False, False, False, False, False, False, False,\n",
       "                    False, False, False],\n",
       "        fill_value='?',\n",
       "             dtype=object),\n",
       " 'param_max_depth': masked_array(data=[3, 3, 3, 5, 5, 5, 7, 7, 7, 3, 3, 3, 5, 5, 5, 7, 7, 7,\n",
       "                    3, 3, 3, 5, 5, 5, 7, 7, 7],\n",
       "              mask=[False, False, False, False, False, False, False, False,\n",
       "                    False, False, False, False, False, False, False, False,\n",
       "                    False, False, False, False, False, False, False, False,\n",
       "                    False, False, False],\n",
       "        fill_value='?',\n",
       "             dtype=object),\n",
       " 'param_n_estimators': masked_array(data=[50, 100, 200, 50, 100, 200, 50, 100, 200, 50, 100, 200,\n",
       "                    50, 100, 200, 50, 100, 200, 50, 100, 200, 50, 100, 200,\n",
       "                    50, 100, 200],\n",
       "              mask=[False, False, False, False, False, False, False, False,\n",
       "                    False, False, False, False, False, False, False, False,\n",
       "                    False, False, False, False, False, False, False, False,\n",
       "                    False, False, False],\n",
       "        fill_value='?',\n",
       "             dtype=object),\n",
       " 'params': [{'learning_rate': 0.05, 'max_depth': 3, 'n_estimators': 50},\n",
       "  {'learning_rate': 0.05, 'max_depth': 3, 'n_estimators': 100},\n",
       "  {'learning_rate': 0.05, 'max_depth': 3, 'n_estimators': 200},\n",
       "  {'learning_rate': 0.05, 'max_depth': 5, 'n_estimators': 50},\n",
       "  {'learning_rate': 0.05, 'max_depth': 5, 'n_estimators': 100},\n",
       "  {'learning_rate': 0.05, 'max_depth': 5, 'n_estimators': 200},\n",
       "  {'learning_rate': 0.05, 'max_depth': 7, 'n_estimators': 50},\n",
       "  {'learning_rate': 0.05, 'max_depth': 7, 'n_estimators': 100},\n",
       "  {'learning_rate': 0.05, 'max_depth': 7, 'n_estimators': 200},\n",
       "  {'learning_rate': 0.1, 'max_depth': 3, 'n_estimators': 50},\n",
       "  {'learning_rate': 0.1, 'max_depth': 3, 'n_estimators': 100},\n",
       "  {'learning_rate': 0.1, 'max_depth': 3, 'n_estimators': 200},\n",
       "  {'learning_rate': 0.1, 'max_depth': 5, 'n_estimators': 50},\n",
       "  {'learning_rate': 0.1, 'max_depth': 5, 'n_estimators': 100},\n",
       "  {'learning_rate': 0.1, 'max_depth': 5, 'n_estimators': 200},\n",
       "  {'learning_rate': 0.1, 'max_depth': 7, 'n_estimators': 50},\n",
       "  {'learning_rate': 0.1, 'max_depth': 7, 'n_estimators': 100},\n",
       "  {'learning_rate': 0.1, 'max_depth': 7, 'n_estimators': 200},\n",
       "  {'learning_rate': 0.2, 'max_depth': 3, 'n_estimators': 50},\n",
       "  {'learning_rate': 0.2, 'max_depth': 3, 'n_estimators': 100},\n",
       "  {'learning_rate': 0.2, 'max_depth': 3, 'n_estimators': 200},\n",
       "  {'learning_rate': 0.2, 'max_depth': 5, 'n_estimators': 50},\n",
       "  {'learning_rate': 0.2, 'max_depth': 5, 'n_estimators': 100},\n",
       "  {'learning_rate': 0.2, 'max_depth': 5, 'n_estimators': 200},\n",
       "  {'learning_rate': 0.2, 'max_depth': 7, 'n_estimators': 50},\n",
       "  {'learning_rate': 0.2, 'max_depth': 7, 'n_estimators': 100},\n",
       "  {'learning_rate': 0.2, 'max_depth': 7, 'n_estimators': 200}],\n",
       " 'split0_test_score': array([0.69543089, 0.729517  , 0.73994646, 0.73153301, 0.74897399,\n",
       "        0.74989804, 0.73796795, 0.74593983, 0.74480199, 0.73037338,\n",
       "        0.74047461, 0.74311071, 0.74746879, 0.75015769, 0.74518816,\n",
       "        0.74471312, 0.74389445, 0.73893325, 0.73698783, 0.7382062 ,\n",
       "        0.73888122, 0.74617155, 0.73941634, 0.73433478, 0.74200545,\n",
       "        0.73330574, 0.72988841]),\n",
       " 'split1_test_score': array([0.67731885, 0.7138111 , 0.72421928, 0.71841536, 0.73911794,\n",
       "        0.74032079, 0.72546264, 0.73668216, 0.73600768, 0.71499534,\n",
       "        0.72405224, 0.72869277, 0.73790523, 0.73790134, 0.73683471,\n",
       "        0.73557497, 0.73597129, 0.73212204, 0.72071155, 0.72407005,\n",
       "        0.72615622, 0.73537862, 0.73272926, 0.725333  , 0.73112592,\n",
       "        0.7267357 , 0.7226929 ]),\n",
       " 'split2_test_score': array([0.6881188 , 0.72065936, 0.73014443, 0.72602018, 0.74235621,\n",
       "        0.74468203, 0.73359663, 0.74135838, 0.73973685, 0.72192026,\n",
       "        0.72844115, 0.73332806, 0.74214292, 0.74385885, 0.74319635,\n",
       "        0.73757768, 0.73574678, 0.73223855, 0.72626153, 0.73173027,\n",
       "        0.73693664, 0.73683599, 0.73392554, 0.72765645, 0.72901621,\n",
       "        0.72342386, 0.71890689]),\n",
       " 'mean_test_score': array([0.68695618, 0.72132915, 0.73143672, 0.72532285, 0.74348271,\n",
       "        0.74496695, 0.73234241, 0.74132679, 0.74018218, 0.72242966,\n",
       "        0.73098933, 0.73504385, 0.74250564, 0.74397263, 0.74173974,\n",
       "        0.73928859, 0.73853751, 0.73443128, 0.72798697, 0.73133551,\n",
       "        0.73399136, 0.73946205, 0.73535704, 0.72910808, 0.73404919,\n",
       "        0.72782177, 0.7238294 ]),\n",
       " 'std_test_score': array([0.00743977, 0.00642938, 0.0064853 , 0.00537791, 0.0041018 ,\n",
       "        0.00391508, 0.00518173, 0.0037795 , 0.00360405, 0.00628838,\n",
       "        0.00694231, 0.00600984, 0.00391272, 0.00500428, 0.00356243,\n",
       "        0.00392189, 0.00378904, 0.00318373, 0.00675585, 0.0057778 ,\n",
       "        0.00559687, 0.00478149, 0.00291161, 0.00381562, 0.00569147,\n",
       "        0.00410671, 0.00455464]),\n",
       " 'rank_test_score': array([27, 26, 17, 23,  3,  1, 16,  6,  7, 25, 19, 12,  4,  2,  5,  9, 10,\n",
       "        13, 21, 18, 15,  8, 11, 20, 14, 22, 24])}"
      ]
     },
     "execution_count": 33,
     "metadata": {},
     "output_type": "execute_result"
    }
   ],
   "source": [
    "grid_GB.cv_results_"
   ]
  },
  {
   "cell_type": "code",
   "execution_count": null,
   "metadata": {},
   "outputs": [],
   "source": []
  },
  {
   "cell_type": "markdown",
   "metadata": {},
   "source": [
    "__Exercício 2:__ Crie uma classe para comparar o grid_search dentre vários modelos distintos.\n",
    "    \n",
    "    \n",
    "Essa classe, gridSearchAll(), já está pré-desenvolvida no código abaixo. O exercício consiste de __completar essa classe.__ Para isso, crie o métodos fit_all, que irá treinar, usando grid_search, todos os grids que tenham sido pré-construídos e inseridos na classe.\n",
    "Ainda, a quantidade de folds para a validação cruzada no grid_search deve ser implementada no método construtor da classe, bem como qual a métrica de performance a ser avaliada. \n",
    "Finalmente, salve o melhor modelo de cada grid e tenha um método best_all_grid_models que retorna o melhor modelo dentre todos os grids."
   ]
  },
  {
   "cell_type": "code",
   "execution_count": 34,
   "metadata": {},
   "outputs": [],
   "source": [
    "class gridSearchAll():\n",
    "    \n",
    "    def __init__(self, num_folds, scoring):\n",
    "        self.grid_models = []\n",
    "        self.scoring = scoring\n",
    "        self.num_folds = num_folds\n",
    "            \n",
    "    def insert_model(self, estimator_base, param_grid):\n",
    "        self.grid_models.append([estimator_base, param_grid])\n",
    "        \n",
    "    def fit_all(self, X, y):\n",
    "        self.bestAll = []\n",
    "        for models in self.grid_models:\n",
    "            grid = GridSearchCV (estimator=models[0], param_grid = models[1], scoring = self.scoring, cv = self.num_folds)\n",
    "            grid.fit(X,y)\n",
    "            self.bestAll.append([grid.best_estimator_, grid.best_score_])\n",
    "    \n",
    "    def best_all_grid_models(self):\n",
    "        best_score = 0\n",
    "        for i in self.bestAll:\n",
    "            if i[1] > best_score:\n",
    "                best_index = self.bestAll.index(i)\n",
    "                best_score = i[1]\n",
    "                \n",
    "        self.best_estimator = self.bestAll[best_index][0]\n",
    "        self.best_score = self.bestAll[best_index][1]\n",
    "        \n",
    "        print (\"Melhor modelo: \", self.best_estimator)\n",
    "        print (\"Melhor score: \", self.best_score)                "
   ]
  },
  {
   "cell_type": "code",
   "execution_count": 35,
   "metadata": {},
   "outputs": [],
   "source": [
    "gd = gridSearchAll(num_folds = 3, scoring = 'r2')"
   ]
  },
  {
   "cell_type": "code",
   "execution_count": 36,
   "metadata": {},
   "outputs": [
    {
     "data": {
      "text/plain": [
       "[]"
      ]
     },
     "execution_count": 36,
     "metadata": {},
     "output_type": "execute_result"
    }
   ],
   "source": [
    "gd.grid_models"
   ]
  },
  {
   "cell_type": "code",
   "execution_count": 37,
   "metadata": {},
   "outputs": [],
   "source": [
    "params_RF = {\"n_estimators\":[10,1000], \"max_depth\":[2,10]}"
   ]
  },
  {
   "cell_type": "code",
   "execution_count": 38,
   "metadata": {},
   "outputs": [],
   "source": [
    "gd.insert_model(estimator_base = RandomForestRegressor(), param_grid = params_RF)"
   ]
  },
  {
   "cell_type": "code",
   "execution_count": 39,
   "metadata": {},
   "outputs": [
    {
     "data": {
      "text/plain": [
       "[[RandomForestRegressor(), {'n_estimators': [10, 1000], 'max_depth': [2, 10]}]]"
      ]
     },
     "execution_count": 39,
     "metadata": {},
     "output_type": "execute_result"
    }
   ],
   "source": [
    "gd.grid_models"
   ]
  },
  {
   "cell_type": "code",
   "execution_count": 40,
   "metadata": {},
   "outputs": [],
   "source": [
    "gd.insert_model(estimator_base = KNeighborsRegressor(), param_grid = {\"n_neighbors\":[1,2,10]})"
   ]
  },
  {
   "cell_type": "code",
   "execution_count": 41,
   "metadata": {},
   "outputs": [
    {
     "data": {
      "text/plain": [
       "[[RandomForestRegressor(), {'n_estimators': [10, 1000], 'max_depth': [2, 10]}],\n",
       " [KNeighborsRegressor(), {'n_neighbors': [1, 2, 10]}]]"
      ]
     },
     "execution_count": 41,
     "metadata": {},
     "output_type": "execute_result"
    }
   ],
   "source": [
    "gd.grid_models"
   ]
  },
  {
   "cell_type": "code",
   "execution_count": 42,
   "metadata": {},
   "outputs": [],
   "source": [
    "gd.fit_all(Xtrain, ytrain)"
   ]
  },
  {
   "cell_type": "code",
   "execution_count": 43,
   "metadata": {},
   "outputs": [
    {
     "name": "stdout",
     "output_type": "stream",
     "text": [
      "Melhor modelo:  RandomForestRegressor(max_depth=10, n_estimators=1000)\n",
      "Melhor score:  0.7388682147352504\n"
     ]
    }
   ],
   "source": [
    "gd.best_all_grid_models()"
   ]
  },
  {
   "cell_type": "markdown",
   "metadata": {},
   "source": [
    "__Exercício 3:__ Usando a classe criada, analise novamente os modelos criados no exercício 1."
   ]
  },
  {
   "cell_type": "code",
   "execution_count": 44,
   "metadata": {},
   "outputs": [],
   "source": [
    "gd1 = gridSearchAll(num_folds = 3, scoring = 'r2')\n",
    "params_KNN = {'n_neighbors':[5,10,20,30]}\n",
    "params_RF = {\"n_estimators\":[50,100,200], \"max_depth\":[6,10,20],\"max_features\":[\"auto\"]}\n",
    "params_GB = {\"learning_rate\":[0.05,0.1,0.2] ,\"n_estimators\":[50,100,200], \"max_depth\":[3,5,7]}\n",
    "\n",
    "gd1.insert_model(estimator_base = KNeighborsRegressor(), param_grid = params_KNN)\n",
    "gd1.insert_model(estimator_base = RandomForestRegressor(), param_grid = params_RF)\n",
    "gd1.insert_model(estimator_base = GradientBoostingRegressor(), param_grid = params_GB)"
   ]
  },
  {
   "cell_type": "code",
   "execution_count": 45,
   "metadata": {},
   "outputs": [],
   "source": [
    "gd1.fit_all(Xtrain, ytrain)"
   ]
  },
  {
   "cell_type": "code",
   "execution_count": 46,
   "metadata": {},
   "outputs": [
    {
     "name": "stdout",
     "output_type": "stream",
     "text": [
      "Melhor modelo:  GradientBoostingRegressor(learning_rate=0.05, max_depth=5, n_estimators=200)\n",
      "Melhor score:  0.7448811377576822\n"
     ]
    }
   ],
   "source": [
    "gd1.best_all_grid_models()"
   ]
  },
  {
   "cell_type": "code",
   "execution_count": null,
   "metadata": {},
   "outputs": [],
   "source": []
  }
 ],
 "metadata": {
  "kernelspec": {
   "display_name": "Python 3",
   "language": "python",
   "name": "python3"
  },
  "language_info": {
   "codemirror_mode": {
    "name": "ipython",
    "version": 3
   },
   "file_extension": ".py",
   "mimetype": "text/x-python",
   "name": "python",
   "nbconvert_exporter": "python",
   "pygments_lexer": "ipython3",
   "version": "3.8.8"
  }
 },
 "nbformat": 4,
 "nbformat_minor": 2
}
